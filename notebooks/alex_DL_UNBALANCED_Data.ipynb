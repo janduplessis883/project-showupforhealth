{
 "cells": [
  {
   "cell_type": "markdown",
   "id": "facdf608",
   "metadata": {},
   "source": [
    "### Imports and load the data"
   ]
  },
  {
   "cell_type": "code",
   "execution_count": 12,
   "id": "cac5d761",
   "metadata": {
    "scrolled": true
   },
   "outputs": [],
   "source": [
    "from showupforhealth.utils import perform_train_test_split, oversample_with_smote\n",
    "from sklearn.preprocessing import StandardScaler, MinMaxScaler\n",
    "from sklearn.model_selection import cross_val_score\n",
    "import matplotlib.pyplot as plt\n",
    "import pandas as pd\n",
    "pd.set_option('display.max_columns', 40)\n",
    "import numpy as np\n",
    "from imblearn.over_sampling import SMOTE\n",
    "import time\n",
    "from tensorflow.keras import Sequential, layers\n",
    "from tensorflow.keras.callbacks import EarlyStopping, TensorBoard\n",
    "from tensorflow.keras.metrics import Recall\n",
    "import tensorflow as tf\n",
    "from sklearn.metrics import classification_report, confusion_matrix, f1_score\n",
    "import seaborn as sns\n",
    "import keras_tuner as kt\n",
    "from showupforhealth.ml_functions.predict import make_predict\n",
    "from showupforhealth.utils import fit_scaler, transform_data\n",
    "import datetime\n",
    "from sklearn.model_selection import train_test_split"
   ]
  },
  {
   "cell_type": "markdown",
   "id": "b7d293eb",
   "metadata": {},
   "source": [
    "# DL model"
   ]
  },
  {
   "cell_type": "markdown",
   "id": "ea3e7d93",
   "metadata": {},
   "source": [
    "### Load and shuffle the data"
   ]
  },
  {
   "cell_type": "code",
   "execution_count": 13,
   "id": "ac37abab",
   "metadata": {},
   "outputs": [],
   "source": [
    "data = pd.read_csv('/Users/alessio/code/janduplessis883/data-showup/data/output-data/full_train_data.csv').sample(frac = 1)"
   ]
  },
  {
   "cell_type": "code",
   "execution_count": 14,
   "id": "0b237daa",
   "metadata": {},
   "outputs": [
    {
     "data": {
      "text/html": [
       "<div>\n",
       "<style scoped>\n",
       "    .dataframe tbody tr th:only-of-type {\n",
       "        vertical-align: middle;\n",
       "    }\n",
       "\n",
       "    .dataframe tbody tr th {\n",
       "        vertical-align: top;\n",
       "    }\n",
       "\n",
       "    .dataframe thead th {\n",
       "        text-align: right;\n",
       "    }\n",
       "</style>\n",
       "<table border=\"1\" class=\"dataframe\">\n",
       "  <thead>\n",
       "    <tr style=\"text-align: right;\">\n",
       "      <th></th>\n",
       "      <th>Appointment_status</th>\n",
       "      <th>Patient ID</th>\n",
       "      <th>temp</th>\n",
       "      <th>precipitation</th>\n",
       "      <th>Age</th>\n",
       "      <th>Sex</th>\n",
       "      <th>FRAILTY</th>\n",
       "      <th>DEPRESSION</th>\n",
       "      <th>OBESITY</th>\n",
       "      <th>IHD</th>\n",
       "      <th>DM</th>\n",
       "      <th>HPT</th>\n",
       "      <th>NDHG</th>\n",
       "      <th>SMI</th>\n",
       "      <th>IMD2023</th>\n",
       "      <th>dist_to_station</th>\n",
       "      <th>distance_to_surg</th>\n",
       "      <th>book_to_app_days</th>\n",
       "      <th>booked_by_clinician</th>\n",
       "      <th>registered_for_months</th>\n",
       "      <th>sin_week</th>\n",
       "      <th>cos_week</th>\n",
       "      <th>sin_Appointment_time</th>\n",
       "      <th>cos_Appointment_time</th>\n",
       "      <th>sin_month</th>\n",
       "      <th>cos_month</th>\n",
       "      <th>sin_day_of_week</th>\n",
       "      <th>cos_day_of_week</th>\n",
       "      <th>No_shows</th>\n",
       "      <th>Rota_ARRS</th>\n",
       "      <th>Rota_GP</th>\n",
       "      <th>Rota_HCA</th>\n",
       "      <th>Rota_Nurse</th>\n",
       "      <th>Ethnicity_Asian</th>\n",
       "      <th>Ethnicity_Black</th>\n",
       "      <th>Ethnicity_Mixed</th>\n",
       "      <th>Ethnicity_Other</th>\n",
       "      <th>Ethnicity_White</th>\n",
       "    </tr>\n",
       "  </thead>\n",
       "  <tbody>\n",
       "    <tr>\n",
       "      <th>592565</th>\n",
       "      <td>1.0</td>\n",
       "      <td>49720704.0</td>\n",
       "      <td>5.6</td>\n",
       "      <td>0.0</td>\n",
       "      <td>71.0</td>\n",
       "      <td>0.0</td>\n",
       "      <td>0.14</td>\n",
       "      <td>1.0</td>\n",
       "      <td>0.0</td>\n",
       "      <td>0.0</td>\n",
       "      <td>0.0</td>\n",
       "      <td>0.0</td>\n",
       "      <td>0.0</td>\n",
       "      <td>0.0</td>\n",
       "      <td>12935.0</td>\n",
       "      <td>0.503645</td>\n",
       "      <td>1.166410</td>\n",
       "      <td>0.0</td>\n",
       "      <td>0.0</td>\n",
       "      <td>10.0</td>\n",
       "      <td>-0.568065</td>\n",
       "      <td>0.822984</td>\n",
       "      <td>-0.965926</td>\n",
       "      <td>-0.258819</td>\n",
       "      <td>-0.5</td>\n",
       "      <td>0.866025</td>\n",
       "      <td>0.000000</td>\n",
       "      <td>1.000000</td>\n",
       "      <td>14.0</td>\n",
       "      <td>0.0</td>\n",
       "      <td>1.0</td>\n",
       "      <td>0.0</td>\n",
       "      <td>0.0</td>\n",
       "      <td>0.0</td>\n",
       "      <td>0.0</td>\n",
       "      <td>0.0</td>\n",
       "      <td>1.0</td>\n",
       "      <td>0.0</td>\n",
       "    </tr>\n",
       "    <tr>\n",
       "      <th>517589</th>\n",
       "      <td>0.0</td>\n",
       "      <td>47485383.0</td>\n",
       "      <td>15.6</td>\n",
       "      <td>0.0</td>\n",
       "      <td>76.0</td>\n",
       "      <td>1.0</td>\n",
       "      <td>0.17</td>\n",
       "      <td>0.0</td>\n",
       "      <td>0.0</td>\n",
       "      <td>0.0</td>\n",
       "      <td>1.0</td>\n",
       "      <td>1.0</td>\n",
       "      <td>0.0</td>\n",
       "      <td>0.0</td>\n",
       "      <td>12666.0</td>\n",
       "      <td>0.150116</td>\n",
       "      <td>1.816196</td>\n",
       "      <td>8.0</td>\n",
       "      <td>0.0</td>\n",
       "      <td>20.0</td>\n",
       "      <td>0.568065</td>\n",
       "      <td>-0.822984</td>\n",
       "      <td>-0.707107</td>\n",
       "      <td>-0.707107</td>\n",
       "      <td>0.5</td>\n",
       "      <td>-0.866025</td>\n",
       "      <td>0.974928</td>\n",
       "      <td>-0.222521</td>\n",
       "      <td>4.0</td>\n",
       "      <td>1.0</td>\n",
       "      <td>0.0</td>\n",
       "      <td>0.0</td>\n",
       "      <td>0.0</td>\n",
       "      <td>0.0</td>\n",
       "      <td>0.0</td>\n",
       "      <td>1.0</td>\n",
       "      <td>0.0</td>\n",
       "      <td>0.0</td>\n",
       "    </tr>\n",
       "    <tr>\n",
       "      <th>168958</th>\n",
       "      <td>1.0</td>\n",
       "      <td>27094130.0</td>\n",
       "      <td>21.2</td>\n",
       "      <td>0.0</td>\n",
       "      <td>7.0</td>\n",
       "      <td>1.0</td>\n",
       "      <td>0.00</td>\n",
       "      <td>0.0</td>\n",
       "      <td>0.0</td>\n",
       "      <td>0.0</td>\n",
       "      <td>0.0</td>\n",
       "      <td>0.0</td>\n",
       "      <td>0.0</td>\n",
       "      <td>0.0</td>\n",
       "      <td>25448.0</td>\n",
       "      <td>0.497369</td>\n",
       "      <td>2.955201</td>\n",
       "      <td>0.0</td>\n",
       "      <td>0.0</td>\n",
       "      <td>14.0</td>\n",
       "      <td>-0.120537</td>\n",
       "      <td>-0.992709</td>\n",
       "      <td>0.707107</td>\n",
       "      <td>-0.707107</td>\n",
       "      <td>-0.5</td>\n",
       "      <td>-0.866025</td>\n",
       "      <td>-0.433884</td>\n",
       "      <td>-0.900969</td>\n",
       "      <td>0.0</td>\n",
       "      <td>0.0</td>\n",
       "      <td>1.0</td>\n",
       "      <td>0.0</td>\n",
       "      <td>0.0</td>\n",
       "      <td>0.0</td>\n",
       "      <td>0.0</td>\n",
       "      <td>0.0</td>\n",
       "      <td>1.0</td>\n",
       "      <td>0.0</td>\n",
       "    </tr>\n",
       "  </tbody>\n",
       "</table>\n",
       "</div>"
      ],
      "text/plain": [
       "        Appointment_status  Patient ID  temp  precipitation   Age  Sex  \\\n",
       "592565                 1.0  49720704.0   5.6            0.0  71.0  0.0   \n",
       "517589                 0.0  47485383.0  15.6            0.0  76.0  1.0   \n",
       "168958                 1.0  27094130.0  21.2            0.0   7.0  1.0   \n",
       "\n",
       "        FRAILTY  DEPRESSION  OBESITY  IHD   DM  HPT  NDHG  SMI  IMD2023  \\\n",
       "592565     0.14         1.0      0.0  0.0  0.0  0.0   0.0  0.0  12935.0   \n",
       "517589     0.17         0.0      0.0  0.0  1.0  1.0   0.0  0.0  12666.0   \n",
       "168958     0.00         0.0      0.0  0.0  0.0  0.0   0.0  0.0  25448.0   \n",
       "\n",
       "        dist_to_station  distance_to_surg  book_to_app_days  \\\n",
       "592565         0.503645          1.166410               0.0   \n",
       "517589         0.150116          1.816196               8.0   \n",
       "168958         0.497369          2.955201               0.0   \n",
       "\n",
       "        booked_by_clinician  registered_for_months  sin_week  cos_week  \\\n",
       "592565                  0.0                   10.0 -0.568065  0.822984   \n",
       "517589                  0.0                   20.0  0.568065 -0.822984   \n",
       "168958                  0.0                   14.0 -0.120537 -0.992709   \n",
       "\n",
       "        sin_Appointment_time  cos_Appointment_time  sin_month  cos_month  \\\n",
       "592565             -0.965926             -0.258819       -0.5   0.866025   \n",
       "517589             -0.707107             -0.707107        0.5  -0.866025   \n",
       "168958              0.707107             -0.707107       -0.5  -0.866025   \n",
       "\n",
       "        sin_day_of_week  cos_day_of_week  No_shows  Rota_ARRS  Rota_GP  \\\n",
       "592565         0.000000         1.000000      14.0        0.0      1.0   \n",
       "517589         0.974928        -0.222521       4.0        1.0      0.0   \n",
       "168958        -0.433884        -0.900969       0.0        0.0      1.0   \n",
       "\n",
       "        Rota_HCA  Rota_Nurse  Ethnicity_Asian  Ethnicity_Black  \\\n",
       "592565       0.0         0.0              0.0              0.0   \n",
       "517589       0.0         0.0              0.0              0.0   \n",
       "168958       0.0         0.0              0.0              0.0   \n",
       "\n",
       "        Ethnicity_Mixed  Ethnicity_Other  Ethnicity_White  \n",
       "592565              0.0              1.0              0.0  \n",
       "517589              1.0              0.0              0.0  \n",
       "168958              0.0              1.0              0.0  "
      ]
     },
     "execution_count": 14,
     "metadata": {},
     "output_type": "execute_result"
    }
   ],
   "source": [
    "data.head(3)"
   ]
  },
  {
   "cell_type": "code",
   "execution_count": 15,
   "id": "69043168",
   "metadata": {},
   "outputs": [
    {
     "data": {
      "text/plain": [
       "(21909, 38)"
      ]
     },
     "execution_count": 15,
     "metadata": {},
     "output_type": "execute_result"
    }
   ],
   "source": [
    "data_DNA = data[data['Appointment_status']==0]\n",
    "data_DNA.shape"
   ]
  },
  {
   "cell_type": "code",
   "execution_count": 16,
   "id": "7be7f588",
   "metadata": {},
   "outputs": [
    {
     "data": {
      "text/plain": [
       "(21909, 38)"
      ]
     },
     "execution_count": 16,
     "metadata": {},
     "output_type": "execute_result"
    }
   ],
   "source": [
    "data_NOT_DNA = data[data['Appointment_status']==1].sample(21909)\n",
    "data_NOT_DNA.shape"
   ]
  },
  {
   "cell_type": "code",
   "execution_count": 17,
   "id": "7270fa71",
   "metadata": {},
   "outputs": [
    {
     "data": {
      "text/plain": [
       "1.0    21909\n",
       "0.0    21909\n",
       "Name: Appointment_status, dtype: int64"
      ]
     },
     "execution_count": 17,
     "metadata": {},
     "output_type": "execute_result"
    }
   ],
   "source": [
    "data_balanced = pd.concat([data_DNA, data_NOT_DNA]).sample(frac = 1)\n",
    "data_balanced['Appointment_status'].value_counts()"
   ]
  },
  {
   "cell_type": "markdown",
   "id": "71f51789",
   "metadata": {},
   "source": [
    "### Split in X and y"
   ]
  },
  {
   "cell_type": "code",
   "execution_count": 18,
   "id": "00e1fdec",
   "metadata": {},
   "outputs": [],
   "source": [
    "X = data_balanced.drop(columns=['Appointment_status', 'Patient ID'])\n",
    "y = data_balanced['Appointment_status']"
   ]
  },
  {
   "cell_type": "markdown",
   "id": "6ab93f99",
   "metadata": {
    "heading_collapsed": true
   },
   "source": [
    "### Baseline accuracy"
   ]
  },
  {
   "cell_type": "code",
   "execution_count": 19,
   "id": "42808fab",
   "metadata": {
    "hidden": true,
    "scrolled": true
   },
   "outputs": [
    {
     "name": "stdout",
     "output_type": "stream",
     "text": [
      "The baseline accuracy if we assume that all patients will show-up is 0.5\n"
     ]
    }
   ],
   "source": [
    "print(f'The baseline accuracy if we assume that all patients will show-up is {y.value_counts()[1] / X.shape[0]}')"
   ]
  },
  {
   "cell_type": "markdown",
   "id": "fb9c0122",
   "metadata": {},
   "source": [
    "### Split in Train and Test"
   ]
  },
  {
   "cell_type": "code",
   "execution_count": 20,
   "id": "a3e9c9f5",
   "metadata": {
    "scrolled": true
   },
   "outputs": [],
   "source": [
    "X_train, X_test, y_train, y_test = train_test_split(X, y, test_size=0.1, random_state=42)"
   ]
  },
  {
   "cell_type": "markdown",
   "id": "aeb4696c",
   "metadata": {},
   "source": [
    "### Split Train and Validation"
   ]
  },
  {
   "cell_type": "code",
   "execution_count": 21,
   "id": "8b1eb920",
   "metadata": {},
   "outputs": [],
   "source": [
    "X_train_val, X_val, y_train_val, y_val = train_test_split(X_train, y_train, test_size=0.09, random_state=42)"
   ]
  },
  {
   "cell_type": "markdown",
   "id": "756ff8d0",
   "metadata": {},
   "source": [
    "### Global Scaler"
   ]
  },
  {
   "cell_type": "code",
   "execution_count": 22,
   "id": "6ae44bdc",
   "metadata": {},
   "outputs": [],
   "source": [
    "global_scaler = fit_scaler(X_train_val)"
   ]
  },
  {
   "cell_type": "code",
   "execution_count": 23,
   "id": "9b0dea7f",
   "metadata": {},
   "outputs": [],
   "source": [
    "# # Save Scaler\n",
    "# from pickle import dump\n",
    "# dump(global_scaler, open('scaler_alex.pkl', 'wb'))"
   ]
  },
  {
   "cell_type": "code",
   "execution_count": 24,
   "id": "aacf0844",
   "metadata": {},
   "outputs": [],
   "source": [
    "X_train_val_scaled = transform_data(X_train_val, global_scaler)\n",
    "X_val_scaled = transform_data(X_val, global_scaler)\n",
    "X_test_scaled = transform_data(X_test, global_scaler)"
   ]
  },
  {
   "cell_type": "markdown",
   "id": "242af3f9",
   "metadata": {
    "heading_collapsed": true
   },
   "source": [
    "### Smote"
   ]
  },
  {
   "cell_type": "code",
   "execution_count": 25,
   "id": "99a95162",
   "metadata": {
    "hidden": true
   },
   "outputs": [],
   "source": [
    "# X_train_smote, y_train_smote = oversample_with_smote(X_train_val_scaled, y_train_val)\n",
    "# y_train_smote.value_counts()"
   ]
  },
  {
   "cell_type": "markdown",
   "id": "9a491949",
   "metadata": {},
   "source": [
    "### Define Metrics"
   ]
  },
  {
   "cell_type": "code",
   "execution_count": 28,
   "id": "807373e0",
   "metadata": {},
   "outputs": [],
   "source": [
    "metrics = [tf.keras.metrics.BinaryAccuracy(name='accuracy'),\n",
    "          tf.keras.metrics.Recall(name='recall'),\n",
    "          tf.keras.metrics.Precision(name='precision'),\n",
    "          tf.keras.metrics.AUC(name='auc'),\n",
    "          tf.keras.metrics.AUC(curve='PR', name='auc-pr')]"
   ]
  },
  {
   "cell_type": "markdown",
   "id": "53709429",
   "metadata": {
    "heading_collapsed": true
   },
   "source": [
    "# Model"
   ]
  },
  {
   "cell_type": "markdown",
   "id": "41a81935",
   "metadata": {
    "hidden": true
   },
   "source": [
    "### Model 1"
   ]
  },
  {
   "cell_type": "code",
   "execution_count": 47,
   "id": "d05aa455",
   "metadata": {
    "hidden": true,
    "scrolled": true
   },
   "outputs": [
    {
     "name": "stderr",
     "output_type": "stream",
     "text": [
      "\n",
      "KeyboardInterrupt\n",
      "\n"
     ]
    }
   ],
   "source": [
    "%%time\n",
    "model_one = Sequential()\n",
    "es = EarlyStopping(patience=10, monitor='val_accuracy', restore_best_weights=True)\n",
    "\n",
    "model_one.add(layers.Dense(112, activation='relu', input_dim=X.shape[1]))\n",
    "model_one.add(layers.Dropout(0.2))\n",
    "model_one.add(layers.Dense(32, activation='relu'))\n",
    "model_one.add(layers.Dense(1, activation='sigmoid'))\n",
    "\n",
    "adam = tf.keras.optimizers.Adam(learning_rate=0.001)\n",
    "model_one.compile(loss='binary_crossentropy', optimizer=adam, metrics=metrics)\n",
    "\n",
    "history_one = model_one.fit(X_train_val, y_train_val, validation_data=(X_val, y_val),\n",
    "                    batch_size=32,\n",
    "                    epochs=300,\n",
    "                    shuffle=True,\n",
    "                    verbose=0,\n",
    "                    callbacks=[es])\n",
    "\n",
    "results = model_one.evaluate(X_test_scaled, y_test)\n",
    "print(f'Model {model_one.metrics_names[0]} is {results[0]}')\n",
    "print(f'Model {model_one.metrics_names[1]} is {results[1]}')\n",
    "print(f'Model {model_one.metrics_names[2]} is {results[2]}')\n",
    "print(f'Model {model_one.metrics_names[3]} is {results[3]}')\n",
    "print(f'Model {model_one.metrics_names[4]} is {results[4]}')"
   ]
  },
  {
   "cell_type": "code",
   "execution_count": 48,
   "id": "20b14bd2",
   "metadata": {
    "hidden": true
   },
   "outputs": [
    {
     "name": "stderr",
     "output_type": "stream",
     "text": [
      "\n",
      "KeyboardInterrupt\n",
      "\n"
     ]
    }
   ],
   "source": [
    "model_one_pred = model_one.predict(X_test_scaled)\n",
    "model_one_pred = (model_one_pred > 0.5).astype(np.float32)\n",
    "model_one_pred"
   ]
  },
  {
   "cell_type": "code",
   "execution_count": null,
   "id": "608e9786",
   "metadata": {
    "hidden": true
   },
   "outputs": [],
   "source": [
    "confusion = confusion_matrix(y_test, model_one_pred)\n",
    "plt.figure(figsize=(8, 6))\n",
    "sns.heatmap(confusion, annot=True, fmt='d', cmap='Blues', cbar=False,\n",
    "            xticklabels=['Class 0', 'Class 1'], yticklabels=['Class 0', 'Class 1'])\n",
    "plt.xlabel('Predicted')\n",
    "plt.ylabel('True')\n",
    "plt.title('Confusion Matrix')\n",
    "plt.show()\n"
   ]
  },
  {
   "cell_type": "code",
   "execution_count": null,
   "id": "9a5f357a",
   "metadata": {
    "hidden": true
   },
   "outputs": [],
   "source": [
    "plot_loss_precision_recall_curve(history_one)"
   ]
  },
  {
   "cell_type": "markdown",
   "id": "95802f55",
   "metadata": {
    "heading_collapsed": true,
    "hidden": true
   },
   "source": [
    "### Plot curves function"
   ]
  },
  {
   "cell_type": "code",
   "execution_count": null,
   "id": "ed95fee4",
   "metadata": {
    "hidden": true
   },
   "outputs": [],
   "source": [
    "def plot_loss_precision_recall_curve(history):\n",
    "    fig, ax = plt.subplots(2, 2, figsize=(15, 10))\n",
    "\n",
    "        # --- ACCURACY \n",
    "    ax[1, 0].plot(history.history['accuracy'], color=\"#a10606\")\n",
    "    ax[1, 0].plot(history.history['val_accuracy'], color=\"#1b5743\")\n",
    "    ax[1, 0].set_title('Model accuracy', fontsize = 18)\n",
    "    ax[1, 0].set_ylabel('Accuracy', fontsize = 14)\n",
    "    ax[1, 0].legend(['Train', 'Val'], loc='upper right')\n",
    "    ax[1, 0].grid(axis=\"x\", linewidth=0.5)\n",
    "    ax[1, 0].grid(axis=\"y\", linewidth=0.5)\n",
    "    \n",
    "    # --- LOSS \n",
    "#     ax[0, 0].plot(history.history['loss'], color=\"#a10606\")\n",
    "#     ax[0, 0].plot(history.history['val_loss'], color=\"#1b5743\")\n",
    "#     ax[0, 0].set_title('Model loss', fontsize = 18)\n",
    "#     ax[0, 0].set_ylabel('Loss', fontsize = 14)\n",
    "#     ax[0, 0].legend(['Train', 'Val'], loc='upper right')\n",
    "#     ax[0, 0].grid(axis=\"x\", linewidth=0.5)\n",
    "#     ax[0, 0].grid(axis=\"y\", linewidth=0.5)\n",
    "\n",
    "#     --- RECALL\n",
    "    ax[0, 1].plot(history.history['recall']) \n",
    "    ax[0, 1].plot(history.history['val_recall'])\n",
    "    ax[0, 1].set_title('Model recall', fontsize = 18)\n",
    "    ax[0, 1].set_ylabel('Recall', fontsize = 14) \n",
    "    ax[0, 1].legend(['Train', 'Val'], loc='lower right')\n",
    "    ax[0, 1].grid(axis=\"x\", linewidth=0.5)\n",
    "    ax[0, 1].grid(axis=\"y\", linewidth=0.5)\n",
    "\n",
    "#     --- PRECISION\n",
    "    ax[0,0].plot(history.history['precision'])\n",
    "    ax[0,0].plot(history.history['val_precision'])\n",
    "    ax[0,0].set_title('Model precision', fontsize = 18)\n",
    "    ax[0,0].set_ylabel('Precision', fontsize = 14)\n",
    "    ax[0,0].legend(['Train', 'Val'], loc='lower right')\n",
    "    ax[0,0].grid(axis=\"x\", linewidth=0.5)\n",
    "    ax[0,0].grid(axis=\"y\", linewidth=0.5)\n",
    "    \n",
    "    # --- AUC\n",
    "    ax[1, 1].plot(history.history['auc'])\n",
    "    ax[1, 1].plot(history.history['val_auc'])\n",
    "    ax[1, 1].set_title('Model AUC', fontsize = 18) \n",
    "    ax[1, 1].set_ylabel('AUC', fontsize = 14)\n",
    "    ax[1, 1].legend(['Train', 'Val'], loc='lower right')\n",
    "    ax[1, 1].grid(axis=\"x\", linewidth=0.5)\n",
    "    ax[1, 1].grid(axis=\"y\", linewidth=0.5)\n",
    "\n",
    "    # Set common labels  \n",
    "    fig.text(0.5, 0.04, 'Epoch', ha='center', va='center', fontsize=14) \n",
    "    plt.show()"
   ]
  },
  {
   "cell_type": "markdown",
   "id": "c10df2b8",
   "metadata": {
    "heading_collapsed": true,
    "hidden": true
   },
   "source": [
    "### Keras tuner Model 1"
   ]
  },
  {
   "cell_type": "code",
   "execution_count": null,
   "id": "c4a205fe",
   "metadata": {
    "hidden": true
   },
   "outputs": [],
   "source": [
    "def model_builder(hp):\n",
    "    model = Sequential()\n",
    "    \n",
    "    hp_units_1 = hp.Int('units_1', min_value=16, max_value=256, step=16)\n",
    "    hp_units_2 = hp.Int('units_2', min_value=16, max_value=256, step=16)\n",
    "    hp_units_3 = hp.Int('units_3', min_value=16, max_value=256, step=16)\n",
    "    hp_units_4 = hp.Int('units_4', min_value=16, max_value=256, step=16)\n",
    "    hp_learning_rate = hp.Choice('learning_rate', values=[1e-1, 1e-2, 1e-3])\n",
    "\n",
    "    model.add(layers.Dense(units=hp_units_1, activation='relu', input_dim=X.shape[1]))\n",
    "    model.add(layers.Dense(units=hp_units_2, activation='relu'))\n",
    "    model.add(layers.Dense(units=hp_units_3, activation='relu'))\n",
    "    model.add(layers.Dense(units=hp_units_4, activation='relu'))\n",
    "    \n",
    "    model.add(layers.Dense(1, activation='sigmoid'))\n",
    "\n",
    "    adam = tf.keras.optimizers.Adam(learning_rate=hp_learning_rate)\n",
    "    model.compile(optimizer=adam, loss='binary_crossentropy', metrics=metrics)\n",
    "    return model"
   ]
  },
  {
   "cell_type": "code",
   "execution_count": null,
   "id": "080d8bad",
   "metadata": {
    "hidden": true,
    "scrolled": false
   },
   "outputs": [],
   "source": [
    "LOG_DIR = f'{int(time.time())}'\n",
    "tuner_kt_1 = kt.RandomSearch(model_builder,\n",
    "                     objective=kt.Objective('val_auc', direction=\"max\"),\n",
    "                     directory=f'/Users/alessio/Desktop/kt-logs/{LOG_DIR}')\n",
    "\n",
    "stop_early = EarlyStopping(monitor='val_auc', patience=10, restore_best_weights=True)\n",
    "                     \n",
    "tuner_kt_1.search(X_train_val, y_train_val, validation_data=(X_val, y_val),\n",
    "             epochs=200,\n",
    "             callbacks=[stop_early])"
   ]
  },
  {
   "cell_type": "code",
   "execution_count": null,
   "id": "2fff0483",
   "metadata": {
    "hidden": true
   },
   "outputs": [],
   "source": [
    "best_hps=tuner_kt_1.get_best_hyperparameters(num_trials=1)[0]\n",
    "best_hps.__dict__"
   ]
  },
  {
   "cell_type": "code",
   "execution_count": null,
   "id": "e17c6ff7",
   "metadata": {
    "hidden": true
   },
   "outputs": [],
   "source": [
    "# TensorBoard\n",
    "log_dir = \"logs/fit/\" + datetime.datetime.now().strftime(\"%Y%m%d-%H%M%S\")\n",
    "tensorboard = TensorBoard(log_dir=log_dir)\n",
    "# EarlyStopping\n",
    "es = EarlyStopping(patience=50, monitor='val_auc', restore_best_weights=True)"
   ]
  },
  {
   "cell_type": "code",
   "execution_count": null,
   "id": "63596f7f",
   "metadata": {
    "hidden": true,
    "scrolled": false
   },
   "outputs": [],
   "source": [
    "# Build Model with Best hyperparamethers\n",
    "model_kt_1 = tuner_kt_1.hypermodel.build(best_hps)\n",
    "# Train model\n",
    "history_kt_1 = model_kt_1.fit(X_train_val, y_train_val, validation_data=(X_val, y_val),\n",
    "                    epochs=500,\n",
    "                    batch_size=128,\n",
    "                    verbose=0,\n",
    "                    callbacks=[es, tensorboard])"
   ]
  },
  {
   "cell_type": "code",
   "execution_count": null,
   "id": "7b0a855f",
   "metadata": {
    "hidden": true
   },
   "outputs": [],
   "source": [
    "model_kt_1.evaluate(X_test_scaled, y_test)"
   ]
  },
  {
   "cell_type": "code",
   "execution_count": 29,
   "id": "26cc3d94",
   "metadata": {
    "hidden": true
   },
   "outputs": [
    {
     "ename": "KeyboardInterrupt",
     "evalue": "",
     "output_type": "error",
     "traceback": [
      "\u001b[0;31m---------------------------------------------------------------------------\u001b[0m",
      "\u001b[0;31mKeyboardInterrupt\u001b[0m                         Traceback (most recent call last)",
      "Cell \u001b[0;32mIn[29], line 20\u001b[0m\n\u001b[1;32m     17\u001b[0m adam \u001b[38;5;241m=\u001b[39m tf\u001b[38;5;241m.\u001b[39mkeras\u001b[38;5;241m.\u001b[39moptimizers\u001b[38;5;241m.\u001b[39mAdam(learning_rate\u001b[38;5;241m=\u001b[39m\u001b[38;5;241m0.0001\u001b[39m)\n\u001b[1;32m     18\u001b[0m model_one\u001b[38;5;241m.\u001b[39mcompile(loss\u001b[38;5;241m=\u001b[39m\u001b[38;5;124m'\u001b[39m\u001b[38;5;124mbinary_crossentropy\u001b[39m\u001b[38;5;124m'\u001b[39m, optimizer\u001b[38;5;241m=\u001b[39madam, metrics\u001b[38;5;241m=\u001b[39mmetrics)\n\u001b[0;32m---> 20\u001b[0m history_one \u001b[38;5;241m=\u001b[39m \u001b[43mmodel_one\u001b[49m\u001b[38;5;241;43m.\u001b[39;49m\u001b[43mfit\u001b[49m\u001b[43m(\u001b[49m\u001b[43mX_train_val\u001b[49m\u001b[43m,\u001b[49m\u001b[43m \u001b[49m\u001b[43my_train_val\u001b[49m\u001b[43m,\u001b[49m\u001b[43m \u001b[49m\u001b[43mvalidation_data\u001b[49m\u001b[38;5;241;43m=\u001b[39;49m\u001b[43m(\u001b[49m\u001b[43mX_val\u001b[49m\u001b[43m,\u001b[49m\u001b[43m \u001b[49m\u001b[43my_val\u001b[49m\u001b[43m)\u001b[49m\u001b[43m,\u001b[49m\n\u001b[1;32m     21\u001b[0m \u001b[43m                    \u001b[49m\u001b[43mbatch_size\u001b[49m\u001b[38;5;241;43m=\u001b[39;49m\u001b[38;5;241;43m16\u001b[39;49m\u001b[43m,\u001b[49m\n\u001b[1;32m     22\u001b[0m \u001b[43m                    \u001b[49m\u001b[43mepochs\u001b[49m\u001b[38;5;241;43m=\u001b[39;49m\u001b[38;5;241;43m500\u001b[39;49m\u001b[43m,\u001b[49m\n\u001b[1;32m     23\u001b[0m \u001b[43m                    \u001b[49m\u001b[43mverbose\u001b[49m\u001b[38;5;241;43m=\u001b[39;49m\u001b[38;5;241;43m0\u001b[39;49m\u001b[43m,\u001b[49m\n\u001b[1;32m     24\u001b[0m \u001b[43m                    \u001b[49m\u001b[43mcallbacks\u001b[49m\u001b[38;5;241;43m=\u001b[39;49m\u001b[43m[\u001b[49m\u001b[43mes\u001b[49m\u001b[43m,\u001b[49m\u001b[43mtensorboard\u001b[49m\u001b[43m]\u001b[49m\u001b[43m)\u001b[49m\n\u001b[1;32m     26\u001b[0m results \u001b[38;5;241m=\u001b[39m model_one\u001b[38;5;241m.\u001b[39mevaluate(X_test_scaled, y_test)\n\u001b[1;32m     27\u001b[0m \u001b[38;5;28mprint\u001b[39m(\u001b[38;5;124mf\u001b[39m\u001b[38;5;124m'\u001b[39m\u001b[38;5;124mModel \u001b[39m\u001b[38;5;132;01m{\u001b[39;00mmodel_one\u001b[38;5;241m.\u001b[39mmetrics_names[\u001b[38;5;241m0\u001b[39m]\u001b[38;5;132;01m}\u001b[39;00m\u001b[38;5;124m is \u001b[39m\u001b[38;5;132;01m{\u001b[39;00mresults[\u001b[38;5;241m0\u001b[39m]\u001b[38;5;132;01m}\u001b[39;00m\u001b[38;5;124m'\u001b[39m)\n",
      "File \u001b[0;32m~/.pyenv/versions/3.10.6/envs/showupforhealth/lib/python3.10/site-packages/keras/utils/traceback_utils.py:65\u001b[0m, in \u001b[0;36mfilter_traceback.<locals>.error_handler\u001b[0;34m(*args, **kwargs)\u001b[0m\n\u001b[1;32m     63\u001b[0m filtered_tb \u001b[38;5;241m=\u001b[39m \u001b[38;5;28;01mNone\u001b[39;00m\n\u001b[1;32m     64\u001b[0m \u001b[38;5;28;01mtry\u001b[39;00m:\n\u001b[0;32m---> 65\u001b[0m     \u001b[38;5;28;01mreturn\u001b[39;00m \u001b[43mfn\u001b[49m\u001b[43m(\u001b[49m\u001b[38;5;241;43m*\u001b[39;49m\u001b[43margs\u001b[49m\u001b[43m,\u001b[49m\u001b[43m \u001b[49m\u001b[38;5;241;43m*\u001b[39;49m\u001b[38;5;241;43m*\u001b[39;49m\u001b[43mkwargs\u001b[49m\u001b[43m)\u001b[49m\n\u001b[1;32m     66\u001b[0m \u001b[38;5;28;01mexcept\u001b[39;00m \u001b[38;5;167;01mException\u001b[39;00m \u001b[38;5;28;01mas\u001b[39;00m e:\n\u001b[1;32m     67\u001b[0m     filtered_tb \u001b[38;5;241m=\u001b[39m _process_traceback_frames(e\u001b[38;5;241m.\u001b[39m__traceback__)\n",
      "File \u001b[0;32m~/.pyenv/versions/3.10.6/envs/showupforhealth/lib/python3.10/site-packages/keras/engine/training.py:1564\u001b[0m, in \u001b[0;36mModel.fit\u001b[0;34m(self, x, y, batch_size, epochs, verbose, callbacks, validation_split, validation_data, shuffle, class_weight, sample_weight, initial_epoch, steps_per_epoch, validation_steps, validation_batch_size, validation_freq, max_queue_size, workers, use_multiprocessing)\u001b[0m\n\u001b[1;32m   1556\u001b[0m \u001b[38;5;28;01mwith\u001b[39;00m tf\u001b[38;5;241m.\u001b[39mprofiler\u001b[38;5;241m.\u001b[39mexperimental\u001b[38;5;241m.\u001b[39mTrace(\n\u001b[1;32m   1557\u001b[0m     \u001b[38;5;124m\"\u001b[39m\u001b[38;5;124mtrain\u001b[39m\u001b[38;5;124m\"\u001b[39m,\n\u001b[1;32m   1558\u001b[0m     epoch_num\u001b[38;5;241m=\u001b[39mepoch,\n\u001b[0;32m   (...)\u001b[0m\n\u001b[1;32m   1561\u001b[0m     _r\u001b[38;5;241m=\u001b[39m\u001b[38;5;241m1\u001b[39m,\n\u001b[1;32m   1562\u001b[0m ):\n\u001b[1;32m   1563\u001b[0m     callbacks\u001b[38;5;241m.\u001b[39mon_train_batch_begin(step)\n\u001b[0;32m-> 1564\u001b[0m     tmp_logs \u001b[38;5;241m=\u001b[39m \u001b[38;5;28;43mself\u001b[39;49m\u001b[38;5;241;43m.\u001b[39;49m\u001b[43mtrain_function\u001b[49m\u001b[43m(\u001b[49m\u001b[43miterator\u001b[49m\u001b[43m)\u001b[49m\n\u001b[1;32m   1565\u001b[0m     \u001b[38;5;28;01mif\u001b[39;00m data_handler\u001b[38;5;241m.\u001b[39mshould_sync:\n\u001b[1;32m   1566\u001b[0m         context\u001b[38;5;241m.\u001b[39masync_wait()\n",
      "File \u001b[0;32m~/.pyenv/versions/3.10.6/envs/showupforhealth/lib/python3.10/site-packages/tensorflow/python/util/traceback_utils.py:150\u001b[0m, in \u001b[0;36mfilter_traceback.<locals>.error_handler\u001b[0;34m(*args, **kwargs)\u001b[0m\n\u001b[1;32m    148\u001b[0m filtered_tb \u001b[38;5;241m=\u001b[39m \u001b[38;5;28;01mNone\u001b[39;00m\n\u001b[1;32m    149\u001b[0m \u001b[38;5;28;01mtry\u001b[39;00m:\n\u001b[0;32m--> 150\u001b[0m   \u001b[38;5;28;01mreturn\u001b[39;00m \u001b[43mfn\u001b[49m\u001b[43m(\u001b[49m\u001b[38;5;241;43m*\u001b[39;49m\u001b[43margs\u001b[49m\u001b[43m,\u001b[49m\u001b[43m \u001b[49m\u001b[38;5;241;43m*\u001b[39;49m\u001b[38;5;241;43m*\u001b[39;49m\u001b[43mkwargs\u001b[49m\u001b[43m)\u001b[49m\n\u001b[1;32m    151\u001b[0m \u001b[38;5;28;01mexcept\u001b[39;00m \u001b[38;5;167;01mException\u001b[39;00m \u001b[38;5;28;01mas\u001b[39;00m e:\n\u001b[1;32m    152\u001b[0m   filtered_tb \u001b[38;5;241m=\u001b[39m _process_traceback_frames(e\u001b[38;5;241m.\u001b[39m__traceback__)\n",
      "File \u001b[0;32m~/.pyenv/versions/3.10.6/envs/showupforhealth/lib/python3.10/site-packages/tensorflow/python/eager/def_function.py:915\u001b[0m, in \u001b[0;36mFunction.__call__\u001b[0;34m(self, *args, **kwds)\u001b[0m\n\u001b[1;32m    912\u001b[0m compiler \u001b[38;5;241m=\u001b[39m \u001b[38;5;124m\"\u001b[39m\u001b[38;5;124mxla\u001b[39m\u001b[38;5;124m\"\u001b[39m \u001b[38;5;28;01mif\u001b[39;00m \u001b[38;5;28mself\u001b[39m\u001b[38;5;241m.\u001b[39m_jit_compile \u001b[38;5;28;01melse\u001b[39;00m \u001b[38;5;124m\"\u001b[39m\u001b[38;5;124mnonXla\u001b[39m\u001b[38;5;124m\"\u001b[39m\n\u001b[1;32m    914\u001b[0m \u001b[38;5;28;01mwith\u001b[39;00m OptionalXlaContext(\u001b[38;5;28mself\u001b[39m\u001b[38;5;241m.\u001b[39m_jit_compile):\n\u001b[0;32m--> 915\u001b[0m   result \u001b[38;5;241m=\u001b[39m \u001b[38;5;28;43mself\u001b[39;49m\u001b[38;5;241;43m.\u001b[39;49m\u001b[43m_call\u001b[49m\u001b[43m(\u001b[49m\u001b[38;5;241;43m*\u001b[39;49m\u001b[43margs\u001b[49m\u001b[43m,\u001b[49m\u001b[43m \u001b[49m\u001b[38;5;241;43m*\u001b[39;49m\u001b[38;5;241;43m*\u001b[39;49m\u001b[43mkwds\u001b[49m\u001b[43m)\u001b[49m\n\u001b[1;32m    917\u001b[0m new_tracing_count \u001b[38;5;241m=\u001b[39m \u001b[38;5;28mself\u001b[39m\u001b[38;5;241m.\u001b[39mexperimental_get_tracing_count()\n\u001b[1;32m    918\u001b[0m without_tracing \u001b[38;5;241m=\u001b[39m (tracing_count \u001b[38;5;241m==\u001b[39m new_tracing_count)\n",
      "File \u001b[0;32m~/.pyenv/versions/3.10.6/envs/showupforhealth/lib/python3.10/site-packages/tensorflow/python/eager/def_function.py:947\u001b[0m, in \u001b[0;36mFunction._call\u001b[0;34m(self, *args, **kwds)\u001b[0m\n\u001b[1;32m    944\u001b[0m   \u001b[38;5;28mself\u001b[39m\u001b[38;5;241m.\u001b[39m_lock\u001b[38;5;241m.\u001b[39mrelease()\n\u001b[1;32m    945\u001b[0m   \u001b[38;5;66;03m# In this case we have created variables on the first call, so we run the\u001b[39;00m\n\u001b[1;32m    946\u001b[0m   \u001b[38;5;66;03m# defunned version which is guaranteed to never create variables.\u001b[39;00m\n\u001b[0;32m--> 947\u001b[0m   \u001b[38;5;28;01mreturn\u001b[39;00m \u001b[38;5;28;43mself\u001b[39;49m\u001b[38;5;241;43m.\u001b[39;49m\u001b[43m_stateless_fn\u001b[49m\u001b[43m(\u001b[49m\u001b[38;5;241;43m*\u001b[39;49m\u001b[43margs\u001b[49m\u001b[43m,\u001b[49m\u001b[43m \u001b[49m\u001b[38;5;241;43m*\u001b[39;49m\u001b[38;5;241;43m*\u001b[39;49m\u001b[43mkwds\u001b[49m\u001b[43m)\u001b[49m  \u001b[38;5;66;03m# pylint: disable=not-callable\u001b[39;00m\n\u001b[1;32m    948\u001b[0m \u001b[38;5;28;01melif\u001b[39;00m \u001b[38;5;28mself\u001b[39m\u001b[38;5;241m.\u001b[39m_stateful_fn \u001b[38;5;129;01mis\u001b[39;00m \u001b[38;5;129;01mnot\u001b[39;00m \u001b[38;5;28;01mNone\u001b[39;00m:\n\u001b[1;32m    949\u001b[0m   \u001b[38;5;66;03m# Release the lock early so that multiple threads can perform the call\u001b[39;00m\n\u001b[1;32m    950\u001b[0m   \u001b[38;5;66;03m# in parallel.\u001b[39;00m\n\u001b[1;32m    951\u001b[0m   \u001b[38;5;28mself\u001b[39m\u001b[38;5;241m.\u001b[39m_lock\u001b[38;5;241m.\u001b[39mrelease()\n",
      "File \u001b[0;32m~/.pyenv/versions/3.10.6/envs/showupforhealth/lib/python3.10/site-packages/tensorflow/python/eager/function.py:2496\u001b[0m, in \u001b[0;36mFunction.__call__\u001b[0;34m(self, *args, **kwargs)\u001b[0m\n\u001b[1;32m   2493\u001b[0m \u001b[38;5;28;01mwith\u001b[39;00m \u001b[38;5;28mself\u001b[39m\u001b[38;5;241m.\u001b[39m_lock:\n\u001b[1;32m   2494\u001b[0m   (graph_function,\n\u001b[1;32m   2495\u001b[0m    filtered_flat_args) \u001b[38;5;241m=\u001b[39m \u001b[38;5;28mself\u001b[39m\u001b[38;5;241m.\u001b[39m_maybe_define_function(args, kwargs)\n\u001b[0;32m-> 2496\u001b[0m \u001b[38;5;28;01mreturn\u001b[39;00m \u001b[43mgraph_function\u001b[49m\u001b[38;5;241;43m.\u001b[39;49m\u001b[43m_call_flat\u001b[49m\u001b[43m(\u001b[49m\n\u001b[1;32m   2497\u001b[0m \u001b[43m    \u001b[49m\u001b[43mfiltered_flat_args\u001b[49m\u001b[43m,\u001b[49m\u001b[43m \u001b[49m\u001b[43mcaptured_inputs\u001b[49m\u001b[38;5;241;43m=\u001b[39;49m\u001b[43mgraph_function\u001b[49m\u001b[38;5;241;43m.\u001b[39;49m\u001b[43mcaptured_inputs\u001b[49m\u001b[43m)\u001b[49m\n",
      "File \u001b[0;32m~/.pyenv/versions/3.10.6/envs/showupforhealth/lib/python3.10/site-packages/tensorflow/python/eager/function.py:1862\u001b[0m, in \u001b[0;36mConcreteFunction._call_flat\u001b[0;34m(self, args, captured_inputs, cancellation_manager)\u001b[0m\n\u001b[1;32m   1858\u001b[0m possible_gradient_type \u001b[38;5;241m=\u001b[39m gradients_util\u001b[38;5;241m.\u001b[39mPossibleTapeGradientTypes(args)\n\u001b[1;32m   1859\u001b[0m \u001b[38;5;28;01mif\u001b[39;00m (possible_gradient_type \u001b[38;5;241m==\u001b[39m gradients_util\u001b[38;5;241m.\u001b[39mPOSSIBLE_GRADIENT_TYPES_NONE\n\u001b[1;32m   1860\u001b[0m     \u001b[38;5;129;01mand\u001b[39;00m executing_eagerly):\n\u001b[1;32m   1861\u001b[0m   \u001b[38;5;66;03m# No tape is watching; skip to running the function.\u001b[39;00m\n\u001b[0;32m-> 1862\u001b[0m   \u001b[38;5;28;01mreturn\u001b[39;00m \u001b[38;5;28mself\u001b[39m\u001b[38;5;241m.\u001b[39m_build_call_outputs(\u001b[38;5;28;43mself\u001b[39;49m\u001b[38;5;241;43m.\u001b[39;49m\u001b[43m_inference_function\u001b[49m\u001b[38;5;241;43m.\u001b[39;49m\u001b[43mcall\u001b[49m\u001b[43m(\u001b[49m\n\u001b[1;32m   1863\u001b[0m \u001b[43m      \u001b[49m\u001b[43mctx\u001b[49m\u001b[43m,\u001b[49m\u001b[43m \u001b[49m\u001b[43margs\u001b[49m\u001b[43m,\u001b[49m\u001b[43m \u001b[49m\u001b[43mcancellation_manager\u001b[49m\u001b[38;5;241;43m=\u001b[39;49m\u001b[43mcancellation_manager\u001b[49m\u001b[43m)\u001b[49m)\n\u001b[1;32m   1864\u001b[0m forward_backward \u001b[38;5;241m=\u001b[39m \u001b[38;5;28mself\u001b[39m\u001b[38;5;241m.\u001b[39m_select_forward_and_backward_functions(\n\u001b[1;32m   1865\u001b[0m     args,\n\u001b[1;32m   1866\u001b[0m     possible_gradient_type,\n\u001b[1;32m   1867\u001b[0m     executing_eagerly)\n\u001b[1;32m   1868\u001b[0m forward_function, args_with_tangents \u001b[38;5;241m=\u001b[39m forward_backward\u001b[38;5;241m.\u001b[39mforward()\n",
      "File \u001b[0;32m~/.pyenv/versions/3.10.6/envs/showupforhealth/lib/python3.10/site-packages/tensorflow/python/eager/function.py:499\u001b[0m, in \u001b[0;36m_EagerDefinedFunction.call\u001b[0;34m(self, ctx, args, cancellation_manager)\u001b[0m\n\u001b[1;32m    497\u001b[0m \u001b[38;5;28;01mwith\u001b[39;00m _InterpolateFunctionError(\u001b[38;5;28mself\u001b[39m):\n\u001b[1;32m    498\u001b[0m   \u001b[38;5;28;01mif\u001b[39;00m cancellation_manager \u001b[38;5;129;01mis\u001b[39;00m \u001b[38;5;28;01mNone\u001b[39;00m:\n\u001b[0;32m--> 499\u001b[0m     outputs \u001b[38;5;241m=\u001b[39m \u001b[43mexecute\u001b[49m\u001b[38;5;241;43m.\u001b[39;49m\u001b[43mexecute\u001b[49m\u001b[43m(\u001b[49m\n\u001b[1;32m    500\u001b[0m \u001b[43m        \u001b[49m\u001b[38;5;28;43mstr\u001b[39;49m\u001b[43m(\u001b[49m\u001b[38;5;28;43mself\u001b[39;49m\u001b[38;5;241;43m.\u001b[39;49m\u001b[43msignature\u001b[49m\u001b[38;5;241;43m.\u001b[39;49m\u001b[43mname\u001b[49m\u001b[43m)\u001b[49m\u001b[43m,\u001b[49m\n\u001b[1;32m    501\u001b[0m \u001b[43m        \u001b[49m\u001b[43mnum_outputs\u001b[49m\u001b[38;5;241;43m=\u001b[39;49m\u001b[38;5;28;43mself\u001b[39;49m\u001b[38;5;241;43m.\u001b[39;49m\u001b[43m_num_outputs\u001b[49m\u001b[43m,\u001b[49m\n\u001b[1;32m    502\u001b[0m \u001b[43m        \u001b[49m\u001b[43minputs\u001b[49m\u001b[38;5;241;43m=\u001b[39;49m\u001b[43margs\u001b[49m\u001b[43m,\u001b[49m\n\u001b[1;32m    503\u001b[0m \u001b[43m        \u001b[49m\u001b[43mattrs\u001b[49m\u001b[38;5;241;43m=\u001b[39;49m\u001b[43mattrs\u001b[49m\u001b[43m,\u001b[49m\n\u001b[1;32m    504\u001b[0m \u001b[43m        \u001b[49m\u001b[43mctx\u001b[49m\u001b[38;5;241;43m=\u001b[39;49m\u001b[43mctx\u001b[49m\u001b[43m)\u001b[49m\n\u001b[1;32m    505\u001b[0m   \u001b[38;5;28;01melse\u001b[39;00m:\n\u001b[1;32m    506\u001b[0m     outputs \u001b[38;5;241m=\u001b[39m execute\u001b[38;5;241m.\u001b[39mexecute_with_cancellation(\n\u001b[1;32m    507\u001b[0m         \u001b[38;5;28mstr\u001b[39m(\u001b[38;5;28mself\u001b[39m\u001b[38;5;241m.\u001b[39msignature\u001b[38;5;241m.\u001b[39mname),\n\u001b[1;32m    508\u001b[0m         num_outputs\u001b[38;5;241m=\u001b[39m\u001b[38;5;28mself\u001b[39m\u001b[38;5;241m.\u001b[39m_num_outputs,\n\u001b[0;32m   (...)\u001b[0m\n\u001b[1;32m    511\u001b[0m         ctx\u001b[38;5;241m=\u001b[39mctx,\n\u001b[1;32m    512\u001b[0m         cancellation_manager\u001b[38;5;241m=\u001b[39mcancellation_manager)\n",
      "File \u001b[0;32m~/.pyenv/versions/3.10.6/envs/showupforhealth/lib/python3.10/site-packages/tensorflow/python/eager/execute.py:54\u001b[0m, in \u001b[0;36mquick_execute\u001b[0;34m(op_name, num_outputs, inputs, attrs, ctx, name)\u001b[0m\n\u001b[1;32m     52\u001b[0m \u001b[38;5;28;01mtry\u001b[39;00m:\n\u001b[1;32m     53\u001b[0m   ctx\u001b[38;5;241m.\u001b[39mensure_initialized()\n\u001b[0;32m---> 54\u001b[0m   tensors \u001b[38;5;241m=\u001b[39m \u001b[43mpywrap_tfe\u001b[49m\u001b[38;5;241;43m.\u001b[39;49m\u001b[43mTFE_Py_Execute\u001b[49m\u001b[43m(\u001b[49m\u001b[43mctx\u001b[49m\u001b[38;5;241;43m.\u001b[39;49m\u001b[43m_handle\u001b[49m\u001b[43m,\u001b[49m\u001b[43m \u001b[49m\u001b[43mdevice_name\u001b[49m\u001b[43m,\u001b[49m\u001b[43m \u001b[49m\u001b[43mop_name\u001b[49m\u001b[43m,\u001b[49m\n\u001b[1;32m     55\u001b[0m \u001b[43m                                      \u001b[49m\u001b[43minputs\u001b[49m\u001b[43m,\u001b[49m\u001b[43m \u001b[49m\u001b[43mattrs\u001b[49m\u001b[43m,\u001b[49m\u001b[43m \u001b[49m\u001b[43mnum_outputs\u001b[49m\u001b[43m)\u001b[49m\n\u001b[1;32m     56\u001b[0m \u001b[38;5;28;01mexcept\u001b[39;00m core\u001b[38;5;241m.\u001b[39m_NotOkStatusException \u001b[38;5;28;01mas\u001b[39;00m e:\n\u001b[1;32m     57\u001b[0m   \u001b[38;5;28;01mif\u001b[39;00m name \u001b[38;5;129;01mis\u001b[39;00m \u001b[38;5;129;01mnot\u001b[39;00m \u001b[38;5;28;01mNone\u001b[39;00m:\n",
      "\u001b[0;31mKeyboardInterrupt\u001b[0m: "
     ]
    }
   ],
   "source": [
    "# Callbacks\n",
    "log_dir = \"logs/fit/\" + datetime.datetime.now().strftime(\"%Y%m%d-%H%M%S\")\n",
    "tensorboard = TensorBoard(log_dir=log_dir)\n",
    "es = EarlyStopping(patience=20, monitor='val_auc', restore_best_weights=True)\n",
    "\n",
    "model_one = Sequential()\n",
    "model_one.add(layers.Dense(48, activation='relu', input_dim=X.shape[1]))\n",
    "model_one.add(layers.Dropout(0.3))\n",
    "model_one.add(layers.Dense(224, activation='relu'))\n",
    "model_one.add(layers.Dropout(0.2))\n",
    "model_one.add(layers.Dense(96, activation='relu'))\n",
    "model_one.add(layers.Dropout(0.2))\n",
    "model_one.add(layers.Dense(192, activation='relu'))\n",
    "model_one.add(layers.Dropout(0.2))\n",
    "model_one.add(layers.Dense(1, activation='sigmoid'))\n",
    "\n",
    "adam = tf.keras.optimizers.Adam(learning_rate=0.0001)\n",
    "model_one.compile(loss='binary_crossentropy', optimizer=adam, metrics=metrics)\n",
    "\n",
    "history_one = model_one.fit(X_train_val, y_train_val, validation_data=(X_val, y_val),\n",
    "                    batch_size=16,\n",
    "                    epochs=500,\n",
    "                    verbose=0,\n",
    "                    callbacks=[es,tensorboard])\n",
    "\n",
    "results = model_one.evaluate(X_test_scaled, y_test)\n",
    "print(f'Model {model_one.metrics_names[0]} is {results[0]}')\n",
    "print(f'Model {model_one.metrics_names[1]} is {results[1]}')\n",
    "print(f'Model {model_one.metrics_names[2]} is {results[2]}')\n",
    "print(f'Model {model_one.metrics_names[3]} is {results[3]}')\n",
    "print(f'Model {model_one.metrics_names[4]} is {results[4]}')"
   ]
  },
  {
   "cell_type": "code",
   "execution_count": null,
   "id": "46d6844f",
   "metadata": {
    "hidden": true
   },
   "outputs": [],
   "source": [
    "# Save model\n",
    "model_one.save('model_two.h5')"
   ]
  },
  {
   "cell_type": "code",
   "execution_count": null,
   "id": "42383a72",
   "metadata": {
    "hidden": true
   },
   "outputs": [],
   "source": [
    "plot_loss_precision_recall_curve(history_one)"
   ]
  },
  {
   "cell_type": "code",
   "execution_count": null,
   "id": "dada1b85",
   "metadata": {
    "hidden": true
   },
   "outputs": [],
   "source": [
    "# def model_builder_3(hp):\n",
    "#     model = Sequential()\n",
    "#     # Hp\n",
    "#     hp_units_1 = hp.Int('units_1', min_value=32, max_value=128, step=16)\n",
    "#     hp_units_2 = hp.Int('units_2', min_value=32, max_value=128, step=16)\n",
    "#     hp_learning_rate = hp.Choice('learning_rate', values=[1e-1, 1e-2, 1e-3, 1e-4])\n",
    "\n",
    "#     model.add(layers.Dense(units=hp_units_1, activation='relu', input_dim=X.shape[1]))\n",
    "#     model.add(layers.Dropout(0.2))\n",
    "#     model.add(layers.Dense(units=hp_units_2, activation='relu'))\n",
    "#     model.add(layers.Dropout(0.2))\n",
    "\n",
    "#     model.add(layers.Dense(1, activation='sigmoid'))\n",
    "\n",
    "#     adam = tf.keras.optimizers.Adam(learning_rate=hp_learning_rate)\n",
    "#     model.compile(optimizer=adam, loss='binary_crossentropy', metrics=metrics)\n",
    "#     return model"
   ]
  },
  {
   "cell_type": "markdown",
   "id": "f4d1806c",
   "metadata": {},
   "source": [
    "# Keras Tuner model_3"
   ]
  },
  {
   "cell_type": "code",
   "execution_count": 29,
   "id": "6b6bd7fa",
   "metadata": {},
   "outputs": [],
   "source": [
    "def model_builder_3(hp):\n",
    "    model = Sequential()\n",
    "    \n",
    "    for i in range(hp.Int(\"num_layers\", 1, 2)):\n",
    "        model.add(layers.Dense(units=hp.Int(f\"units_{i}\", min_value=32, max_value=256, step=32),\n",
    "                               activation=hp.Choice(\"activation\", [\"relu\", \"tanh\"])))\n",
    "\n",
    "    if hp.Boolean(\"dropout\"):\n",
    "            model.add(layers.Dropout(rate=0.25))\n",
    "            \n",
    "    model.add(layers.Dense(1, activation='sigmoid'))\n",
    "\n",
    "    hp_learning_rate = hp.Choice('learning_rate', values=[1e-1, 1e-2, 1e-3, 1e-4])\n",
    "    adam = tf.keras.optimizers.Adam(learning_rate=hp_learning_rate)\n",
    "    \n",
    "    model.compile(optimizer=adam, loss='binary_crossentropy', metrics=metrics)\n",
    "    return model"
   ]
  },
  {
   "cell_type": "code",
   "execution_count": 30,
   "id": "9fd7253f",
   "metadata": {
    "scrolled": false
   },
   "outputs": [
    {
     "name": "stdout",
     "output_type": "stream",
     "text": [
      "Trial 100 Complete [00h 00m 15s]\n",
      "val_auc-pr: 0.8949145078659058\n",
      "\n",
      "Best val_auc-pr So Far: 0.9261295795440674\n",
      "Total elapsed time: 00h 23m 35s\n",
      "INFO:tensorflow:Oracle triggered exit\n"
     ]
    }
   ],
   "source": [
    "LOG_DIR = f'{int(time.time())}'\n",
    "\n",
    "tuner_kt_3 = kt.RandomSearch(model_builder_3,\n",
    "                             max_trials=100,\n",
    "                             objective=kt.Objective('val_auc-pr', direction=\"max\"),\n",
    "                             directory=f'/Users/alessio/Desktop/kt-logs/{LOG_DIR}',\n",
    "                             seed=42)\n",
    "\n",
    "stop_early = EarlyStopping(monitor='val_auc-pr', patience=5, restore_best_weights=True)\n",
    "                     \n",
    "tuner_kt_3.search(X_train_val_scaled, y_train_val, validation_data=(X_val_scaled, y_val),\n",
    "                  epochs=200,\n",
    "                  batch_size=32,\n",
    "                  callbacks=[stop_early])"
   ]
  },
  {
   "cell_type": "code",
   "execution_count": 31,
   "id": "23bac4e6",
   "metadata": {},
   "outputs": [
    {
     "data": {
      "text/plain": [
       "{'_name_scopes': [],\n",
       " '_conditions': [],\n",
       " '_hps': defaultdict(list,\n",
       "             {'num_layers': [Int(name: 'num_layers', min_value: 1, max_value: 2, step: 1, sampling: linear, default: 1)],\n",
       "              'units_0': [Int(name: 'units_0', min_value: 32, max_value: 256, step: 32, sampling: linear, default: 32)],\n",
       "              'activation': [Choice(name: 'activation', values: ['relu', 'tanh'], ordered: False, default: relu)],\n",
       "              'dropout': [Boolean(name: \"dropout\", default: False)],\n",
       "              'learning_rate': [Choice(name: 'learning_rate', values: [0.1, 0.01, 0.001, 0.0001], ordered: True, default: 0.1)],\n",
       "              'units_1': [Int(name: 'units_1', min_value: 32, max_value: 256, step: 32, sampling: linear, default: 32)]}),\n",
       " '_space': [Int(name: 'num_layers', min_value: 1, max_value: 2, step: 1, sampling: linear, default: 1),\n",
       "  Int(name: 'units_0', min_value: 32, max_value: 256, step: 32, sampling: linear, default: 32),\n",
       "  Choice(name: 'activation', values: ['relu', 'tanh'], ordered: False, default: relu),\n",
       "  Boolean(name: \"dropout\", default: False),\n",
       "  Choice(name: 'learning_rate', values: [0.1, 0.01, 0.001, 0.0001], ordered: True, default: 0.1),\n",
       "  Int(name: 'units_1', min_value: 32, max_value: 256, step: 32, sampling: linear, default: 32)],\n",
       " 'values': {'num_layers': 1,\n",
       "  'units_0': 192,\n",
       "  'activation': 'relu',\n",
       "  'dropout': False,\n",
       "  'learning_rate': 0.01,\n",
       "  'units_1': 96},\n",
       " 'active_scopes': [],\n",
       " 'inactive_scopes': []}"
      ]
     },
     "execution_count": 31,
     "metadata": {},
     "output_type": "execute_result"
    }
   ],
   "source": [
    "best_hps = tuner_kt_3.get_best_hyperparameters(num_trials=1)[0]\n",
    "best_hps.__dict__"
   ]
  },
  {
   "cell_type": "code",
   "execution_count": 32,
   "id": "4b07947b",
   "metadata": {
    "scrolled": false
   },
   "outputs": [
    {
     "name": "stdout",
     "output_type": "stream",
     "text": [
      "Results summary\n",
      "Results in /Users/alessio/Desktop/kt-logs/1695279724/untitled_project\n",
      "Showing 10 best trials\n",
      "Objective(name=\"val_auc-pr\", direction=\"max\")\n",
      "\n",
      "Trial 036 summary\n",
      "Hyperparameters:\n",
      "num_layers: 1\n",
      "units_0: 192\n",
      "activation: relu\n",
      "dropout: False\n",
      "learning_rate: 0.01\n",
      "units_1: 96\n",
      "Score: 0.9261295795440674\n",
      "\n",
      "Trial 046 summary\n",
      "Hyperparameters:\n",
      "num_layers: 1\n",
      "units_0: 192\n",
      "activation: relu\n",
      "dropout: False\n",
      "learning_rate: 0.01\n",
      "units_1: 224\n",
      "Score: 0.9258213043212891\n",
      "\n",
      "Trial 005 summary\n",
      "Hyperparameters:\n",
      "num_layers: 1\n",
      "units_0: 32\n",
      "activation: relu\n",
      "dropout: True\n",
      "learning_rate: 0.01\n",
      "units_1: 96\n",
      "Score: 0.9251797795295715\n",
      "\n",
      "Trial 058 summary\n",
      "Hyperparameters:\n",
      "num_layers: 2\n",
      "units_0: 160\n",
      "activation: relu\n",
      "dropout: True\n",
      "learning_rate: 0.01\n",
      "units_1: 256\n",
      "Score: 0.9242020845413208\n",
      "\n",
      "Trial 009 summary\n",
      "Hyperparameters:\n",
      "num_layers: 2\n",
      "units_0: 96\n",
      "activation: relu\n",
      "dropout: False\n",
      "learning_rate: 0.01\n",
      "units_1: 64\n",
      "Score: 0.9240866303443909\n",
      "\n",
      "Trial 034 summary\n",
      "Hyperparameters:\n",
      "num_layers: 1\n",
      "units_0: 256\n",
      "activation: relu\n",
      "dropout: True\n",
      "learning_rate: 0.01\n",
      "units_1: 128\n",
      "Score: 0.9229997396469116\n",
      "\n",
      "Trial 063 summary\n",
      "Hyperparameters:\n",
      "num_layers: 2\n",
      "units_0: 32\n",
      "activation: tanh\n",
      "dropout: False\n",
      "learning_rate: 0.01\n",
      "units_1: 160\n",
      "Score: 0.9229593276977539\n",
      "\n",
      "Trial 003 summary\n",
      "Hyperparameters:\n",
      "num_layers: 1\n",
      "units_0: 96\n",
      "activation: relu\n",
      "dropout: True\n",
      "learning_rate: 0.01\n",
      "units_1: 128\n",
      "Score: 0.9222739934921265\n",
      "\n",
      "Trial 056 summary\n",
      "Hyperparameters:\n",
      "num_layers: 1\n",
      "units_0: 32\n",
      "activation: relu\n",
      "dropout: True\n",
      "learning_rate: 0.01\n",
      "units_1: 32\n",
      "Score: 0.921811580657959\n",
      "\n",
      "Trial 024 summary\n",
      "Hyperparameters:\n",
      "num_layers: 2\n",
      "units_0: 96\n",
      "activation: relu\n",
      "dropout: True\n",
      "learning_rate: 0.01\n",
      "units_1: 32\n",
      "Score: 0.9213309288024902\n"
     ]
    }
   ],
   "source": [
    "tuner_kt_3.results_summary()"
   ]
  },
  {
   "cell_type": "code",
   "execution_count": 34,
   "id": "3dd1a83d",
   "metadata": {},
   "outputs": [],
   "source": [
    "log_dir = \"logs/fit/\" + 'tuner_kt_3'\n",
    "tensorboard = TensorBoard(log_dir=log_dir)\n",
    "\n",
    "es = EarlyStopping(patience=25, monitor='val_accuracy', restore_best_weights=True)\n",
    "\n",
    "model_kt_3 = tuner_kt_3.hypermodel.build(best_hps)\n",
    "\n",
    "history_kt_3 = model_kt_3.fit(X_train_val_scaled, y_train_val, validation_data=(X_val_scaled, y_val),\n",
    "                              epochs=500,\n",
    "                              batch_size=32,\n",
    "                              verbose=0,\n",
    "                              callbacks=[es, tensorboard])"
   ]
  },
  {
   "cell_type": "code",
   "execution_count": 36,
   "id": "ce21e7c2",
   "metadata": {},
   "outputs": [
    {
     "name": "stdout",
     "output_type": "stream",
     "text": [
      "137/137 [==============================] - 0s 1ms/step - loss: 0.3680 - accuracy: 0.8332 - recall: 0.7909 - precision: 0.8680 - auc: 0.9081 - auc-pr: 0.9269\n",
      "Model loss is 0.3680315911769867\n",
      "Model accuracy is 0.8331812024116516\n",
      "Model recall is 0.7908967733383179\n",
      "Model precision is 0.8679525256156921\n",
      "Model auc is 0.9081398248672485\n",
      "Model auc-pr is 0.9268661141395569\n"
     ]
    }
   ],
   "source": [
    "results = model_kt_3.evaluate(X_test_scaled, y_test)\n",
    "print(f'Model {model_kt_3.metrics_names[0]} is {results[0]}')\n",
    "print(f'Model {model_kt_3.metrics_names[1]} is {results[1]}')\n",
    "print(f'Model {model_kt_3.metrics_names[2]} is {results[2]}')\n",
    "print(f'Model {model_kt_3.metrics_names[3]} is {results[3]}')\n",
    "print(f'Model {model_kt_3.metrics_names[4]} is {results[4]}')\n",
    "print(f'Model {model_kt_3.metrics_names[5]} is {results[5]}')"
   ]
  },
  {
   "cell_type": "code",
   "execution_count": null,
   "id": "0fa25491",
   "metadata": {},
   "outputs": [],
   "source": [
    "# Save model\n",
    "model_kt_3.save('model_kt_3.h5')"
   ]
  },
  {
   "cell_type": "code",
   "execution_count": 27,
   "id": "9bce702d",
   "metadata": {},
   "outputs": [
    {
     "ename": "NameError",
     "evalue": "name 'plot_loss_precision_recall_curve' is not defined",
     "output_type": "error",
     "traceback": [
      "\u001b[0;31m---------------------------------------------------------------------------\u001b[0m",
      "\u001b[0;31mNameError\u001b[0m                                 Traceback (most recent call last)",
      "Cell \u001b[0;32mIn[27], line 1\u001b[0m\n\u001b[0;32m----> 1\u001b[0m \u001b[43mplot_loss_precision_recall_curve\u001b[49m(history_kt_3)\n",
      "\u001b[0;31mNameError\u001b[0m: name 'plot_loss_precision_recall_curve' is not defined"
     ]
    }
   ],
   "source": [
    "plot_loss_precision_recall_curve(history_kt_3)"
   ]
  },
  {
   "cell_type": "markdown",
   "id": "d89391ae",
   "metadata": {},
   "source": [
    "# Model_4 - model_3 NO KT"
   ]
  },
  {
   "cell_type": "code",
   "execution_count": 96,
   "id": "7f1d566e",
   "metadata": {},
   "outputs": [
    {
     "name": "stdout",
     "output_type": "stream",
     "text": [
      "163/163 [==============================] - 0s 1ms/step - loss: 0.3941 - accuracy: 0.8210 - recall: 0.7742 - precision: 0.9064 - auc: 0.9010\n",
      "Model loss is 0.39411988854408264\n",
      "Model accuracy is 0.8210363984107971\n",
      "Model recall is 0.774193525314331\n",
      "Model precision is 0.9063583612442017\n",
      "Model auc is 0.9010422229766846\n"
     ]
    }
   ],
   "source": [
    "# Callbacks\n",
    "log_dir = \"logs/fit/\" + '96_32_001_32'\n",
    "tensorboard = TensorBoard(log_dir=log_dir)\n",
    "es = EarlyStopping(patience=30, monitor='val_accuracy', restore_best_weights=True)\n",
    "\n",
    "model_4 = Sequential()\n",
    "\n",
    "model_4.add(layers.Dense(96, activation='relu', input_dim=X.shape[1]))\n",
    "\n",
    "model_4.add(layers.Dense(32, activation='relu'))\n",
    "\n",
    "model_4.add(layers.Dense(1, activation='sigmoid'))\n",
    "\n",
    "adam = tf.keras.optimizers.Adam(learning_rate=0.001)\n",
    "model_4.compile(loss='binary_crossentropy', optimizer=adam, metrics=metrics)\n",
    "\n",
    "history_one = model_4.fit(X_train_smote, y_train_smote, validation_data=(X_val_scaled, y_val),\n",
    "                    batch_size=32,\n",
    "                    epochs=500,\n",
    "                    verbose=0,\n",
    "                    shuffle=True,\n",
    "                    callbacks=[es,tensorboard])\n",
    "\n",
    "results = model_4.evaluate(X_test_scaled, y_test)\n",
    "print(f'Model {model_4.metrics_names[0]} is {results[0]}')\n",
    "print(f'Model {model_4.metrics_names[1]} is {results[1]}')\n",
    "print(f'Model {model_4.metrics_names[2]} is {results[2]}')\n",
    "print(f'Model {model_4.metrics_names[3]} is {results[3]}')\n",
    "print(f'Model {model_4.metrics_names[4]} is {results[4]}')"
   ]
  },
  {
   "cell_type": "code",
   "execution_count": null,
   "id": "665f0e9b",
   "metadata": {},
   "outputs": [],
   "source": []
  }
 ],
 "metadata": {
  "kernelspec": {
   "display_name": "Python 3 (ipykernel)",
   "language": "python",
   "name": "python3"
  },
  "language_info": {
   "codemirror_mode": {
    "name": "ipython",
    "version": 3
   },
   "file_extension": ".py",
   "mimetype": "text/x-python",
   "name": "python",
   "nbconvert_exporter": "python",
   "pygments_lexer": "ipython3",
   "version": "3.10.6"
  },
  "toc": {
   "base_numbering": 1,
   "nav_menu": {},
   "number_sections": true,
   "sideBar": true,
   "skip_h1_title": false,
   "title_cell": "Table of Contents",
   "title_sidebar": "Contents",
   "toc_cell": false,
   "toc_position": {},
   "toc_section_display": true,
   "toc_window_display": false
  }
 },
 "nbformat": 4,
 "nbformat_minor": 5
}

{
 "cells": [
  {
   "cell_type": "code",
   "execution_count": 1,
   "id": "7ecfa568",
   "metadata": {},
   "outputs": [],
   "source": [
    "import matplotlib.pyplot as plt\n",
    "import pandas as pd \n",
    "import numpy as np\n",
    "import seaborn as sns"
   ]
  },
  {
   "cell_type": "markdown",
   "id": "8f0264d7",
   "metadata": {},
   "source": [
    "### Define paths and variables"
   ]
  },
  {
   "cell_type": "code",
   "execution_count": 2,
   "id": "af2c15c2",
   "metadata": {},
   "outputs": [],
   "source": [
    "RAW_DATA = '~/code/janduplessis883/data-showup/data/raw-data/'"
   ]
  },
  {
   "cell_type": "code",
   "execution_count": 3,
   "id": "41fb8c88",
   "metadata": {},
   "outputs": [],
   "source": [
    "surgery_list = ['ECS', 'TCP', 'TGP', 'SMW', 'KMC', 'HPVM']"
   ]
  },
  {
   "cell_type": "markdown",
   "id": "c91da667",
   "metadata": {},
   "source": [
    "### Concatenate all appointmens records of one surgery"
   ]
  },
  {
   "cell_type": "code",
   "execution_count": 6,
   "id": "d238062f",
   "metadata": {},
   "outputs": [],
   "source": [
    "def make_appointments_register(surgery_list = ['ECS', 'TCP', 'TGP', 'SMW', 'KMC', 'HPVM']):\n",
    "    \n",
    "    # Loop through surgery list\n",
    "    for surgery in surgery_list:\n",
    "        \n",
    "        # Create empty list to which I append each all the single appointments file\n",
    "        surgery_appointment_list = []\n",
    "        \n",
    "        # Loop 9 times in each surgery folder and define a path for each of the 9 appointment files\n",
    "        for i in range(1,10):\n",
    "            app_path = f'{RAW_DATA}{surgery}/{surgery}_app{i}.csv'\n",
    "            single_app_file = pd.read_csv(app_path)\n",
    "            surgery_appointment_list.append(single_app_file)\n",
    "        surgery_apps_df = pd.concat(surgery_appointment_list)\n",
    "        return surgery_apps_df\n",
    "        "
   ]
  },
  {
   "cell_type": "code",
   "execution_count": null,
   "id": "d97dce08",
   "metadata": {},
   "outputs": [],
   "source": [
    "\n",
    "\n",
    "\n",
    "\n",
    "\n",
    "\n",
    "\n",
    "\n",
    "\n",
    "\n",
    "\n",
    "\n",
    "\n",
    "\n",
    "\n",
    "\n",
    "\n",
    "\n",
    "\n",
    "\n",
    "\n",
    "\n",
    "\n",
    "\n",
    "\n",
    "\n"
   ]
  },
  {
   "cell_type": "code",
   "execution_count": null,
   "id": "dddb34da",
   "metadata": {},
   "outputs": [],
   "source": []
  },
  {
   "cell_type": "code",
   "execution_count": 9,
   "id": "9cb5265a",
   "metadata": {},
   "outputs": [],
   "source": [
    "# ecs_list = []\n",
    "# surgery = 'ECS'\n",
    "# for i in range(1,10):\n",
    "#     app_path = f'{RAW_DATA}{surgery}/{surgery}_app{i}.csv'\n",
    "#     ecs_app = pd.read_csv(app_path)\n",
    "#     ecs_list.append(ecs_app)\n",
    "# ecs_apps_df = pd.concat(ecs_list).reset_index()\n",
    "# ecs_apps_df"
   ]
  },
  {
   "cell_type": "code",
   "execution_count": null,
   "id": "4b10784c",
   "metadata": {},
   "outputs": [],
   "source": []
  },
  {
   "cell_type": "code",
   "execution_count": null,
   "id": "32d7157d",
   "metadata": {},
   "outputs": [],
   "source": []
  }
 ],
 "metadata": {
  "kernelspec": {
   "display_name": "Python 3 (ipykernel)",
   "language": "python",
   "name": "python3"
  },
  "language_info": {
   "codemirror_mode": {
    "name": "ipython",
    "version": 3
   },
   "file_extension": ".py",
   "mimetype": "text/x-python",
   "name": "python",
   "nbconvert_exporter": "python",
   "pygments_lexer": "ipython3",
   "version": "3.10.6"
  },
  "toc": {
   "base_numbering": 1,
   "nav_menu": {},
   "number_sections": true,
   "sideBar": true,
   "skip_h1_title": false,
   "title_cell": "Table of Contents",
   "title_sidebar": "Contents",
   "toc_cell": false,
   "toc_position": {},
   "toc_section_display": true,
   "toc_window_display": false
  }
 },
 "nbformat": 4,
 "nbformat_minor": 5
}

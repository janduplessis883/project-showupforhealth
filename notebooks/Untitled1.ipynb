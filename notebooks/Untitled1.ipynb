{
 "cells": [
  {
   "cell_type": "markdown",
   "id": "d5775a5b",
   "metadata": {},
   "source": [
    "## Prediction\n",
    "- Load data for one surgery (from file / or Dataframe via Streamlit)\n",
    "- Add Weather via API\n",
    "- Load Disease Register and merge with appointment data"
   ]
  },
  {
   "cell_type": "code",
   "execution_count": 1,
   "id": "7ee89c80",
   "metadata": {},
   "outputs": [],
   "source": [
    "from showupforhealth.params import *\n",
    "from showupforhealth.utils import *\n",
    "from showupforhealth.ml_functions.preprocessor import *\n",
    "from showupforhealth.ml_functions.disease_register import *\n",
    "from showupforhealth.ml_functions.data import *\n",
    "from showupforhealth.interface import *\n",
    "\n",
    "import pandas as pd "
   ]
  },
  {
   "cell_type": "code",
   "execution_count": 4,
   "id": "288fb7dd",
   "metadata": {},
   "outputs": [
    {
     "data": {
      "text/html": [
       "<div>\n",
       "<style scoped>\n",
       "    .dataframe tbody tr th:only-of-type {\n",
       "        vertical-align: middle;\n",
       "    }\n",
       "\n",
       "    .dataframe tbody tr th {\n",
       "        vertical-align: top;\n",
       "    }\n",
       "\n",
       "    .dataframe thead th {\n",
       "        text-align: right;\n",
       "    }\n",
       "</style>\n",
       "<table border=\"1\" class=\"dataframe\">\n",
       "  <thead>\n",
       "    <tr style=\"text-align: right;\">\n",
       "      <th></th>\n",
       "      <th>Appointment booked date</th>\n",
       "      <th>Appointment date</th>\n",
       "      <th>Appointment time</th>\n",
       "      <th>Booked by</th>\n",
       "      <th>Clinician</th>\n",
       "      <th>Rota type</th>\n",
       "      <th>Patient ID</th>\n",
       "    </tr>\n",
       "  </thead>\n",
       "  <tbody>\n",
       "    <tr>\n",
       "      <th>0</th>\n",
       "      <td>23-Jun-23</td>\n",
       "      <td>01-Sep-23</td>\n",
       "      <td>14:00 - 14:59</td>\n",
       "      <td>FLORKO, Aleksandra (Miss)</td>\n",
       "      <td>FLORKO, Aleksandra (Miss)</td>\n",
       "      <td>Earls Court Surgery Nurse</td>\n",
       "      <td>62804374</td>\n",
       "    </tr>\n",
       "    <tr>\n",
       "      <th>1</th>\n",
       "      <td>21-Jul-23</td>\n",
       "      <td>25-Aug-23</td>\n",
       "      <td>12:00 - 12:59</td>\n",
       "      <td>ADIB, Burhan (Dr.)</td>\n",
       "      <td>ADIB, Burhan (Dr.)</td>\n",
       "      <td>Earls Court Surgery GP</td>\n",
       "      <td>18071147</td>\n",
       "    </tr>\n",
       "    <tr>\n",
       "      <th>2</th>\n",
       "      <td>24-Jul-23</td>\n",
       "      <td>25-Aug-23</td>\n",
       "      <td>10:00 - 10:59</td>\n",
       "      <td>FRANKSON, Joyce (Ms)</td>\n",
       "      <td>ADIB, Burhan (Dr.)</td>\n",
       "      <td>Earls Court Surgery GP</td>\n",
       "      <td>38768716</td>\n",
       "    </tr>\n",
       "    <tr>\n",
       "      <th>3</th>\n",
       "      <td>27-Jul-23</td>\n",
       "      <td>23-Aug-23</td>\n",
       "      <td>09:00 - 09:59</td>\n",
       "      <td>FRANKSON, Joyce (Ms)</td>\n",
       "      <td>ADIB, Burhan (Dr.)</td>\n",
       "      <td>Earls Court Surgery GP</td>\n",
       "      <td>17412895</td>\n",
       "    </tr>\n",
       "    <tr>\n",
       "      <th>4</th>\n",
       "      <td>28-Jul-23</td>\n",
       "      <td>23-Aug-23</td>\n",
       "      <td>10:00 - 10:59</td>\n",
       "      <td>FRANKSON, Joyce (Ms)</td>\n",
       "      <td>ADIB, Burhan (Dr.)</td>\n",
       "      <td>Earls Court Surgery GP</td>\n",
       "      <td>19579451</td>\n",
       "    </tr>\n",
       "  </tbody>\n",
       "</table>\n",
       "</div>"
      ],
      "text/plain": [
       "  Appointment booked date Appointment date Appointment time  \\\n",
       "0               23-Jun-23        01-Sep-23    14:00 - 14:59   \n",
       "1               21-Jul-23        25-Aug-23    12:00 - 12:59   \n",
       "2               24-Jul-23        25-Aug-23    10:00 - 10:59   \n",
       "3               27-Jul-23        23-Aug-23    09:00 - 09:59   \n",
       "4               28-Jul-23        23-Aug-23    10:00 - 10:59   \n",
       "\n",
       "                   Booked by                  Clinician  \\\n",
       "0  FLORKO, Aleksandra (Miss)  FLORKO, Aleksandra (Miss)   \n",
       "1         ADIB, Burhan (Dr.)         ADIB, Burhan (Dr.)   \n",
       "2       FRANKSON, Joyce (Ms)         ADIB, Burhan (Dr.)   \n",
       "3       FRANKSON, Joyce (Ms)         ADIB, Burhan (Dr.)   \n",
       "4       FRANKSON, Joyce (Ms)         ADIB, Burhan (Dr.)   \n",
       "\n",
       "                   Rota type  Patient ID  \n",
       "0  Earls Court Surgery Nurse    62804374  \n",
       "1     Earls Court Surgery GP    18071147  \n",
       "2     Earls Court Surgery GP    38768716  \n",
       "3     Earls Court Surgery GP    17412895  \n",
       "4     Earls Court Surgery GP    19579451  "
      ]
     },
     "execution_count": 4,
     "metadata": {},
     "output_type": "execute_result"
    }
   ],
   "source": [
    "data = pd.read_csv(f'{PREDICT_DATA}/ECS_predict.csv')\n",
    "data.head()"
   ]
  },
  {
   "cell_type": "code",
   "execution_count": null,
   "id": "50e269f2",
   "metadata": {},
   "outputs": [],
   "source": []
  }
 ],
 "metadata": {
  "kernelspec": {
   "display_name": "Python 3 (ipykernel)",
   "language": "python",
   "name": "python3"
  },
  "language_info": {
   "codemirror_mode": {
    "name": "ipython",
    "version": 3
   },
   "file_extension": ".py",
   "mimetype": "text/x-python",
   "name": "python",
   "nbconvert_exporter": "python",
   "pygments_lexer": "ipython3",
   "version": "3.10.6"
  },
  "toc": {
   "base_numbering": 1,
   "nav_menu": {},
   "number_sections": true,
   "sideBar": true,
   "skip_h1_title": false,
   "title_cell": "Table of Contents",
   "title_sidebar": "Contents",
   "toc_cell": false,
   "toc_position": {},
   "toc_section_display": true,
   "toc_window_display": false
  }
 },
 "nbformat": 4,
 "nbformat_minor": 5
}

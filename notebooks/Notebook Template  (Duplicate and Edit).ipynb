{
 "cells": [
  {
   "cell_type": "markdown",
   "id": "b7a86da2",
   "metadata": {},
   "source": [
    "<link href=\"https://fonts.googleapis.com/css2?family=Inter:wght@400&display=swap\" rel=\"stylesheet\">\n",
    "<div style=\"font-family: 'Inter'; font-size: 24px; color: #749857;\"><B>🍏 Show Up</b> for Health</div>\n",
    "<div style=\"font-family: 'Inter'; font-size: 14px; color: #7a7979;\"><B>Predicting Missed Apppointment in Primary Care</b> - Brompton Health PCN</div>\n",
    "\n",
    "[janduplessis883](https://github.com/janduplessis883)<BR>\n",
    "[AlexAlexRose](https://github.com/AlexAlexRose)<BR>\n",
    "[FabySp](https://github.com/FabySp)<BR>\n",
    "[mogleyza](https://github.com/mogleyza)"
   ]
  },
  {
   "cell_type": "markdown",
   "id": "e40298c1",
   "metadata": {},
   "source": [
    "# GitHub Username | Notebook Title "
   ]
  },
  {
   "cell_type": "markdown",
   "id": "b6e83800",
   "metadata": {},
   "source": [
    "### Importing Libraries"
   ]
  },
  {
   "cell_type": "code",
   "execution_count": 4,
   "id": "5be5e800",
   "metadata": {
    "id": "e9d0ec85-c3da-4081-9383-01d9bd7fabf2"
   },
   "outputs": [],
   "source": [
    "# Importing default Libraries\n",
    "import matplotlib.pyplot as plt\n",
    "import pandas as pd \n",
    "import numpy as np\n",
    "import seaborn as sns\n",
    "import warnings\n",
    "\n",
    "# Hi-resolution Plots and Matplotlib inline\n",
    "%config InlineBackend.figure_format = 'retina'\n",
    "%matplotlib inline\n",
    "\n",
    "# Set the maximum number of rows and columns to be displayed\n",
    "pd.options.display.max_rows = 1000\n",
    "pd.options.display.max_columns = 1000\n",
    "warnings.filterwarnings('ignore')\n",
    "\n",
    "# \"magic commands\" to enable autoreload of your imported packages\n",
    "%load_ext autoreload\n",
    "%autoreload 2"
   ]
  },
  {
   "cell_type": "markdown",
   "id": "9b0c1a7a",
   "metadata": {},
   "source": [
    "### Params"
   ]
  },
  {
   "cell_type": "code",
   "execution_count": 7,
   "id": "15a248e9",
   "metadata": {},
   "outputs": [],
   "source": [
    "RAW_DATA = '~/code/janduplessis883/data-showup/data/raw-data/'\n",
    "WEATHER_DATA = '~/code/janduplessis883/data-showup/data/weather/weather.csv'\n",
    "IMD_DATA = '~/code/janduplessis883/data-showup/data/imd-master/imd_master.csv'\n",
    "\n",
    "OUTPUT_DATA = '~/code/janduplessis883/data-showup/data/output-data/'"
   ]
  },
  {
   "cell_type": "code",
   "execution_count": 17,
   "id": "6a7a00ea",
   "metadata": {},
   "outputs": [],
   "source": [
    "import math\n",
    "\n",
    "def haversine_distance(surgery_prefix, lat2, lon2):\n",
    "    R = 6371.0  # Radius of the Earth in kilometers\n",
    "\n",
    "    if surgery_prefix == 'ECS':\n",
    "        lat1, lon1 = 51.488721, -0.191873\n",
    "    elif surgery_prefix == 'SMW':\n",
    "        lat1, lon1 = 51.494474, -0.181931\n",
    "    elif surgery_prefix == 'TCP':\n",
    "        lat1, lon1 = 51.48459, -0.171887\n",
    "    elif surgery_prefix == 'HPVM':\n",
    "        lat1, lon1 = 51.48459, -0.171887\n",
    "    elif surgery_prefix == 'KMC':\n",
    "        lat1, lon1 = 51.49807, -0.159918\n",
    "    elif surgery_prefix == 'TGP':\n",
    "        lat1, lon1 = 51.482652, -0.178066\n",
    "\n",
    "\n",
    "    # Convert degrees to radians\n",
    "    lat1_rad = math.radians(lat1)\n",
    "    lon1_rad = math.radians(lon1)\n",
    "    lat2_rad = math.radians(lat2)\n",
    "    lon2_rad = math.radians(lon2)\n",
    "\n",
    "    # Differences\n",
    "    dlat = lat2_rad - lat1_rad\n",
    "    dlon = lon2_rad - lon1_rad\n",
    "\n",
    "    # Haversine formula\n",
    "    a = math.sin(dlat / 2)**2 + math.cos(lat1_rad) * math.cos(lat2_rad) * math.sin(dlon / 2)**2\n",
    "    c = 2 * math.atan2(math.sqrt(a), math.sqrt(1 - a))\n",
    "\n",
    "    distance = R * c\n",
    "    return distance  # in kilometers"
   ]
  },
  {
   "cell_type": "code",
   "execution_count": 22,
   "id": "f9852e4d",
   "metadata": {},
   "outputs": [],
   "source": [
    "def make_global_disease_register(surgery_list = ['ECS', 'TCP', 'TGP', 'SMW', 'KMC', 'HPVM']):\n",
    "    print('=== Preparing Global Disease Register + IMD2023 info ======================================')\n",
    "\n",
    "    disease_register = []\n",
    "    for surgery in surgery_list:\n",
    "        register_path = f'{RAW_DATA}{surgery}/{surgery}'\n",
    "\n",
    "        idnhs = pd.read_excel(f'{register_path}_NHS_PTID.xlsx', dtype='str')\n",
    "        idnhs.dropna(inplace=True)\n",
    "        frail = pd.read_csv(f'{register_path}_FRAILTY.csv', dtype='str')\n",
    "        dep = pd.read_csv(f'{register_path}_DEPRESSION.csv', dtype='str')\n",
    "        obesity = pd.read_csv(f'{register_path}_OBESITY.csv', dtype='str')\n",
    "        chd = pd.read_csv(f'{register_path}_IHD.csv', dtype='str')\n",
    "        dm = pd.read_csv(f'{register_path}_DM.csv', dtype='str')\n",
    "        hpt = pd.read_csv(f'{register_path}_HPT.csv', dtype='str')\n",
    "        ndhg = pd.read_csv(f'{register_path}_NDHG.csv', dtype='str')\n",
    "        smi = pd.read_csv(f'{register_path}_SMI.csv', dtype='str')\n",
    "\n",
    "        ptid = idnhs.merge(frail, how='left', on='NHS number')\n",
    "        ptid = ptid.drop(columns='NHS number')\n",
    "\n",
    "        register = (ptid.merge(dep, how='left', on='Patient ID')\n",
    "                    .merge(obesity, how='left', on='Patient ID')\n",
    "                    .merge(chd, how='left', on='Patient ID')\n",
    "                    .merge(dm, how='left', on='Patient ID')\n",
    "                    .merge(hpt, how='left', on='Patient ID')\n",
    "                    .merge(ndhg, how='left', on='Patient ID')\n",
    "                    .merge(smi, how='left', on='Patient ID')\n",
    "                    .fillna(0)\n",
    "                    )\n",
    "        print(f'💊 {surgery} Disease Register completed')\n",
    "        # Add IMD and distance from station\n",
    "        imd = pd.read_csv(IMD_DATA)\n",
    "\n",
    "        full_register = register.merge(imd, how='left', on='Postcode')\n",
    "        print(f'🔸 {surgery} IMD2023')\n",
    "        full_register['distance_from_surg'] = full_register.apply(lambda row: haversine_distance(surgery, row['Latitude'], row['Longitude']), axis=1)\n",
    "        disease_register.append(full_register)\n",
    "\n",
    "    global_register = pd.concat(disease_register, axis=0, ignore_index=True)\n",
    "    print(f\"🦠 Concat Registers into ONE REGISTER\")\n",
    "    \n",
    "    global_register.dropna(inplace=True)\n",
    "    print(f'❌ Dropped NaN')\n",
    "    \n",
    "    output_path = f'{OUTPUT_DATA}global_disease_register.csv'\n",
    "    global_register.to_csv(output_path, index=False)\n",
    "    print(f'✅ Global Disease Register Saved to output-data: {global_register.shape}')\n",
    "    print()\n",
    "    return global_register"
   ]
  },
  {
   "cell_type": "code",
   "execution_count": 25,
   "id": "c9ff78cd",
   "metadata": {},
   "outputs": [
    {
     "name": "stdout",
     "output_type": "stream",
     "text": [
      "=== Preparing Global Disease Register + IMD2023 info ======================================\n",
      "💊 ECS Disease Register completed\n",
      "🔸 ECS IMD2023\n",
      "💊 TCP Disease Register completed\n",
      "🔸 TCP IMD2023\n",
      "💊 TGP Disease Register completed\n",
      "🔸 TGP IMD2023\n",
      "💊 SMW Disease Register completed\n",
      "🔸 SMW IMD2023\n",
      "💊 KMC Disease Register completed\n",
      "🔸 KMC IMD2023\n",
      "💊 HPVM Disease Register completed\n",
      "🔸 HPVM IMD2023\n",
      "🦠 Concat Registers into ONE REGISTER\n",
      "❌ Dropped NaN\n",
      "✅ Global Disease Register Saved to output-data: (86301, 20)\n",
      "\n"
     ]
    }
   ],
   "source": [
    "disease_register = make_global_disease_register()"
   ]
  },
  {
   "cell_type": "code",
   "execution_count": null,
   "id": "bdbeaa19",
   "metadata": {},
   "outputs": [],
   "source": []
  }
 ],
 "metadata": {
  "kernelspec": {
   "display_name": "Python 3 (ipykernel)",
   "language": "python",
   "name": "python3"
  },
  "language_info": {
   "codemirror_mode": {
    "name": "ipython",
    "version": 3
   },
   "file_extension": ".py",
   "mimetype": "text/x-python",
   "name": "python",
   "nbconvert_exporter": "python",
   "pygments_lexer": "ipython3",
   "version": "3.10.6"
  },
  "toc": {
   "base_numbering": 1,
   "nav_menu": {},
   "number_sections": true,
   "sideBar": true,
   "skip_h1_title": false,
   "title_cell": "Table of Contents",
   "title_sidebar": "Contents",
   "toc_cell": false,
   "toc_position": {},
   "toc_section_display": true,
   "toc_window_display": false
  }
 },
 "nbformat": 4,
 "nbformat_minor": 5
}

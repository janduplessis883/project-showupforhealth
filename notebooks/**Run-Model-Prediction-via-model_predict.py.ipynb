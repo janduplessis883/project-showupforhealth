{
 "cells": [
  {
   "cell_type": "markdown",
   "id": "2e202c80",
   "metadata": {},
   "source": [
    "<div class='alert' style='background-color: #273333; color: #E5E7E8; padding:26px 26px; border-radius:15px; font-size:40px;'><B>Show Up </B> for Health - %run model_predict.py</div><span style='color: #273333; padding:26px 26px; font-size:11px;'> Powered by <B>AutoNote </B>&<b> Show Up for Health</b> Project</B></span><div style='margin:4px 26px; color:#273333; font-size:17px;'>"
   ]
  },
  {
   "cell_type": "code",
   "execution_count": 1,
   "id": "43f8a3d3",
   "metadata": {},
   "outputs": [],
   "source": [
    "from showupforhealth.utils import *\n",
    "from showupforhealth.params import *\n",
    "from showupforhealth.interface.model_predict import *\n",
    "from showupforhealth.ml_functions.predict import *\n",
    "\n",
    "# \"magic commands\" to enable autoreload of your imported packages\n",
    "%load_ext autoreload\n",
    "%autoreload 2\n",
    "\n",
    "pd.options.display.max_rows = 1000\n",
    "pd.options.display.max_columns = 1000\n",
    "\n",
    "import pandas as pd\n"
   ]
  },
  {
   "cell_type": "code",
   "execution_count": null,
   "id": "1b1fe556",
   "metadata": {
    "scrolled": false
   },
   "outputs": [],
   "source": [
    "%run ../showupforhealth/interface/model_predict.py"
   ]
  },
  {
   "cell_type": "markdown",
   "id": "74202b2e",
   "metadata": {},
   "source": [
    "\n",
    "-----"
   ]
  },
  {
   "cell_type": "code",
   "execution_count": null,
   "id": "dd86da34",
   "metadata": {},
   "outputs": [],
   "source": [
    "data = pd.read_csv(f'{PREDICT_DATA}/ECS_predict.csv', dtype='str')\n",
    "data.info()"
   ]
  },
  {
   "cell_type": "code",
   "execution_count": 3,
   "id": "7773aff5",
   "metadata": {},
   "outputs": [
    {
     "name": "stdout",
     "output_type": "stream",
     "text": [
      "\u001b[32m\n",
      "▶️ Select Scaler + Model:\n",
      "\u001b[32m1. jan_scaler_17sept23 + model16sept23_jan\n",
      "\u001b[32m2. Jan Backup 22 Sept 9am\n",
      "\u001b[32m3. Gentle Water undersample 0.15\n",
      "\u001b[0m\n",
      "36/36 [==============================] - 0s 439us/step\n"
     ]
    },
    {
     "data": {
      "text/plain": [
       "array([[0.38173047],\n",
       "       [0.9997133 ],\n",
       "       [0.99990237],\n",
       "       ...,\n",
       "       [0.99997467],\n",
       "       [0.9999762 ],\n",
       "       [0.9998742 ]], dtype=float32)"
      ]
     },
     "execution_count": 3,
     "metadata": {},
     "output_type": "execute_result"
    }
   ],
   "source": [
    "final_predict('ECS')"
   ]
  },
  {
   "cell_type": "code",
   "execution_count": null,
   "id": "3b9162e4",
   "metadata": {},
   "outputs": [],
   "source": []
  },
  {
   "cell_type": "code",
   "execution_count": null,
   "id": "2b59cd09",
   "metadata": {},
   "outputs": [],
   "source": []
  },
  {
   "cell_type": "code",
   "execution_count": null,
   "id": "c1ae8294",
   "metadata": {},
   "outputs": [],
   "source": []
  }
 ],
 "metadata": {
  "kernelspec": {
   "display_name": "Python 3 (ipykernel)",
   "language": "python",
   "name": "python3"
  },
  "language_info": {
   "codemirror_mode": {
    "name": "ipython",
    "version": 3
   },
   "file_extension": ".py",
   "mimetype": "text/x-python",
   "name": "python",
   "nbconvert_exporter": "python",
   "pygments_lexer": "ipython3",
   "version": "3.10.6"
  },
  "toc": {
   "base_numbering": 1,
   "nav_menu": {},
   "number_sections": true,
   "sideBar": true,
   "skip_h1_title": false,
   "title_cell": "Table of Contents",
   "title_sidebar": "Contents",
   "toc_cell": false,
   "toc_position": {},
   "toc_section_display": true,
   "toc_window_display": false
  }
 },
 "nbformat": 4,
 "nbformat_minor": 5
}

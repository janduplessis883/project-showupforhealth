{
 "cells": [
  {
   "cell_type": "markdown",
   "id": "2e202c80",
   "metadata": {},
   "source": [
    "<div class='alert' style='background-color: #273333; color: #E5E7E8; padding:26px 26px; border-radius:15px; font-size:40px;'><B>Show Up </B> for Health - %run model_predict.py</div><span style='color: #273333; padding:26px 26px; font-size:11px;'> Powered by <B>AutoNote </B>&<b> Show Up for Health</b> Project</B></span><div style='margin:4px 26px; color:#273333; font-size:17px;'>"
   ]
  },
  {
   "cell_type": "code",
   "execution_count": 5,
   "id": "43f8a3d3",
   "metadata": {},
   "outputs": [
    {
     "name": "stdout",
     "output_type": "stream",
     "text": [
      "The autoreload extension is already loaded. To reload it, use:\n",
      "  %reload_ext autoreload\n"
     ]
    }
   ],
   "source": [
    "from showupforhealth.utils import *\n",
    "from showupforhealth.params import *\n",
    "from showupforhealth.interface.model_predict import *\n",
    "\n",
    "# \"magic commands\" to enable autoreload of your imported packages\n",
    "%load_ext autoreload\n",
    "%autoreload 2\n",
    "\n",
    "pd.options.display.max_rows = 1000\n",
    "pd.options.display.max_columns = 1000\n"
   ]
  },
  {
   "cell_type": "code",
   "execution_count": null,
   "id": "1b1fe556",
   "metadata": {
    "scrolled": false
   },
   "outputs": [
    {
     "name": "stdout",
     "output_type": "stream",
     "text": [
      "\u001b[34m\n",
      "ECS - Earls Court Surgery\n",
      "\u001b[34mTGP - The Good Practice\n",
      "\u001b[34mTCP - The Chelsea Practice\n",
      "\u001b[34mSMW - Stanhope Mews West\n",
      "\u001b[34mKMC - Knightsbridge Medical Centre\n",
      "\u001b[34mHPVN - Health Partners at Violet Melchett\n",
      "Enter Surgery Prefix to continue: HPVM\n",
      "\u001b[0m\n",
      "\n",
      "=== Preparing Appoitment Data for Prediction =================================\n",
      "🌤️ Prediction: HPVM - preparing appointment data for weather\n",
      "👩🏻‍🦰 Appointments: 2732 🧑🏻‍🦰 Unique Patient IDs; 1295\n",
      "🛜 Requesting forcast from Open-Meteo Weather API 2023-08-21 - 2023-09-11\n",
      "🔂 Merge weather + appointment data\n",
      "✅ Successful: return df\n",
      "👉 Appointment DF in: (2732, 11)\n",
      "🔀 Disease Register merged with prediction data - (2732, 32)\n",
      "❌ Drop NaN - Disease Register Merge = 297\n",
      "⛽️ Fill NaN (0) - No Shows Merge\n",
      "\n",
      "=== Feature Engineering =============================================================\n",
      "🔂 Rename Columns\n",
      "🔂 Drop deseased and deducted\n",
      "🔂 Columns to Datetime\n",
      "🔂 Fix Appointment Time\n",
      "🔂 book_to_app_days\n",
      "🔂 booked_by_clinician\n",
      "🔂 Extract Rota Types\n",
      "🔂 registered_for_months\n",
      "🔂 Week\n",
      "🔂 Month\n",
      "🔂 Day of week\n",
      "🔂 Convert Cyclical data\n",
      "🔂 Drop Column no longer needed\n",
      "🔂 Rows dropped from Rotas other than spec: 198\n",
      "🔂 Rows from with Negative book_to_app_days: 0\n",
      "🔂 Drop rows with Sex Unknonw & Indeterminate\n",
      "🔂 Labelencode Column Sex\n",
      "🔂 OneHotEncode Rota types\n",
      "🔂 Extract Ethnicity Category\n",
      "🔂 OneHotEncode Ethnicity\n",
      "🔂 Drop NaN\n",
      "✅ Done in 0.04 sec (2234, 37)\n",
      "❗️TEST PASSED - df has 37 columns!\n",
      "\u001b[32m\n",
      "▶️ Select Scaler + Model:\n",
      "\u001b[32m1. jan_scaler_17sept23 + model16sept23_jan\n",
      "\u001b[32m2. Jan Backup 22 Sept 9am\n",
      "\u001b[32m3. Gentle Water undersample 0.15\n"
     ]
    }
   ],
   "source": [
    "%run ../showupforhealth/interface/model_predict.py"
   ]
  },
  {
   "cell_type": "markdown",
   "id": "74202b2e",
   "metadata": {},
   "source": [
    "\n",
    "-----"
   ]
  },
  {
   "cell_type": "code",
   "execution_count": 7,
   "id": "c3452b46",
   "metadata": {},
   "outputs": [
    {
     "name": "stdout",
     "output_type": "stream",
     "text": [
      "\n",
      "=== Preparing Appoitment Data for Prediction =================================\n",
      "🌤️ Prediction: HPVM - preparing appointment data for weather\n",
      "👩🏻‍🦰 Appointments: 2732 🧑🏻‍🦰 Unique Patient IDs; 1295\n",
      "🛜 Requesting forcast from Open-Meteo Weather API 2023-08-21 - 2023-09-11\n",
      "🔂 Merge weather + appointment data\n",
      "✅ Successful: return df\n",
      "👉 Appointment DF in: (2732, 11)\n",
      "🔀 Disease Register merged with prediction data - (2732, 32)\n",
      "❌ Drop NaN - Disease Register Merge = 297\n",
      "⛽️ Fill NaN (0) - No Shows Merge\n",
      "\n",
      "=== Feature Engineering =============================================================\n",
      "🔂 Rename Columns\n",
      "🔂 Drop deseased and deducted\n",
      "🔂 Columns to Datetime\n",
      "🔂 Fix Appointment Time\n",
      "🔂 book_to_app_days\n",
      "🔂 booked_by_clinician\n",
      "🔂 Extract Rota Types\n",
      "🔂 registered_for_months\n",
      "🔂 Week\n",
      "🔂 Month\n",
      "🔂 Day of week\n",
      "🔂 Convert Cyclical data\n",
      "🔂 Drop Column no longer needed\n",
      "🔂 Rows dropped from Rotas other than spec: 198\n",
      "🔂 Rows from with Negative book_to_app_days: 0\n",
      "🔂 Drop rows with Sex Unknonw & Indeterminate\n",
      "🔂 Labelencode Column Sex\n",
      "🔂 OneHotEncode Rota types\n",
      "🔂 Extract Ethnicity Category\n",
      "🔂 OneHotEncode Ethnicity\n",
      "🔂 Drop NaN\n",
      "✅ Done in 0.03 sec (2234, 37)\n",
      "❗️TEST PASSED - df has 37 columns!\n"
     ]
    },
    {
     "ename": "TypeError",
     "evalue": "scaler_model_predict() missing 1 required positional argument: 'scaler_no'",
     "output_type": "error",
     "traceback": [
      "\u001b[0;31m---------------------------------------------------------------------------\u001b[0m",
      "\u001b[0;31mTypeError\u001b[0m                                 Traceback (most recent call last)",
      "Cell \u001b[0;32mIn[7], line 1\u001b[0m\n\u001b[0;32m----> 1\u001b[0m \u001b[43mfinal_predict\u001b[49m\u001b[43m(\u001b[49m\u001b[43m)\u001b[49m\n",
      "File \u001b[0;32m~/code/janduplessis883/project-showupforhealth/showupforhealth/interface/model_predict.py:156\u001b[0m, in \u001b[0;36mfinal_predict\u001b[0;34m(surgery_prefix)\u001b[0m\n\u001b[1;32m    154\u001b[0m X_new \u001b[38;5;241m=\u001b[39m X_temp\u001b[38;5;241m.\u001b[39mdrop(columns\u001b[38;5;241m=\u001b[39m\u001b[38;5;124m\"\u001b[39m\u001b[38;5;124mPatient ID\u001b[39m\u001b[38;5;124m\"\u001b[39m)\n\u001b[1;32m    155\u001b[0m pt_id \u001b[38;5;241m=\u001b[39m X_temp[[\u001b[38;5;124m\"\u001b[39m\u001b[38;5;124mPatient ID\u001b[39m\u001b[38;5;124m\"\u001b[39m]]\n\u001b[0;32m--> 156\u001b[0m predictions \u001b[38;5;241m=\u001b[39m scaler_model_predict(X_new, scaler_no\u001b[38;5;241m=\u001b[39m\u001b[38;5;124m'\u001b[39m\u001b[38;5;124m1\u001b[39m\u001b[38;5;124m'\u001b[39m)\n\u001b[1;32m    157\u001b[0m class_labels \u001b[38;5;241m=\u001b[39m display_threshold_info(predictions)\n\u001b[1;32m    158\u001b[0m df \u001b[38;5;241m=\u001b[39m display_outcome_df(class_labels, pt_id)\n",
      "\u001b[0;31mTypeError\u001b[0m: scaler_model_predict() missing 1 required positional argument: 'scaler_no'"
     ]
    }
   ],
   "source": [
    "final_predict()\n"
   ]
  },
  {
   "cell_type": "code",
   "execution_count": null,
   "id": "dd86da34",
   "metadata": {},
   "outputs": [],
   "source": [
    "fi"
   ]
  }
 ],
 "metadata": {
  "kernelspec": {
   "display_name": "Python 3 (ipykernel)",
   "language": "python",
   "name": "python3"
  },
  "language_info": {
   "codemirror_mode": {
    "name": "ipython",
    "version": 3
   },
   "file_extension": ".py",
   "mimetype": "text/x-python",
   "name": "python",
   "nbconvert_exporter": "python",
   "pygments_lexer": "ipython3",
   "version": "3.10.6"
  },
  "toc": {
   "base_numbering": 1,
   "nav_menu": {},
   "number_sections": true,
   "sideBar": true,
   "skip_h1_title": false,
   "title_cell": "Table of Contents",
   "title_sidebar": "Contents",
   "toc_cell": false,
   "toc_position": {},
   "toc_section_display": true,
   "toc_window_display": false
  }
 },
 "nbformat": 4,
 "nbformat_minor": 5
}

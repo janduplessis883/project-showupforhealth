{
 "cells": [
  {
   "cell_type": "code",
   "execution_count": 2,
   "id": "7ecfa568",
   "metadata": {},
   "outputs": [],
   "source": [
    "import matplotlib.pyplot as plt\n",
    "import pandas as pd \n",
    "import numpy as np\n",
    "import seaborn as sns"
   ]
  },
  {
   "cell_type": "markdown",
   "id": "8f0264d7",
   "metadata": {},
   "source": [
    "### Define paths and variables"
   ]
  },
  {
   "cell_type": "code",
   "execution_count": 3,
   "id": "af2c15c2",
   "metadata": {},
   "outputs": [],
   "source": [
    "RAW_DATA = '~/code/janduplessis883/data-showup/data/raw-data/'"
   ]
  },
  {
   "cell_type": "markdown",
   "id": "c91da667",
   "metadata": {},
   "source": [
    "### Concatenate all appointments "
   ]
  },
  {
   "cell_type": "code",
   "execution_count": 4,
   "id": "d238062f",
   "metadata": {
    "scrolled": false
   },
   "outputs": [],
   "source": [
    "def make_appointments_register(surgery_list = ['ECS', 'TCP', 'TGP', 'SMW', 'KMC', 'HPVM']):\n",
    "    all_surgery_list = []\n",
    "    \n",
    "    for surgery in surgery_list:\n",
    "        surgery_appointment_list = []\n",
    "        \n",
    "        for i in range(1,10):\n",
    "            app_path = f'{RAW_DATA}{surgery}/{surgery}_app{i}.csv'\n",
    "            single_app_file = pd.read_csv(app_path)\n",
    "            surgery_appointment_list.append(single_app_file)\n",
    "            \n",
    "        surgery_apps_df = pd.concat(surgery_appointment_list, ignore_index=True)\n",
    "        print(f'The total rows of the {surgery} surgery is {surgery_apps_df.shape[0]}')\n",
    "        \n",
    "        all_surgery_list.append(surgery_apps_df)\n",
    "        \n",
    "    full_list = pd.concat(all_surgery_list, ignore_index=True)\n",
    "    return full_list   "
   ]
  }
 ],
 "metadata": {
  "kernelspec": {
   "display_name": "Python 3 (ipykernel)",
   "language": "python",
   "name": "python3"
  },
  "language_info": {
   "codemirror_mode": {
    "name": "ipython",
    "version": 3
   },
   "file_extension": ".py",
   "mimetype": "text/x-python",
   "name": "python",
   "nbconvert_exporter": "python",
   "pygments_lexer": "ipython3",
   "version": "3.10.6"
  },
  "toc": {
   "base_numbering": 1,
   "nav_menu": {},
   "number_sections": true,
   "sideBar": true,
   "skip_h1_title": false,
   "title_cell": "Table of Contents",
   "title_sidebar": "Contents",
   "toc_cell": false,
   "toc_position": {},
   "toc_section_display": true,
   "toc_window_display": false
  }
 },
 "nbformat": 4,
 "nbformat_minor": 5
}

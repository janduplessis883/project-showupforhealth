{
 "cells": [
  {
   "cell_type": "markdown",
   "id": "13cbefba",
   "metadata": {},
   "source": [
    "<div class='alert' style='background-color: #273333; color: #E5E7E8; padding:26px 26px; border-radius:15px; font-size:40px;'><B>Show Up </B> for Health - %run model_predict.py</div><span style='color: #273333; padding:26px 26px; font-size:11px;'> Powered by <B>AutoNote </B>&<b> Show Up for Health</b> Project</B></span><div style='margin:4px 26px; color:#273333; font-size:17px;'>"
   ]
  },
  {
   "cell_type": "code",
   "execution_count": 6,
   "id": "6efc96ac",
   "metadata": {},
   "outputs": [
    {
     "name": "stdout",
     "output_type": "stream",
     "text": [
      "The autoreload extension is already loaded. To reload it, use:\n",
      "  %reload_ext autoreload\n"
     ]
    }
   ],
   "source": [
    "from showupforhealth.utils import *\n",
    "from showupforhealth.params import *\n",
    "from showupforhealth.interface.model_predict import *\n",
    "\n",
    "# \"magic commands\" to enable autoreload of your imported packages\n",
    "%load_ext autoreload\n",
    "%autoreload 2\n",
    "\n",
    "pd.options.display.max_rows = 1000\n",
    "pd.options.display.max_columns = 1000"
   ]
  },
  {
   "cell_type": "code",
   "execution_count": 9,
   "id": "9b876d45",
   "metadata": {},
   "outputs": [
    {
     "name": "stdout",
     "output_type": "stream",
     "text": [
      "\u001b[34m\n",
      "ECS - Earls Court Surgery\n",
      "\u001b[34mTGP - The Good Practice\n",
      "\u001b[34mTCP - The Chelsea Practice\n",
      "\u001b[34mSMW - Stanhope Mews West\n",
      "\u001b[34mKMC - Knightsbridge Medical Centre\n",
      "\u001b[34mHPVN - Health Partners at Violet Melchett\n",
      "Enter Surgery Prefix to continue: ECS\n",
      "\u001b[0m\n",
      "\n",
      "=== Preparing Appoitment Data for Prediction =================================\n",
      "🌤️ Prediction: ECS - preparing appointment data for weather\n",
      "👩🏻‍🦰 Appointments: 1209 🧑🏻‍🦰 Unique Patient IDs; 695\n",
      "🛜 Requesting forcast from Open-Meteo Weather API 2023-08-31 - 2023-09-20\n",
      "🔂 Merge weather + appointment data\n",
      "✅ Successful: return df\n",
      "👉 Appointment DF in: (1209, 11)\n",
      "🔀 Disease Register merged with prediction data - (1209, 32)\n",
      "❌ Drop NaN - Disease Register Merge = 63\n",
      "⛽️ Fill NaN (0) - No Shows Merge\n",
      "\n",
      "=== Feature Engineering =============================================================\n",
      "🔂 Rename Columns\n",
      "🔂 Drop deseased and deducted\n",
      "🔂 Columns to Datetime\n",
      "🔂 Fix Appointment Time\n",
      "🔂 book_to_app_days\n",
      "🔂 booked_by_clinician\n",
      "🔂 Extract Rota Types\n",
      "🔂 registered_for_months\n",
      "🔂 Week\n",
      "🔂 Month\n",
      "🔂 Day of week\n",
      "🔂 Convert Cyclical data\n",
      "🔂 Drop Column no longer needed\n",
      "🔂 Rows dropped from Rotas other than spec: 0\n",
      "🔂 Rows from with Negative book_to_app_days: 0\n",
      "🔂 Drop rows with Sex Unknonw & Indeterminate\n",
      "🔂 Labelencode Column Sex\n",
      "🔂 OneHotEncode Rota types\n",
      "🔂 Extract Ethnicity Category\n",
      "🔂 OneHotEncode Ethnicity\n",
      "🔂 Drop NaN\n",
      "✅ Done in 0.03 sec (1146, 37)\n",
      "❗️TEST PASSED - df has 37 columns!\n",
      "\u001b[32m\n",
      "▶️ Select Scaler + Model:\n",
      "\u001b[32m1. jan_scaler_17sept23 + model16sept23_jan\n",
      "\u001b[32m2. Empty\n",
      "\u001b[32m3. Jan Model 17 Sept with Patient ID\n",
      "Enter Selection: 3\n",
      "\u001b[0m\n",
      "36/36 [==============================] - 0s 473us/step\n",
      "No shows Predicted at 0.4 threshold: 25\n",
      "No shows Predicted at 0.5 threshold: 55\n",
      "No shows Predicted at 0.6 threshold: 120\n",
      "No shows Predicted at 0.7 threshold: 178\n",
      "No shows Predicted at 0.8 threshold: 247\n",
      "Select Threshold to continue: 0.5\n",
      "\u001b[0m\n"
     ]
    },
    {
     "ename": "NameError",
     "evalue": "name 'pt_id' is not defined",
     "output_type": "error",
     "traceback": [
      "\u001b[0;31m---------------------------------------------------------------------------\u001b[0m",
      "\u001b[0;31mNameError\u001b[0m                                 Traceback (most recent call last)",
      "File \u001b[0;32m~/code/janduplessis883/project-showupforhealth/showupforhealth/interface/model_predict.py:112\u001b[0m\n\u001b[1;32m    110\u001b[0m predictions \u001b[38;5;241m=\u001b[39m scaler_model_predict(X_new)\n\u001b[1;32m    111\u001b[0m class_labels \u001b[38;5;241m=\u001b[39m display_threshold_info(predictions)\n\u001b[0;32m--> 112\u001b[0m df \u001b[38;5;241m=\u001b[39m display_outcome_df(class_labels, \u001b[43mpt_id\u001b[49m)\n\u001b[1;32m    113\u001b[0m display(df)\n\u001b[1;32m    114\u001b[0m display(df[\u001b[38;5;124m'\u001b[39m\u001b[38;5;124mAppointment status\u001b[39m\u001b[38;5;124m'\u001b[39m]\u001b[38;5;241m.\u001b[39mvalue_counts())\n",
      "\u001b[0;31mNameError\u001b[0m: name 'pt_id' is not defined"
     ]
    }
   ],
   "source": [
    "%run ../showupforhealth/interface/model_predict.py"
   ]
  },
  {
   "cell_type": "markdown",
   "id": "66df88c7",
   "metadata": {},
   "source": [
    "-- Run the file below ------------------------------------------------------------"
   ]
  },
  {
   "cell_type": "code",
   "execution_count": 3,
   "id": "4d78de31",
   "metadata": {},
   "outputs": [
    {
     "ename": "NameError",
     "evalue": "name 'df' is not defined",
     "output_type": "error",
     "traceback": [
      "\u001b[0;31m---------------------------------------------------------------------------\u001b[0m",
      "\u001b[0;31mNameError\u001b[0m                                 Traceback (most recent call last)",
      "Cell \u001b[0;32mIn[3], line 1\u001b[0m\n\u001b[0;32m----> 1\u001b[0m \u001b[43mdf\u001b[49m\u001b[38;5;241m.\u001b[39mduplicated()\u001b[38;5;241m.\u001b[39msum()\n",
      "\u001b[0;31mNameError\u001b[0m: name 'df' is not defined"
     ]
    }
   ],
   "source": [
    "df.duplicated().sum()"
   ]
  },
  {
   "cell_type": "code",
   "execution_count": null,
   "id": "d8cff1b3",
   "metadata": {},
   "outputs": [],
   "source": [
    "df.drop_duplicates(keep='first', inplace=True)"
   ]
  },
  {
   "cell_type": "code",
   "execution_count": null,
   "id": "0dc3439e",
   "metadata": {},
   "outputs": [],
   "source": [
    "df.shape"
   ]
  },
  {
   "cell_type": "code",
   "execution_count": null,
   "id": "12a85c0a",
   "metadata": {},
   "outputs": [],
   "source": [
    "pt_id"
   ]
  },
  {
   "cell_type": "code",
   "execution_count": null,
   "id": "49c10b35",
   "metadata": {},
   "outputs": [],
   "source": [
    "data = pd.read_csv('ECS_Predict.csv')"
   ]
  },
  {
   "cell_type": "code",
   "execution_count": null,
   "id": "7ff4a333",
   "metadata": {},
   "outputs": [],
   "source": [
    "data"
   ]
  },
  {
   "cell_type": "code",
   "execution_count": null,
   "id": "dc6b9e77",
   "metadata": {},
   "outputs": [],
   "source": [
    "pt_id = get_appointment_info('ECS')"
   ]
  },
  {
   "cell_type": "code",
   "execution_count": null,
   "id": "db381fdd",
   "metadata": {},
   "outputs": [],
   "source": []
  }
 ],
 "metadata": {
  "kernelspec": {
   "display_name": "Python 3 (ipykernel)",
   "language": "python",
   "name": "python3"
  },
  "language_info": {
   "codemirror_mode": {
    "name": "ipython",
    "version": 3
   },
   "file_extension": ".py",
   "mimetype": "text/x-python",
   "name": "python",
   "nbconvert_exporter": "python",
   "pygments_lexer": "ipython3",
   "version": "3.10.6"
  },
  "toc": {
   "base_numbering": 1,
   "nav_menu": {},
   "number_sections": true,
   "sideBar": true,
   "skip_h1_title": false,
   "title_cell": "Table of Contents",
   "title_sidebar": "Contents",
   "toc_cell": false,
   "toc_position": {},
   "toc_section_display": true,
   "toc_window_display": false
  }
 },
 "nbformat": 4,
 "nbformat_minor": 5
}

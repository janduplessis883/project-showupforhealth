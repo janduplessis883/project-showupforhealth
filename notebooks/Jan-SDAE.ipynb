{
 "cells": [
  {
   "cell_type": "markdown",
   "id": "bab68b25",
   "metadata": {
    "id": "f959fee9-5b7d-4202-90f9-1cc2f8641523"
   },
   "source": [
    "<div class='alert' style='background-color: #273333; color: #E5E7E8; padding:26px 26px; border-radius:15px; font-size:40px;'><B>Show Up </B> for Health - SDAE</div><span style='color: #273333; padding:26px 26px; font-size:11px;'> Powered by <B>AutoNote </B>and<b> 🍏 ShowUp </b>helper class</B></span><div style='margin:4px 26px; color:#273333; font-size:17px;'>\n",
    "<ol>\n",
    "<li><B>Problem statement</B>: A clear description of the problem the project aims to solve.</li><BR>\n",
    "<li><B>Data source</B>: Information on where the data used in the project is obtained from.</li><BR>\n",
    "<li><B>Libraries used</B>: A list of the Python libraries used in the project and a brief explanation of their role. Include library version.</li><BR>\n",
    "<li><B>Exploratory Data Analysis (EDA)</B>: A summary of the initial findings from exploring the data.</li><BR>\n",
    "<li><B>Preprocessing</B>: Steps taken to clean and prepare the data for model building.</li><BR>\n",
    "<li><B>Model building</B>: An overview of the model used and the reasoning behind its selection.</li><BR>\n",
    " Precision = $\\frac{\\text{true positives}}{\\text{true positives + false positives}}$, Recall = $\\frac{\\text{true positives}}{\\text{true positives + false negatives}}$, F1 = $2 \\times \\frac{\\text{precision} \\times \\text{recall}}{\\text{precision + recall}}$</li><BR><BR>\n",
    "<li><B>Model evaluation</B>: Evaluation metrics used to assess the performance of the model and results of the evaluation.</li><BR>\n",
    "<li><B>Conclusion</B>: A summary of the findings and recommendations for further work.</li>\n",
    "</ol>\n",
    "</div>"
   ]
  },
  {
   "cell_type": "markdown",
   "id": "0eb401c6",
   "metadata": {},
   "source": [
    "#  🍏 Loading Helper Class"
   ]
  },
  {
   "cell_type": "markdown",
   "id": "8f9456eb",
   "metadata": {},
   "source": [
    "wandb_api_key: 651204c459ad2877b0d32ae2f37ce28d159a9cbe"
   ]
  },
  {
   "cell_type": "code",
   "execution_count": 1,
   "id": "cb3affb6",
   "metadata": {},
   "outputs": [
    {
     "name": "stderr",
     "output_type": "stream",
     "text": [
      "\u001b[34m\u001b[1mwandb\u001b[0m: Currently logged in as: \u001b[33mdrjanduplessis\u001b[0m (\u001b[33mbromptonhealthpcn\u001b[0m). Use \u001b[1m`wandb login --relogin`\u001b[0m to force relogin\n"
     ]
    },
    {
     "data": {
      "text/plain": [
       "True"
      ]
     },
     "execution_count": 1,
     "metadata": {},
     "output_type": "execute_result"
    }
   ],
   "source": [
    "import wandb\n",
    "wandb.login()"
   ]
  },
  {
   "cell_type": "code",
   "execution_count": 1,
   "id": "6f8220a5",
   "metadata": {
    "id": "12b2f75b-edda-4234-b447-49994b01e550"
   },
   "outputs": [],
   "source": [
    "# Importing default Libraries\n",
    "import matplotlib.pyplot as plt\n",
    "import pandas as pd \n",
    "import numpy as np\n",
    "import seaborn as sns\n",
    "import warnings\n",
    "\n",
    "pd.options.display.max_rows = 1000\n",
    "pd.options.display.max_columns = 1000\n",
    "\n",
    "# Hi-resolution Plots and Matplotlib inline\n",
    "%config InlineBackend.figure_format = 'retina'\n",
    "%matplotlib inline\n",
    "\n",
    "# Set the maximum number of rows and columns to be displayed\n",
    "warnings.filterwarnings('ignore')\n",
    "\n",
    "# \"magic commands\" to enable autoreload of your imported packages\n",
    "%load_ext autoreload\n",
    "%autoreload 2"
   ]
  },
  {
   "cell_type": "markdown",
   "id": "d1a683b6",
   "metadata": {},
   "source": [
    "# 📙 Loading Libraries"
   ]
  },
  {
   "cell_type": "code",
   "execution_count": 2,
   "id": "f98b1c18",
   "metadata": {
    "ExecuteTime": {
     "end_time": "2023-07-31T06:08:04.898909Z",
     "start_time": "2023-07-31T06:08:00.658415Z"
    },
    "id": "d069592d-5175-4382-a060-3c9b8edd9e90"
   },
   "outputs": [],
   "source": [
    "''' Scikit-Learn'''\n",
    "from sklearn.model_selection import train_test_split\n",
    "from sklearn.preprocessing import StandardScaler, RobustScaler\n",
    "from sklearn.metrics import confusion_matrix\n",
    "\n",
    "''' Imbalanced Classes'''\n",
    "import imblearn\n",
    "from imblearn.over_sampling import SMOTE\n",
    "from imblearn.under_sampling import RandomUnderSampler\n",
    "from imblearn.pipeline import Pipeline\n",
    "\n",
    "''' Tensorflow Keras'''\n",
    "from tensorflow import keras\n",
    "from tensorflow.keras import models\n",
    "from tensorflow.keras import layers\n",
    "from tensorflow.keras.callbacks import EarlyStopping\n",
    "from tensorflow.keras import regularizers\n",
    "from tensorflow.keras.optimizers import Adam\n",
    "from tensorflow.keras.optimizers.schedules import ExponentialDecay\n",
    "from tensorflow.keras.models import Sequential\n",
    "from tensorflow.keras.layers import Dense, Dropout\n",
    "\n",
    "from showupforhealth.params import *\n",
    "from showupforhealth.utils import *\n"
   ]
  },
  {
   "cell_type": "markdown",
   "id": "265ca65d",
   "metadata": {},
   "source": [
    "# 💾 Build Surgery Datasets\n",
    "Merge **Appointment Data** with **Surgery Disease Register**, Weather and IMD2023"
   ]
  },
  {
   "cell_type": "code",
   "execution_count": 34,
   "id": "008ae71f",
   "metadata": {},
   "outputs": [
    {
     "data": {
      "text/html": [
       "<div>\n",
       "<style scoped>\n",
       "    .dataframe tbody tr th:only-of-type {\n",
       "        vertical-align: middle;\n",
       "    }\n",
       "\n",
       "    .dataframe tbody tr th {\n",
       "        vertical-align: top;\n",
       "    }\n",
       "\n",
       "    .dataframe thead th {\n",
       "        text-align: right;\n",
       "    }\n",
       "</style>\n",
       "<table border=\"1\" class=\"dataframe\">\n",
       "  <thead>\n",
       "    <tr style=\"text-align: right;\">\n",
       "      <th></th>\n",
       "      <th>Appointment_status</th>\n",
       "      <th>temp</th>\n",
       "      <th>precipitation</th>\n",
       "      <th>Age</th>\n",
       "      <th>Sex</th>\n",
       "      <th>FRAILTY</th>\n",
       "      <th>DEPRESSION</th>\n",
       "      <th>OBESITY</th>\n",
       "      <th>IHD</th>\n",
       "      <th>DM</th>\n",
       "      <th>HPT</th>\n",
       "      <th>NDHG</th>\n",
       "      <th>SMI</th>\n",
       "      <th>IMD2023</th>\n",
       "      <th>dist_to_station</th>\n",
       "      <th>distance_to_surg</th>\n",
       "      <th>book_to_app_days</th>\n",
       "      <th>booked_by_clinician</th>\n",
       "      <th>registered_for_months</th>\n",
       "      <th>sin_week</th>\n",
       "      <th>cos_week</th>\n",
       "      <th>sin_Appointment_time</th>\n",
       "      <th>cos_Appointment_time</th>\n",
       "      <th>sin_month</th>\n",
       "      <th>cos_month</th>\n",
       "      <th>sin_day_of_week</th>\n",
       "      <th>cos_day_of_week</th>\n",
       "      <th>No_shows</th>\n",
       "      <th>Rota_ARRS</th>\n",
       "      <th>Rota_GP</th>\n",
       "      <th>Rota_HCA</th>\n",
       "      <th>Rota_Nurse</th>\n",
       "      <th>Ethnicity_Asian</th>\n",
       "      <th>Ethnicity_Black</th>\n",
       "      <th>Ethnicity_Mixed</th>\n",
       "      <th>Ethnicity_Other</th>\n",
       "      <th>Ethnicity_White</th>\n",
       "    </tr>\n",
       "  </thead>\n",
       "  <tbody>\n",
       "    <tr>\n",
       "      <th>0</th>\n",
       "      <td>1</td>\n",
       "      <td>17.7</td>\n",
       "      <td>0.0</td>\n",
       "      <td>40</td>\n",
       "      <td>0</td>\n",
       "      <td>0.00</td>\n",
       "      <td>0</td>\n",
       "      <td>0</td>\n",
       "      <td>0</td>\n",
       "      <td>0</td>\n",
       "      <td>0</td>\n",
       "      <td>0</td>\n",
       "      <td>0</td>\n",
       "      <td>22698.0</td>\n",
       "      <td>0.519419</td>\n",
       "      <td>0.816996</td>\n",
       "      <td>54.0</td>\n",
       "      <td>1</td>\n",
       "      <td>17.0</td>\n",
       "      <td>-0.120537</td>\n",
       "      <td>-0.992709</td>\n",
       "      <td>0.707107</td>\n",
       "      <td>-0.707107</td>\n",
       "      <td>-0.5</td>\n",
       "      <td>-0.866025</td>\n",
       "      <td>0.781831</td>\n",
       "      <td>0.623490</td>\n",
       "      <td>2.0</td>\n",
       "      <td>0.0</td>\n",
       "      <td>0.0</td>\n",
       "      <td>0.0</td>\n",
       "      <td>1.0</td>\n",
       "      <td>0.0</td>\n",
       "      <td>0.0</td>\n",
       "      <td>0.0</td>\n",
       "      <td>0.0</td>\n",
       "      <td>1.0</td>\n",
       "    </tr>\n",
       "    <tr>\n",
       "      <th>1</th>\n",
       "      <td>1</td>\n",
       "      <td>18.5</td>\n",
       "      <td>0.0</td>\n",
       "      <td>70</td>\n",
       "      <td>2</td>\n",
       "      <td>0.39</td>\n",
       "      <td>0</td>\n",
       "      <td>1</td>\n",
       "      <td>0</td>\n",
       "      <td>1</td>\n",
       "      <td>1</td>\n",
       "      <td>0</td>\n",
       "      <td>0</td>\n",
       "      <td>10169.0</td>\n",
       "      <td>0.540792</td>\n",
       "      <td>1.656309</td>\n",
       "      <td>49.0</td>\n",
       "      <td>0</td>\n",
       "      <td>12.0</td>\n",
       "      <td>-0.120537</td>\n",
       "      <td>-0.992709</td>\n",
       "      <td>0.500000</td>\n",
       "      <td>-0.866025</td>\n",
       "      <td>-0.5</td>\n",
       "      <td>-0.866025</td>\n",
       "      <td>0.781831</td>\n",
       "      <td>0.623490</td>\n",
       "      <td>2.0</td>\n",
       "      <td>0.0</td>\n",
       "      <td>0.0</td>\n",
       "      <td>0.0</td>\n",
       "      <td>1.0</td>\n",
       "      <td>1.0</td>\n",
       "      <td>0.0</td>\n",
       "      <td>0.0</td>\n",
       "      <td>0.0</td>\n",
       "      <td>0.0</td>\n",
       "    </tr>\n",
       "    <tr>\n",
       "      <th>2</th>\n",
       "      <td>1</td>\n",
       "      <td>18.5</td>\n",
       "      <td>0.0</td>\n",
       "      <td>70</td>\n",
       "      <td>2</td>\n",
       "      <td>0.39</td>\n",
       "      <td>0</td>\n",
       "      <td>1</td>\n",
       "      <td>0</td>\n",
       "      <td>1</td>\n",
       "      <td>1</td>\n",
       "      <td>0</td>\n",
       "      <td>0</td>\n",
       "      <td>10169.0</td>\n",
       "      <td>0.540792</td>\n",
       "      <td>1.656309</td>\n",
       "      <td>49.0</td>\n",
       "      <td>0</td>\n",
       "      <td>12.0</td>\n",
       "      <td>-0.120537</td>\n",
       "      <td>-0.992709</td>\n",
       "      <td>0.500000</td>\n",
       "      <td>-0.866025</td>\n",
       "      <td>-0.5</td>\n",
       "      <td>-0.866025</td>\n",
       "      <td>0.781831</td>\n",
       "      <td>0.623490</td>\n",
       "      <td>2.0</td>\n",
       "      <td>0.0</td>\n",
       "      <td>0.0</td>\n",
       "      <td>0.0</td>\n",
       "      <td>1.0</td>\n",
       "      <td>1.0</td>\n",
       "      <td>0.0</td>\n",
       "      <td>0.0</td>\n",
       "      <td>0.0</td>\n",
       "      <td>0.0</td>\n",
       "    </tr>\n",
       "    <tr>\n",
       "      <th>3</th>\n",
       "      <td>1</td>\n",
       "      <td>19.4</td>\n",
       "      <td>0.0</td>\n",
       "      <td>66</td>\n",
       "      <td>2</td>\n",
       "      <td>0.03</td>\n",
       "      <td>1</td>\n",
       "      <td>0</td>\n",
       "      <td>0</td>\n",
       "      <td>0</td>\n",
       "      <td>1</td>\n",
       "      <td>0</td>\n",
       "      <td>0</td>\n",
       "      <td>8243.0</td>\n",
       "      <td>0.332691</td>\n",
       "      <td>0.600495</td>\n",
       "      <td>37.0</td>\n",
       "      <td>0</td>\n",
       "      <td>70.0</td>\n",
       "      <td>-0.120537</td>\n",
       "      <td>-0.992709</td>\n",
       "      <td>0.258819</td>\n",
       "      <td>-0.965926</td>\n",
       "      <td>-0.5</td>\n",
       "      <td>-0.866025</td>\n",
       "      <td>0.433884</td>\n",
       "      <td>-0.900969</td>\n",
       "      <td>10.0</td>\n",
       "      <td>0.0</td>\n",
       "      <td>0.0</td>\n",
       "      <td>1.0</td>\n",
       "      <td>0.0</td>\n",
       "      <td>0.0</td>\n",
       "      <td>0.0</td>\n",
       "      <td>0.0</td>\n",
       "      <td>0.0</td>\n",
       "      <td>1.0</td>\n",
       "    </tr>\n",
       "    <tr>\n",
       "      <th>4</th>\n",
       "      <td>1</td>\n",
       "      <td>18.3</td>\n",
       "      <td>0.0</td>\n",
       "      <td>58</td>\n",
       "      <td>0</td>\n",
       "      <td>0.11</td>\n",
       "      <td>0</td>\n",
       "      <td>1</td>\n",
       "      <td>0</td>\n",
       "      <td>0</td>\n",
       "      <td>0</td>\n",
       "      <td>0</td>\n",
       "      <td>0</td>\n",
       "      <td>7626.0</td>\n",
       "      <td>0.155802</td>\n",
       "      <td>0.215224</td>\n",
       "      <td>27.0</td>\n",
       "      <td>0</td>\n",
       "      <td>28.0</td>\n",
       "      <td>-0.120537</td>\n",
       "      <td>-0.992709</td>\n",
       "      <td>0.707107</td>\n",
       "      <td>-0.707107</td>\n",
       "      <td>-0.5</td>\n",
       "      <td>-0.866025</td>\n",
       "      <td>0.433884</td>\n",
       "      <td>-0.900969</td>\n",
       "      <td>0.0</td>\n",
       "      <td>0.0</td>\n",
       "      <td>0.0</td>\n",
       "      <td>0.0</td>\n",
       "      <td>1.0</td>\n",
       "      <td>0.0</td>\n",
       "      <td>0.0</td>\n",
       "      <td>0.0</td>\n",
       "      <td>0.0</td>\n",
       "      <td>1.0</td>\n",
       "    </tr>\n",
       "  </tbody>\n",
       "</table>\n",
       "</div>"
      ],
      "text/plain": [
       "   Appointment_status  temp  precipitation  Age  Sex  FRAILTY  DEPRESSION  \\\n",
       "0                   1  17.7            0.0   40    0     0.00           0   \n",
       "1                   1  18.5            0.0   70    2     0.39           0   \n",
       "2                   1  18.5            0.0   70    2     0.39           0   \n",
       "3                   1  19.4            0.0   66    2     0.03           1   \n",
       "4                   1  18.3            0.0   58    0     0.11           0   \n",
       "\n",
       "   OBESITY  IHD  DM  HPT  NDHG  SMI  IMD2023  dist_to_station  \\\n",
       "0        0    0   0    0     0    0  22698.0         0.519419   \n",
       "1        1    0   1    1     0    0  10169.0         0.540792   \n",
       "2        1    0   1    1     0    0  10169.0         0.540792   \n",
       "3        0    0   0    1     0    0   8243.0         0.332691   \n",
       "4        1    0   0    0     0    0   7626.0         0.155802   \n",
       "\n",
       "   distance_to_surg  book_to_app_days  booked_by_clinician  \\\n",
       "0          0.816996              54.0                    1   \n",
       "1          1.656309              49.0                    0   \n",
       "2          1.656309              49.0                    0   \n",
       "3          0.600495              37.0                    0   \n",
       "4          0.215224              27.0                    0   \n",
       "\n",
       "   registered_for_months  sin_week  cos_week  sin_Appointment_time  \\\n",
       "0                   17.0 -0.120537 -0.992709              0.707107   \n",
       "1                   12.0 -0.120537 -0.992709              0.500000   \n",
       "2                   12.0 -0.120537 -0.992709              0.500000   \n",
       "3                   70.0 -0.120537 -0.992709              0.258819   \n",
       "4                   28.0 -0.120537 -0.992709              0.707107   \n",
       "\n",
       "   cos_Appointment_time  sin_month  cos_month  sin_day_of_week  \\\n",
       "0             -0.707107       -0.5  -0.866025         0.781831   \n",
       "1             -0.866025       -0.5  -0.866025         0.781831   \n",
       "2             -0.866025       -0.5  -0.866025         0.781831   \n",
       "3             -0.965926       -0.5  -0.866025         0.433884   \n",
       "4             -0.707107       -0.5  -0.866025         0.433884   \n",
       "\n",
       "   cos_day_of_week  No_shows  Rota_ARRS  Rota_GP  Rota_HCA  Rota_Nurse  \\\n",
       "0         0.623490       2.0        0.0      0.0       0.0         1.0   \n",
       "1         0.623490       2.0        0.0      0.0       0.0         1.0   \n",
       "2         0.623490       2.0        0.0      0.0       0.0         1.0   \n",
       "3        -0.900969      10.0        0.0      0.0       1.0         0.0   \n",
       "4        -0.900969       0.0        0.0      0.0       0.0         1.0   \n",
       "\n",
       "   Ethnicity_Asian  Ethnicity_Black  Ethnicity_Mixed  Ethnicity_Other  \\\n",
       "0              0.0              0.0              0.0              0.0   \n",
       "1              1.0              0.0              0.0              0.0   \n",
       "2              1.0              0.0              0.0              0.0   \n",
       "3              0.0              0.0              0.0              0.0   \n",
       "4              0.0              0.0              0.0              0.0   \n",
       "\n",
       "   Ethnicity_White  \n",
       "0              1.0  \n",
       "1              0.0  \n",
       "2              0.0  \n",
       "3              1.0  \n",
       "4              1.0  "
      ]
     },
     "execution_count": 34,
     "metadata": {},
     "output_type": "execute_result"
    }
   ],
   "source": [
    "data = pd.read_csv(f'{OUTPUT_DATA}full_train_data.csv')\n",
    "data.head()"
   ]
  },
  {
   "cell_type": "markdown",
   "id": "8dc8989e",
   "metadata": {},
   "source": [
    "## Define X and y"
   ]
  },
  {
   "cell_type": "code",
   "execution_count": 35,
   "id": "a1154d5c",
   "metadata": {
    "ExecuteTime": {
     "end_time": "2023-07-31T06:08:45.125638Z",
     "start_time": "2023-07-31T06:08:45.030851Z"
    },
    "id": "f3657b11-7627-41c0-91aa-4df38de39567"
   },
   "outputs": [
    {
     "name": "stdout",
     "output_type": "stream",
     "text": [
      "X - independant variable shape: (901516, 36)\n",
      "y - dependant variable - Appointment_status: (901516,)\n"
     ]
    }
   ],
   "source": [
    "# Define X and y\n",
    "X, y = define_X_y(data, 'Appointment_status')"
   ]
  },
  {
   "cell_type": "markdown",
   "id": "8167ba7c",
   "metadata": {},
   "source": [
    "# ✂️ Split data"
   ]
  },
  {
   "cell_type": "code",
   "execution_count": 23,
   "id": "830f4dd6",
   "metadata": {
    "ExecuteTime": {
     "end_time": "2023-07-31T06:09:42.311289Z",
     "start_time": "2023-07-31T06:09:42.174171Z"
    }
   },
   "outputs": [
    {
     "name": "stdout",
     "output_type": "stream",
     "text": [
      "✅ OUTPUT: X_train, X_val, X_test, y_train, y_val, y_test\n",
      "Train Set:  X_train, y_train - (631060, 36), (631060,)\n",
      "  Val Set:  X_val, y_val - - - (180304, 36), (180304,)\n",
      " Test Set:  X_test, y_test - - (90152, 36), (90152,)\n"
     ]
    }
   ],
   "source": [
    "X_train, X_val, X_test, y_train, y_val, y_test = train_val_test_split(X, y, val_size=0.2, test_size=0.1)"
   ]
  },
  {
   "cell_type": "markdown",
   "id": "c3bfa281",
   "metadata": {},
   "source": [
    "# ⚖️ Class imbalance\n",
    "Including **distribution of imbalance** within train, val and test sets."
   ]
  },
  {
   "cell_type": "code",
   "execution_count": 24,
   "id": "e4db17c8",
   "metadata": {
    "ExecuteTime": {
     "end_time": "2023-07-31T06:09:48.168104Z",
     "start_time": "2023-07-31T06:09:48.070769Z"
    }
   },
   "outputs": [
    {
     "name": "stdout",
     "output_type": "stream",
     "text": [
      "DNA distribution in train val and test set pre-oversampling\n",
      "---------------------------------------------------------------------------\n",
      "There are 24036 DNAs in the train set\n",
      "There are 6816 DNAs in the val set\n",
      "There are 3532 DNAs in the test set\n"
     ]
    }
   ],
   "source": [
    "# How many \"fraud\" samples do I have in each split?\n",
    "print(\"DNA distribution in train val and test set pre-oversampling\")\n",
    "print(\"-\"*75)\n",
    "print(f\"There are {pd.Series(y_train).value_counts()[0]} DNAs in the train set\")\n",
    "print(f\"There are {pd.Series(y_val).value_counts()[0]} DNAs in the val set\")\n",
    "print(f\"There are {pd.Series(y_test).value_counts()[0]} DNAs in the test set\")"
   ]
  },
  {
   "cell_type": "markdown",
   "id": "12ad181f",
   "metadata": {},
   "source": [
    "# 🔁 Oversampling SMOTE"
   ]
  },
  {
   "cell_type": "code",
   "execution_count": 25,
   "id": "a288e88f",
   "metadata": {
    "ExecuteTime": {
     "end_time": "2023-07-31T06:10:04.783204Z",
     "start_time": "2023-07-31T06:10:04.575261Z"
    },
    "id": "f3657b11-7627-41c0-91aa-4df38de39567"
   },
   "outputs": [
    {
     "name": "stdout",
     "output_type": "stream",
     "text": [
      "✅ Data Oversampled: SMOTE - X_train_os:(667726, 36) y_train_os :(667726,)\n"
     ]
    }
   ],
   "source": [
    "# Oversampling with SMOTE\n",
    "X_train, y_train = oversample_with_smote(X_train, y_train, sampling_strategy=0.1)"
   ]
  },
  {
   "cell_type": "code",
   "execution_count": null,
   "id": "72490f5b",
   "metadata": {
    "ExecuteTime": {
     "end_time": "2023-07-31T06:10:05.097863Z",
     "start_time": "2023-07-31T06:10:05.034819Z"
    }
   },
   "outputs": [],
   "source": [
    "# How many \"fraud\" samples do I have in each split?\n",
    "print(\"DNAs in X_train_o post-oversampling\")\n",
    "print(\"-\"*75)\n",
    "print(f\"There are {pd.Series(y_train_o).value_counts()[0]} DNAs in the train set\")"
   ]
  },
  {
   "cell_type": "code",
   "execution_count": 9,
   "id": "16c6f0fa",
   "metadata": {
    "ExecuteTime": {
     "end_time": "2023-07-31T03:55:13.815466Z",
     "start_time": "2023-07-31T03:55:13.744023Z"
    },
    "id": "f3657b11-7627-41c0-91aa-4df38de39567"
   },
   "outputs": [],
   "source": [
    "#Scale data\n",
    "# Fit the scaler on the training data\n",
    "scaler = fit_scaler(X_train, scaler_type='minmax')"
   ]
  },
  {
   "cell_type": "code",
   "execution_count": 26,
   "id": "fb60478e",
   "metadata": {
    "ExecuteTime": {
     "end_time": "2023-07-31T03:55:13.815466Z",
     "start_time": "2023-07-31T03:55:13.744023Z"
    },
    "id": "f3657b11-7627-41c0-91aa-4df38de39567"
   },
   "outputs": [],
   "source": [
    "# Use the fitted scaler to transform both training and test datasets\n",
    "X_train_scaled = transform_data(X_train, scaler)\n",
    "X_val_scaled = transform_data(X_val, scaler)\n",
    "X_test_scaled = transform_data(X_test, scaler)"
   ]
  },
  {
   "cell_type": "code",
   "execution_count": 27,
   "id": "acc2062c",
   "metadata": {},
   "outputs": [
    {
     "data": {
      "text/html": [
       "<div>\n",
       "<style scoped>\n",
       "    .dataframe tbody tr th:only-of-type {\n",
       "        vertical-align: middle;\n",
       "    }\n",
       "\n",
       "    .dataframe tbody tr th {\n",
       "        vertical-align: top;\n",
       "    }\n",
       "\n",
       "    .dataframe thead th {\n",
       "        text-align: right;\n",
       "    }\n",
       "</style>\n",
       "<table border=\"1\" class=\"dataframe\">\n",
       "  <thead>\n",
       "    <tr style=\"text-align: right;\">\n",
       "      <th></th>\n",
       "      <th>temp</th>\n",
       "      <th>precipitation</th>\n",
       "      <th>Age</th>\n",
       "      <th>Sex</th>\n",
       "      <th>FRAILTY</th>\n",
       "      <th>DEPRESSION</th>\n",
       "      <th>OBESITY</th>\n",
       "      <th>IHD</th>\n",
       "      <th>DM</th>\n",
       "      <th>HPT</th>\n",
       "      <th>NDHG</th>\n",
       "      <th>SMI</th>\n",
       "      <th>IMD2023</th>\n",
       "      <th>dist_to_station</th>\n",
       "      <th>distance_to_surg</th>\n",
       "      <th>book_to_app_days</th>\n",
       "      <th>booked_by_clinician</th>\n",
       "      <th>registered_for_months</th>\n",
       "      <th>sin_week</th>\n",
       "      <th>cos_week</th>\n",
       "      <th>sin_Appointment_time</th>\n",
       "      <th>cos_Appointment_time</th>\n",
       "      <th>sin_month</th>\n",
       "      <th>cos_month</th>\n",
       "      <th>sin_day_of_week</th>\n",
       "      <th>cos_day_of_week</th>\n",
       "      <th>No_shows</th>\n",
       "      <th>Rota_ARRS</th>\n",
       "      <th>Rota_GP</th>\n",
       "      <th>Rota_HCA</th>\n",
       "      <th>Rota_Nurse</th>\n",
       "      <th>Ethnicity_Asian</th>\n",
       "      <th>Ethnicity_Black</th>\n",
       "      <th>Ethnicity_Mixed</th>\n",
       "      <th>Ethnicity_Other</th>\n",
       "      <th>Ethnicity_White</th>\n",
       "    </tr>\n",
       "  </thead>\n",
       "  <tbody>\n",
       "    <tr>\n",
       "      <th>0</th>\n",
       "      <td>0.564593</td>\n",
       "      <td>0.0</td>\n",
       "      <td>0.773585</td>\n",
       "      <td>0.666667</td>\n",
       "      <td>0.666667</td>\n",
       "      <td>0.0</td>\n",
       "      <td>1.0</td>\n",
       "      <td>1.0</td>\n",
       "      <td>0.0</td>\n",
       "      <td>1.0</td>\n",
       "      <td>0.0</td>\n",
       "      <td>0.0</td>\n",
       "      <td>0.051433</td>\n",
       "      <td>0.208648</td>\n",
       "      <td>0.019406</td>\n",
       "      <td>0.022951</td>\n",
       "      <td>1.0</td>\n",
       "      <td>0.360544</td>\n",
       "      <td>0.057272</td>\n",
       "      <td>0.267638</td>\n",
       "      <td>0.146447</td>\n",
       "      <td>0.156961</td>\n",
       "      <td>0.000000</td>\n",
       "      <td>0.500000</td>\n",
       "      <td>0.722521</td>\n",
       "      <td>5.551115e-17</td>\n",
       "      <td>0.023810</td>\n",
       "      <td>0.0</td>\n",
       "      <td>1.0</td>\n",
       "      <td>0.0</td>\n",
       "      <td>0.0</td>\n",
       "      <td>0.0</td>\n",
       "      <td>1.0</td>\n",
       "      <td>0.0</td>\n",
       "      <td>0.0</td>\n",
       "      <td>0.0</td>\n",
       "    </tr>\n",
       "    <tr>\n",
       "      <th>1</th>\n",
       "      <td>0.495215</td>\n",
       "      <td>0.0</td>\n",
       "      <td>0.632075</td>\n",
       "      <td>0.000000</td>\n",
       "      <td>0.106667</td>\n",
       "      <td>1.0</td>\n",
       "      <td>0.0</td>\n",
       "      <td>0.0</td>\n",
       "      <td>0.0</td>\n",
       "      <td>0.0</td>\n",
       "      <td>1.0</td>\n",
       "      <td>0.0</td>\n",
       "      <td>0.253749</td>\n",
       "      <td>0.118400</td>\n",
       "      <td>0.025214</td>\n",
       "      <td>0.049180</td>\n",
       "      <td>0.0</td>\n",
       "      <td>0.272109</td>\n",
       "      <td>0.057272</td>\n",
       "      <td>0.267638</td>\n",
       "      <td>0.933013</td>\n",
       "      <td>0.267949</td>\n",
       "      <td>0.000000</td>\n",
       "      <td>0.500000</td>\n",
       "      <td>0.722521</td>\n",
       "      <td>5.551115e-17</td>\n",
       "      <td>0.023810</td>\n",
       "      <td>0.0</td>\n",
       "      <td>1.0</td>\n",
       "      <td>0.0</td>\n",
       "      <td>0.0</td>\n",
       "      <td>0.0</td>\n",
       "      <td>0.0</td>\n",
       "      <td>0.0</td>\n",
       "      <td>0.0</td>\n",
       "      <td>1.0</td>\n",
       "    </tr>\n",
       "    <tr>\n",
       "      <th>2</th>\n",
       "      <td>0.531100</td>\n",
       "      <td>0.0</td>\n",
       "      <td>0.311321</td>\n",
       "      <td>0.000000</td>\n",
       "      <td>0.080000</td>\n",
       "      <td>0.0</td>\n",
       "      <td>0.0</td>\n",
       "      <td>0.0</td>\n",
       "      <td>0.0</td>\n",
       "      <td>0.0</td>\n",
       "      <td>0.0</td>\n",
       "      <td>0.0</td>\n",
       "      <td>0.718045</td>\n",
       "      <td>0.265990</td>\n",
       "      <td>0.023687</td>\n",
       "      <td>0.000000</td>\n",
       "      <td>0.0</td>\n",
       "      <td>0.122449</td>\n",
       "      <td>0.003646</td>\n",
       "      <td>0.560268</td>\n",
       "      <td>0.146447</td>\n",
       "      <td>0.156961</td>\n",
       "      <td>0.066987</td>\n",
       "      <td>0.750000</td>\n",
       "      <td>0.500000</td>\n",
       "      <td>1.000000e+00</td>\n",
       "      <td>0.000000</td>\n",
       "      <td>0.0</td>\n",
       "      <td>1.0</td>\n",
       "      <td>0.0</td>\n",
       "      <td>0.0</td>\n",
       "      <td>0.0</td>\n",
       "      <td>1.0</td>\n",
       "      <td>0.0</td>\n",
       "      <td>0.0</td>\n",
       "      <td>0.0</td>\n",
       "    </tr>\n",
       "    <tr>\n",
       "      <th>3</th>\n",
       "      <td>0.940191</td>\n",
       "      <td>0.0</td>\n",
       "      <td>0.707547</td>\n",
       "      <td>0.000000</td>\n",
       "      <td>0.186667</td>\n",
       "      <td>0.0</td>\n",
       "      <td>0.0</td>\n",
       "      <td>0.0</td>\n",
       "      <td>0.0</td>\n",
       "      <td>0.0</td>\n",
       "      <td>1.0</td>\n",
       "      <td>0.0</td>\n",
       "      <td>0.349426</td>\n",
       "      <td>0.155233</td>\n",
       "      <td>0.021973</td>\n",
       "      <td>0.000000</td>\n",
       "      <td>1.0</td>\n",
       "      <td>0.455782</td>\n",
       "      <td>0.322698</td>\n",
       "      <td>0.032492</td>\n",
       "      <td>0.066987</td>\n",
       "      <td>0.267949</td>\n",
       "      <td>0.250000</td>\n",
       "      <td>0.066987</td>\n",
       "      <td>0.500000</td>\n",
       "      <td>1.000000e+00</td>\n",
       "      <td>0.007937</td>\n",
       "      <td>0.0</td>\n",
       "      <td>1.0</td>\n",
       "      <td>0.0</td>\n",
       "      <td>0.0</td>\n",
       "      <td>0.0</td>\n",
       "      <td>0.0</td>\n",
       "      <td>0.0</td>\n",
       "      <td>0.0</td>\n",
       "      <td>1.0</td>\n",
       "    </tr>\n",
       "    <tr>\n",
       "      <th>4</th>\n",
       "      <td>0.217703</td>\n",
       "      <td>0.0</td>\n",
       "      <td>0.632075</td>\n",
       "      <td>0.000000</td>\n",
       "      <td>0.146667</td>\n",
       "      <td>0.0</td>\n",
       "      <td>1.0</td>\n",
       "      <td>0.0</td>\n",
       "      <td>1.0</td>\n",
       "      <td>1.0</td>\n",
       "      <td>0.0</td>\n",
       "      <td>0.0</td>\n",
       "      <td>0.811510</td>\n",
       "      <td>0.225699</td>\n",
       "      <td>0.038441</td>\n",
       "      <td>0.039344</td>\n",
       "      <td>0.0</td>\n",
       "      <td>0.244898</td>\n",
       "      <td>0.831561</td>\n",
       "      <td>0.874255</td>\n",
       "      <td>0.146447</td>\n",
       "      <td>0.156961</td>\n",
       "      <td>0.933013</td>\n",
       "      <td>0.750000</td>\n",
       "      <td>0.500000</td>\n",
       "      <td>1.000000e+00</td>\n",
       "      <td>0.000000</td>\n",
       "      <td>0.0</td>\n",
       "      <td>0.0</td>\n",
       "      <td>0.0</td>\n",
       "      <td>1.0</td>\n",
       "      <td>0.0</td>\n",
       "      <td>1.0</td>\n",
       "      <td>0.0</td>\n",
       "      <td>0.0</td>\n",
       "      <td>0.0</td>\n",
       "    </tr>\n",
       "  </tbody>\n",
       "</table>\n",
       "</div>"
      ],
      "text/plain": [
       "       temp  precipitation       Age       Sex   FRAILTY  DEPRESSION  OBESITY  \\\n",
       "0  0.564593            0.0  0.773585  0.666667  0.666667         0.0      1.0   \n",
       "1  0.495215            0.0  0.632075  0.000000  0.106667         1.0      0.0   \n",
       "2  0.531100            0.0  0.311321  0.000000  0.080000         0.0      0.0   \n",
       "3  0.940191            0.0  0.707547  0.000000  0.186667         0.0      0.0   \n",
       "4  0.217703            0.0  0.632075  0.000000  0.146667         0.0      1.0   \n",
       "\n",
       "   IHD   DM  HPT  NDHG  SMI   IMD2023  dist_to_station  distance_to_surg  \\\n",
       "0  1.0  0.0  1.0   0.0  0.0  0.051433         0.208648          0.019406   \n",
       "1  0.0  0.0  0.0   1.0  0.0  0.253749         0.118400          0.025214   \n",
       "2  0.0  0.0  0.0   0.0  0.0  0.718045         0.265990          0.023687   \n",
       "3  0.0  0.0  0.0   1.0  0.0  0.349426         0.155233          0.021973   \n",
       "4  0.0  1.0  1.0   0.0  0.0  0.811510         0.225699          0.038441   \n",
       "\n",
       "   book_to_app_days  booked_by_clinician  registered_for_months  sin_week  \\\n",
       "0          0.022951                  1.0               0.360544  0.057272   \n",
       "1          0.049180                  0.0               0.272109  0.057272   \n",
       "2          0.000000                  0.0               0.122449  0.003646   \n",
       "3          0.000000                  1.0               0.455782  0.322698   \n",
       "4          0.039344                  0.0               0.244898  0.831561   \n",
       "\n",
       "   cos_week  sin_Appointment_time  cos_Appointment_time  sin_month  cos_month  \\\n",
       "0  0.267638              0.146447              0.156961   0.000000   0.500000   \n",
       "1  0.267638              0.933013              0.267949   0.000000   0.500000   \n",
       "2  0.560268              0.146447              0.156961   0.066987   0.750000   \n",
       "3  0.032492              0.066987              0.267949   0.250000   0.066987   \n",
       "4  0.874255              0.146447              0.156961   0.933013   0.750000   \n",
       "\n",
       "   sin_day_of_week  cos_day_of_week  No_shows  Rota_ARRS  Rota_GP  Rota_HCA  \\\n",
       "0         0.722521     5.551115e-17  0.023810        0.0      1.0       0.0   \n",
       "1         0.722521     5.551115e-17  0.023810        0.0      1.0       0.0   \n",
       "2         0.500000     1.000000e+00  0.000000        0.0      1.0       0.0   \n",
       "3         0.500000     1.000000e+00  0.007937        0.0      1.0       0.0   \n",
       "4         0.500000     1.000000e+00  0.000000        0.0      0.0       0.0   \n",
       "\n",
       "   Rota_Nurse  Ethnicity_Asian  Ethnicity_Black  Ethnicity_Mixed  \\\n",
       "0         0.0              0.0              1.0              0.0   \n",
       "1         0.0              0.0              0.0              0.0   \n",
       "2         0.0              0.0              1.0              0.0   \n",
       "3         0.0              0.0              0.0              0.0   \n",
       "4         1.0              0.0              1.0              0.0   \n",
       "\n",
       "   Ethnicity_Other  Ethnicity_White  \n",
       "0              0.0              0.0  \n",
       "1              0.0              1.0  \n",
       "2              0.0              0.0  \n",
       "3              0.0              1.0  \n",
       "4              0.0              0.0  "
      ]
     },
     "execution_count": 27,
     "metadata": {},
     "output_type": "execute_result"
    }
   ],
   "source": [
    "X_train_scaled.head()"
   ]
  },
  {
   "cell_type": "markdown",
   "id": "d5e4c585",
   "metadata": {},
   "source": [
    "# 🧠 Neural Network iterations"
   ]
  },
  {
   "cell_type": "code",
   "execution_count": 12,
   "id": "5752766e",
   "metadata": {
    "ExecuteTime": {
     "end_time": "2023-07-31T06:10:55.636444Z",
     "start_time": "2023-07-31T06:10:55.508539Z"
    }
   },
   "outputs": [],
   "source": [
    "from tensorflow.keras import backend as K\n",
    "\n",
    "def f1_score(y_true, y_pred): # defining a custom F1 score metric\n",
    "    true_positives = K.sum(K.round(K.clip(y_true * y_pred, 0, 1)))\n",
    "    possible_positives = K.sum(K.round(K.clip(y_true, 0, 1)))\n",
    "    predicted_positives = K.sum(K.round(K.clip(y_pred, 0, 1)))\n",
    "    precision = true_positives / (predicted_positives + K.epsilon())\n",
    "    recall = true_positives / (possible_positives + K.epsilon())\n",
    "    f1_val = 2*(precision*recall)/(precision+recall+K.epsilon())\n",
    "    return f1_val\n",
    "\n",
    "metrics = [\n",
    "    keras.metrics.BinaryCrossentropy(name='cross entropy'),  # same as model's loss\n",
    "    f1_score,  # adding the custom F1 score metric\n",
    "#     keras.metrics.TruePositives(name='tp'),\n",
    "#     keras.metrics.FalsePositives(name='fp'),\n",
    "#     keras.metrics.TrueNegatives(name='tn'),\n",
    "#     keras.metrics.FalseNegatives(name='fn'), \n",
    "    keras.metrics.BinaryAccuracy(name='accuracy'),\n",
    "    keras.metrics.Precision(name='precision'),\n",
    "    keras.metrics.Recall(name='recall'),\n",
    "    keras.metrics.AUC(name='auc'),\n",
    "    keras.metrics.AUC(name='prc', curve='PR'), # precision-recall curve\n",
    "]\n"
   ]
  },
  {
   "cell_type": "code",
   "execution_count": 13,
   "id": "88334823",
   "metadata": {
    "ExecuteTime": {
     "end_time": "2023-07-31T06:34:59.474023Z",
     "start_time": "2023-07-31T06:34:59.407063Z"
    },
    "scrolled": false
   },
   "outputs": [],
   "source": [
    "def plot_loss_precision_recall_curve(history):\n",
    "\n",
    "    fig, ax = plt.subplots(3, 2, figsize=(20, 15))\n",
    "\n",
    "    # --- LOSS \n",
    "    ax[0, 0].plot(history.history['loss'], color=\"#a10606\")\n",
    "    ax[0, 0].plot(history.history['val_loss'], color=\"#1b5743\")\n",
    "    ax[0, 0].set_title('Model loss', fontsize = 18)\n",
    "    ax[0, 0].set_ylabel('Loss', fontsize = 14)\n",
    "    ax[0, 0].legend(['Train', 'Val'], loc='upper right')\n",
    "    ax[0, 0].grid(axis=\"x\", linewidth=0.5)\n",
    "    ax[0, 0].grid(axis=\"y\", linewidth=0.5)\n",
    "\n",
    "    # --- RECALL\n",
    "    ax[0, 1].plot(history.history['recall']) \n",
    "    ax[0, 1].plot(history.history['val_recall'])\n",
    "    ax[0, 1].set_title('Model recall', fontsize = 18)\n",
    "    ax[0, 1].set_ylabel('Recall', fontsize = 14) \n",
    "    ax[0, 1].legend(['Train', 'Val'], loc='lower right')\n",
    "    ax[0, 1].grid(axis=\"x\", linewidth=0.5)\n",
    "    ax[0, 1].grid(axis=\"y\", linewidth=0.5)\n",
    "\n",
    "    # --- PRECISION\n",
    "    ax[1, 0].plot(history.history['precision'])\n",
    "    ax[1, 0].plot(history.history['val_precision'])\n",
    "    ax[1, 0].set_title('Model precision', fontsize = 18)\n",
    "    ax[1, 0].set_ylabel('Precision', fontsize = 14)\n",
    "    ax[1, 0].legend(['Train', 'Val'], loc='lower right')\n",
    "    ax[1, 0].grid(axis=\"x\", linewidth=0.5)\n",
    "    ax[1, 0].grid(axis=\"y\", linewidth=0.5)\n",
    "\n",
    "    # --- F1 SCORE \n",
    "    ax[1, 1].plot(history.history['f1_score'])\n",
    "    ax[1, 1].plot(history.history['val_f1_score']) \n",
    "    ax[1, 1].set_title('Model F1 Score', fontsize = 18)\n",
    "    ax[1, 1].set_ylabel('F1 Score', fontsize = 14)\n",
    "    ax[1, 1].legend(['Train', 'Val'], loc='lower right')\n",
    "    ax[1, 1].grid(axis=\"x\", linewidth=0.5)\n",
    "    ax[1, 1].grid(axis=\"y\", linewidth=0.5)\n",
    "    \n",
    "    # --- AUC\n",
    "    ax[2, 0].plot(history.history['auc'])\n",
    "    ax[2, 0].plot(history.history['val_auc'])\n",
    "    ax[2, 0].set_title('Model AUC', fontsize = 18) \n",
    "    ax[2, 0].set_ylabel('AUC', fontsize = 14)\n",
    "    ax[2, 0].legend(['Train', 'Val'], loc='lower right')\n",
    "    ax[2, 0].grid(axis=\"x\", linewidth=0.5)\n",
    "    ax[2, 0].grid(axis=\"y\", linewidth=0.5)\n",
    "\n",
    "\n",
    "#     ax[2, 1].plot(history.history['tp'])\n",
    "#     ax[2, 1].plot(history.history['val_tp'])\n",
    "#     ax[2, 1].set_title('Model True Positive', fontsize = 18) \n",
    "#     ax[2, 1].set_ylabel('TP', fontsize = 14)\n",
    "#     ax[2, 1].legend(['Train', 'Val'], loc='lower right')\n",
    "#     ax[2, 1].grid(axis=\"x\", linewidth=0.5)\n",
    "#     ax[2, 1].grid(axis=\"y\", linewidth=0.5)\n",
    "\n",
    "    # Set common labels  \n",
    "    fig.text(0.5, 0.04, 'Epoch', ha='center', va='center', fontsize=14) \n",
    "\n",
    "    plt.show()"
   ]
  },
  {
   "cell_type": "code",
   "execution_count": 54,
   "id": "9d80f160",
   "metadata": {},
   "outputs": [
    {
     "data": {
      "text/html": [
       "Tracking run with wandb version 0.15.10"
      ],
      "text/plain": [
       "<IPython.core.display.HTML object>"
      ]
     },
     "metadata": {},
     "output_type": "display_data"
    },
    {
     "data": {
      "text/html": [
       "Run data is saved locally in <code>/Users/janduplessis/code/janduplessis883/project-showupforhealth/notebooks/wandb/run-20230909_145342-zlc7fwj3</code>"
      ],
      "text/plain": [
       "<IPython.core.display.HTML object>"
      ]
     },
     "metadata": {},
     "output_type": "display_data"
    },
    {
     "data": {
      "text/html": [
       "Syncing run <strong><a href='https://wandb.ai/bromptonhealthpcn/ShowUp%20NEW%20DATA/runs/zlc7fwj3' target=\"_blank\">fearless-surf-24</a></strong> to <a href='https://wandb.ai/bromptonhealthpcn/ShowUp%20NEW%20DATA' target=\"_blank\">Weights & Biases</a> (<a href='https://wandb.me/run' target=\"_blank\">docs</a>)<br/>"
      ],
      "text/plain": [
       "<IPython.core.display.HTML object>"
      ]
     },
     "metadata": {},
     "output_type": "display_data"
    },
    {
     "data": {
      "text/html": [
       " View project at <a href='https://wandb.ai/bromptonhealthpcn/ShowUp%20NEW%20DATA' target=\"_blank\">https://wandb.ai/bromptonhealthpcn/ShowUp%20NEW%20DATA</a>"
      ],
      "text/plain": [
       "<IPython.core.display.HTML object>"
      ]
     },
     "metadata": {},
     "output_type": "display_data"
    },
    {
     "data": {
      "text/html": [
       " View run at <a href='https://wandb.ai/bromptonhealthpcn/ShowUp%20NEW%20DATA/runs/zlc7fwj3' target=\"_blank\">https://wandb.ai/bromptonhealthpcn/ShowUp%20NEW%20DATA/runs/zlc7fwj3</a>"
      ],
      "text/plain": [
       "<IPython.core.display.HTML object>"
      ]
     },
     "metadata": {},
     "output_type": "display_data"
    },
    {
     "data": {
      "text/html": [
       "<button onClick=\"this.nextSibling.style.display='block';this.style.display='none';\">Display W&B run</button><iframe src='https://wandb.ai/bromptonhealthpcn/ShowUp%20NEW%20DATA/runs/zlc7fwj3?jupyter=true' style='border:none;width:100%;height:420px;display:none;'></iframe>"
      ],
      "text/plain": [
       "<wandb.sdk.wandb_run.Run at 0x3480d8a30>"
      ]
     },
     "execution_count": 54,
     "metadata": {},
     "output_type": "execute_result"
    }
   ],
   "source": [
    "import random\n",
    "import wandb\n",
    "from wandb.keras import WandbMetricsLogger, WandbModelCheckpoint\n",
    "\n",
    "# Start a run, tracking hyperparameters\n",
    "wandb.init(\n",
    "    # set the wandb project where this run will be logged\n",
    "    project=\"ShowUp NEW DATA\",\n",
    "\n",
    "    # track hyperparameters and run metadata with wandb.config\n",
    "    config={\n",
    "        \"layer_1\": 64,\n",
    "        \"activation_1\": \"relu\",\n",
    "        \"dropout\": random.uniform(0.3, 0.8),\n",
    "        \"layer_2\": 128,\n",
    "        \"activation_2\": \"relu\",\n",
    "        \"dropout\": random.uniform(0.3, 0.8),\n",
    "        \"layer_3\": 64,\n",
    "        \"activation_3\": \"relu\",\n",
    "        \"dropout\": random.uniform(0.3, 0.8),\n",
    "        \"layer_4\": 16,\n",
    "        \"activation_4\": \"relu\",\n",
    "        \"dropout\": random.uniform(0.3, 0.8),\n",
    "        \"layer_5\": 32,\n",
    "        \"activation_5\": \"relu\",\n",
    "        \"dropout\": random.uniform(0.3, 0.8),\n",
    "        \"optimizer\": \"adam\",\n",
    "        \"loss\": \"binary_crossentropy\",\n",
    "        \"metric\": \"accuracy\",\n",
    "        \"epoch\": 100,\n",
    "        \"batch_size\": 128\n",
    "    }\n",
    ")"
   ]
  },
  {
   "cell_type": "code",
   "execution_count": 53,
   "id": "101ee31e",
   "metadata": {},
   "outputs": [],
   "source": [
    "from sklearn.model_selection import train_test_split\n",
    "import numpy as np\n",
    "import tensorflow as tf\n",
    "from tensorflow.keras.layers import Input, Dense, GaussianNoise\n",
    "from tensorflow.keras.models import Model\n",
    "from tensorflow.keras.regularizers import l1\n",
    "\n",
    "def add_noise(data, noise_factor=0.8):\n",
    "    noise = np.random.normal(loc=0.0, scale=noise_factor, size=data.shape)\n",
    "    noisy_data = data + noise\n",
    "    return np.clip(noisy_data, 0., 1.)\n",
    "\n",
    "def build_autoencoder(input_dim, encoding_dim, lambda_regularization):\n",
    "    input_data = Input(shape=(input_dim,))\n",
    "    encoded = Dense(encoding_dim, activation='relu', activity_regularizer=l1(lambda_regularization))(input_data)\n",
    "    decoded = Dense(input_dim, activation='sigmoid')(encoded)\n",
    "    autoencoder = Model(input_data, decoded)\n",
    "    encoder = Model(input_data, encoded)\n",
    "    return autoencoder, encoder\n",
    "\n",
    "def train_denoising_autoencoder(X, y, encoding_dim=36, lambda_regularization=1e-5):\n",
    "    # Split data\n",
    "    X_train, X_temp, y_train, y_temp = train_test_split(X, y, test_size=0.4)\n",
    "    X_val, X_test, y_val, y_test = train_test_split(X_temp, y_temp, test_size=0.5)\n",
    "\n",
    "    noisy_X_train = add_noise(X_train)\n",
    "    noisy_X_val = add_noise(X_val)\n",
    "\n",
    "    autoencoders = []\n",
    "    encoders = []\n",
    "    current_input_dim = X.shape[1]  # initial input dimension based on input features\n",
    "\n",
    "    # Build two autoencoders\n",
    "    for _ in range(2): \n",
    "        autoencoder, encoder = build_autoencoder(current_input_dim, encoding_dim, lambda_regularization)\n",
    "        autoencoders.append(autoencoder)\n",
    "        encoders.append(encoder)\n",
    "        current_input_dim = encoding_dim  # Update for the next autoencoder\n",
    "\n",
    "    encoded_X_train = noisy_X_train\n",
    "    encoded_X_val = noisy_X_val\n",
    "\n",
    "    # Train each autoencoder\n",
    "    for i, autoencoder in enumerate(autoencoders):\n",
    "        autoencoder.compile(optimizer='adam', loss='binary_crossentropy')\n",
    "        autoencoder.fit(encoded_X_train, X_train, epochs=50, batch_size=256, shuffle=True, validation_data=(encoded_X_val, X_val))\n",
    "        \n",
    "        # Update encoded_X_train and encoded_X_val to be the encoded output of the current autoencoder for the next autoencoder's training\n",
    "        encoded_X_train = encoders[i].predict(encoded_X_train)\n",
    "        encoded_X_val = encoders[i].predict(encoded_X_val)\n",
    "\n",
    "    # Fine-tuning\n",
    "    final_encoded = Input(shape=(encoding_dim,))\n",
    "    final_output = Dense(1, activation='sigmoid')(final_encoded)  # Binary classifier for predicting no-shows\n",
    "    classifier = Model(final_encoded, final_output)\n",
    "\n",
    "    # Link all autoencoders\n",
    "    input_data = Input(shape=(X.shape[1],))\n",
    "    encoded_data = input_data\n",
    "    for encoder in encoders:\n",
    "        encoded_data = encoder(encoded_data)\n",
    "\n",
    "    predictions = classifier(encoded_data)\n",
    "    final_model = Model(input_data, predictions)\n",
    "    final_model.compile(optimizer='adam', loss='binary_crossentropy', metrics=['accuracy'])\n",
    "\n",
    "    final_model.fit(X_train, y_train, epochs=50, batch_size=256, shuffle=True, validation_data=(X_val, y_val))\n",
    "    \n",
    "    # Evaluate on test data\n",
    "    test_loss, test_accuracy = final_model.evaluate(X_test, y_test)\n",
    "    print(f\"Test Accuracy: {test_accuracy*100:.2f}%\")\n",
    "    \n",
    "    return final_model"
   ]
  },
  {
   "cell_type": "code",
   "execution_count": 54,
   "id": "2055c8d4",
   "metadata": {
    "scrolled": true
   },
   "outputs": [
    {
     "name": "stdout",
     "output_type": "stream",
     "text": [
      "Epoch 1/50\n",
      "2113/2113 [==============================] - 2s 778us/step - loss: -712307.7500 - val_loss: -2037768.6250\n",
      "Epoch 2/50\n",
      "2113/2113 [==============================] - 2s 735us/step - loss: -4380622.0000 - val_loss: -7117145.0000\n",
      "Epoch 3/50\n",
      "2113/2113 [==============================] - 2s 741us/step - loss: -10619696.0000 - val_loss: -14440146.0000\n",
      "Epoch 4/50\n",
      "2113/2113 [==============================] - 2s 743us/step - loss: -19001920.0000 - val_loss: -23837404.0000\n",
      "Epoch 5/50\n",
      "2113/2113 [==============================] - 2s 747us/step - loss: -29430288.0000 - val_loss: -35275548.0000\n",
      "Epoch 6/50\n",
      "2113/2113 [==============================] - 2s 749us/step - loss: -41969256.0000 - val_loss: -48856128.0000\n",
      "Epoch 7/50\n",
      "2113/2113 [==============================] - 2s 766us/step - loss: -56602692.0000 - val_loss: -64485956.0000\n",
      "Epoch 8/50\n",
      "2113/2113 [==============================] - 2s 756us/step - loss: -73277824.0000 - val_loss: -82144808.0000\n",
      "Epoch 9/50\n",
      "2113/2113 [==============================] - 2s 739us/step - loss: -91981008.0000 - val_loss: -101822744.0000\n",
      "Epoch 10/50\n",
      "2113/2113 [==============================] - 2s 742us/step - loss: -112702624.0000 - val_loss: -123510880.0000\n",
      "Epoch 11/50\n",
      "2113/2113 [==============================] - 2s 751us/step - loss: -135432864.0000 - val_loss: -147200880.0000\n",
      "Epoch 12/50\n",
      "2113/2113 [==============================] - 2s 746us/step - loss: -160170128.0000 - val_loss: -172887648.0000\n",
      "Epoch 13/50\n",
      "2113/2113 [==============================] - 2s 755us/step - loss: -186902880.0000 - val_loss: -200566928.0000\n",
      "Epoch 14/50\n",
      "2113/2113 [==============================] - 2s 752us/step - loss: -215620240.0000 - val_loss: -230219376.0000\n",
      "Epoch 15/50\n",
      "2113/2113 [==============================] - 2s 746us/step - loss: -246325008.0000 - val_loss: -261859936.0000\n",
      "Epoch 16/50\n",
      "2113/2113 [==============================] - 2s 751us/step - loss: -279009664.0000 - val_loss: -295469184.0000\n",
      "Epoch 17/50\n",
      "2113/2113 [==============================] - 2s 758us/step - loss: -313675520.0000 - val_loss: -331058304.0000\n",
      "Epoch 18/50\n",
      "2113/2113 [==============================] - 2s 762us/step - loss: -350315968.0000 - val_loss: -368620256.0000\n",
      "Epoch 19/50\n",
      "2113/2113 [==============================] - 2s 756us/step - loss: -388934912.0000 - val_loss: -408152224.0000\n",
      "Epoch 20/50\n",
      "2113/2113 [==============================] - 2s 745us/step - loss: -429527264.0000 - val_loss: -449649184.0000\n",
      "Epoch 21/50\n",
      "2113/2113 [==============================] - 2s 755us/step - loss: -472081024.0000 - val_loss: -493104512.0000\n",
      "Epoch 22/50\n",
      "2113/2113 [==============================] - 2s 762us/step - loss: -516590912.0000 - val_loss: -538511168.0000\n",
      "Epoch 23/50\n",
      "2113/2113 [==============================] - 2s 763us/step - loss: -563067712.0000 - val_loss: -585891136.0000\n",
      "Epoch 24/50\n",
      "2113/2113 [==============================] - 2s 755us/step - loss: -611520832.0000 - val_loss: -635235136.0000\n",
      "Epoch 25/50\n",
      "2113/2113 [==============================] - 2s 757us/step - loss: -661932416.0000 - val_loss: -686525952.0000\n",
      "Epoch 26/50\n",
      "2113/2113 [==============================] - 2s 768us/step - loss: -714298432.0000 - val_loss: -739776192.0000\n",
      "Epoch 27/50\n",
      "2113/2113 [==============================] - 2s 760us/step - loss: -768637440.0000 - val_loss: -794996032.0000\n",
      "Epoch 28/50\n",
      "2113/2113 [==============================] - 2s 759us/step - loss: -824929792.0000 - val_loss: -852152000.0000\n",
      "Epoch 29/50\n",
      "2113/2113 [==============================] - 2s 758us/step - loss: -883158720.0000 - val_loss: -911250624.0000\n",
      "Epoch 30/50\n",
      "2113/2113 [==============================] - 2s 760us/step - loss: -943356928.0000 - val_loss: -972321280.0000\n",
      "Epoch 31/50\n",
      "2113/2113 [==============================] - 2s 757us/step - loss: -1005509696.0000 - val_loss: -1035327360.0000\n",
      "Epoch 32/50\n",
      "2113/2113 [==============================] - 2s 771us/step - loss: -1069616256.0000 - val_loss: -1100296704.0000\n",
      "Epoch 33/50\n",
      "2113/2113 [==============================] - 2s 759us/step - loss: -1135683072.0000 - val_loss: -1167203200.0000\n",
      "Epoch 34/50\n",
      "2113/2113 [==============================] - 2s 762us/step - loss: -1203678976.0000 - val_loss: -1236044800.0000\n",
      "Epoch 35/50\n",
      "2113/2113 [==============================] - 2s 761us/step - loss: -1273646592.0000 - val_loss: -1306877952.0000\n",
      "Epoch 36/50\n",
      "2113/2113 [==============================] - 2s 755us/step - loss: -1345572480.0000 - val_loss: -1379627776.0000\n",
      "Epoch 37/50\n",
      "2113/2113 [==============================] - 2s 761us/step - loss: -1419425280.0000 - val_loss: -1454316288.0000\n",
      "Epoch 38/50\n",
      "2113/2113 [==============================] - 2s 761us/step - loss: -1495244288.0000 - val_loss: -1530978688.0000\n",
      "Epoch 39/50\n",
      "2113/2113 [==============================] - 2s 759us/step - loss: -1573009920.0000 - val_loss: -1609572224.0000\n",
      "Epoch 40/50\n",
      "2113/2113 [==============================] - 2s 756us/step - loss: -1652705664.0000 - val_loss: -1690080640.0000\n",
      "Epoch 41/50\n",
      "2113/2113 [==============================] - 2s 763us/step - loss: -1734359168.0000 - val_loss: -1772558336.0000\n",
      "Epoch 42/50\n",
      "2113/2113 [==============================] - 2s 761us/step - loss: -1817960192.0000 - val_loss: -1856976896.0000\n",
      "Epoch 43/50\n",
      "2113/2113 [==============================] - 2s 751us/step - loss: -1903506176.0000 - val_loss: -1943335040.0000\n",
      "Epoch 44/50\n",
      "2113/2113 [==============================] - 2s 757us/step - loss: -1990984064.0000 - val_loss: -2031610624.0000\n",
      "Epoch 45/50\n",
      "2113/2113 [==============================] - 2s 764us/step - loss: -2080417408.0000 - val_loss: -2121858560.0000\n",
      "Epoch 46/50\n",
      "2113/2113 [==============================] - 2s 763us/step - loss: -2171802112.0000 - val_loss: -2214063872.0000\n",
      "Epoch 47/50\n",
      "2113/2113 [==============================] - 2s 764us/step - loss: -2265125120.0000 - val_loss: -2308173824.0000\n",
      "Epoch 48/50\n",
      "2113/2113 [==============================] - 2s 762us/step - loss: -2360413696.0000 - val_loss: -2404257024.0000\n",
      "Epoch 49/50\n",
      "2113/2113 [==============================] - 2s 767us/step - loss: -2457657088.0000 - val_loss: -2502287616.0000\n",
      "Epoch 50/50\n",
      "2113/2113 [==============================] - 2s 767us/step - loss: -2556801024.0000 - val_loss: -2602200320.0000\n",
      "16904/16904 [==============================] - 4s 222us/step\n",
      "5635/5635 [==============================] - 1s 224us/step\n",
      "Epoch 1/50\n",
      "2113/2113 [==============================] - 2s 795us/step - loss: -674894336.0000 - val_loss: -1926510592.0000\n",
      "Epoch 2/50\n",
      "2113/2113 [==============================] - 2s 750us/step - loss: -4078567680.0000 - val_loss: -6589042688.0000\n",
      "Epoch 3/50\n",
      "2113/2113 [==============================] - 2s 753us/step - loss: -9804968960.0000 - val_loss: -13307180032.0000\n",
      "Epoch 4/50\n",
      "2113/2113 [==============================] - 2s 733us/step - loss: -17483370496.0000 - val_loss: -21909225472.0000\n",
      "Epoch 5/50\n",
      "2113/2113 [==============================] - 2s 764us/step - loss: -27024789504.0000 - val_loss: -32347557888.0000\n",
      "Epoch 6/50\n",
      "2113/2113 [==============================] - 2s 752us/step - loss: -38389981184.0000 - val_loss: -44595703808.0000\n",
      "Epoch 7/50\n",
      "2113/2113 [==============================] - 2s 747us/step - loss: -51559485440.0000 - val_loss: -58638274560.0000\n",
      "Epoch 8/50\n",
      "2113/2113 [==============================] - 2s 760us/step - loss: -66519695360.0000 - val_loss: -74460430336.0000\n",
      "Epoch 9/50\n",
      "2113/2113 [==============================] - 2s 762us/step - loss: -83261046784.0000 - val_loss: -92052807680.0000\n",
      "Epoch 10/50\n",
      "2113/2113 [==============================] - 2s 757us/step - loss: -101771182080.0000 - val_loss: -111413215232.0000\n",
      "Epoch 11/50\n",
      "2113/2113 [==============================] - 2s 748us/step - loss: -122038239232.0000 - val_loss: -132515864576.0000\n",
      "Epoch 12/50\n",
      "2113/2113 [==============================] - 2s 758us/step - loss: -144061317120.0000 - val_loss: -155376304128.0000\n",
      "Epoch 13/50\n",
      "2113/2113 [==============================] - 2s 762us/step - loss: -167843364864.0000 - val_loss: -179987873792.0000\n",
      "Epoch 14/50\n",
      "2113/2113 [==============================] - 2s 761us/step - loss: -193368375296.0000 - val_loss: -206333181952.0000\n",
      "Epoch 15/50\n",
      "2113/2113 [==============================] - 2s 761us/step - loss: -220631334912.0000 - val_loss: -234414014464.0000\n",
      "Epoch 16/50\n"
     ]
    },
    {
     "name": "stdout",
     "output_type": "stream",
     "text": [
      "2113/2113 [==============================] - 2s 754us/step - loss: -249635897344.0000 - val_loss: -264236777472.0000\n",
      "Epoch 17/50\n",
      "2113/2113 [==============================] - 2s 736us/step - loss: -280378703872.0000 - val_loss: -295783792640.0000\n",
      "Epoch 18/50\n",
      "2113/2113 [==============================] - 2s 748us/step - loss: -312850284544.0000 - val_loss: -329063071744.0000\n",
      "Epoch 19/50\n",
      "2113/2113 [==============================] - 2s 738us/step - loss: -347068465152.0000 - val_loss: -364088360960.0000\n",
      "Epoch 20/50\n",
      "2113/2113 [==============================] - 2s 749us/step - loss: -383007948800.0000 - val_loss: -400815390720.0000\n",
      "Epoch 21/50\n",
      "2113/2113 [==============================] - 2s 736us/step - loss: -420663001088.0000 - val_loss: -439260315648.0000\n",
      "Epoch 22/50\n",
      "2113/2113 [==============================] - 2s 735us/step - loss: -460046303232.0000 - val_loss: -479438045184.0000\n",
      "Epoch 23/50\n",
      "2113/2113 [==============================] - 2s 744us/step - loss: -501164081152.0000 - val_loss: -521342943232.0000\n",
      "Epoch 24/50\n",
      "2113/2113 [==============================] - 2s 735us/step - loss: -544012075008.0000 - val_loss: -564966719488.0000\n",
      "Epoch 25/50\n",
      "2113/2113 [==============================] - 2s 736us/step - loss: -588559089664.0000 - val_loss: -610288467968.0000\n",
      "Epoch 26/50\n",
      "2113/2113 [==============================] - 2s 743us/step - loss: -634849067008.0000 - val_loss: -657364156416.0000\n",
      "Epoch 27/50\n",
      "2113/2113 [==============================] - 2s 741us/step - loss: -682860216320.0000 - val_loss: -706128576512.0000\n",
      "Epoch 28/50\n",
      "2113/2113 [==============================] - 2s 742us/step - loss: -732566323200.0000 - val_loss: -756597260288.0000\n",
      "Epoch 29/50\n",
      "2113/2113 [==============================] - 2s 755us/step - loss: -784007626752.0000 - val_loss: -808813920256.0000\n",
      "Epoch 30/50\n",
      "2113/2113 [==============================] - 2s 745us/step - loss: -837155946496.0000 - val_loss: -862711054336.0000\n",
      "Epoch 31/50\n",
      "2113/2113 [==============================] - 2s 741us/step - loss: -892012724224.0000 - val_loss: -918320381952.0000\n",
      "Epoch 32/50\n",
      "2113/2113 [==============================] - 2s 734us/step - loss: -948597686272.0000 - val_loss: -975661301760.0000\n",
      "Epoch 33/50\n",
      "2113/2113 [==============================] - 2s 743us/step - loss: -1006901526528.0000 - val_loss: -1034705436672.0000\n",
      "Epoch 34/50\n",
      "2113/2113 [==============================] - 2s 755us/step - loss: -1066901962752.0000 - val_loss: -1095453638656.0000\n",
      "Epoch 35/50\n",
      "2113/2113 [==============================] - 2s 747us/step - loss: -1128632549376.0000 - val_loss: -1157931597824.0000\n",
      "Epoch 36/50\n",
      "2113/2113 [==============================] - 2s 749us/step - loss: -1192068907008.0000 - val_loss: -1222096846848.0000\n",
      "Epoch 37/50\n",
      "2113/2113 [==============================] - 2s 749us/step - loss: -1257210249216.0000 - val_loss: -1287969832960.0000\n",
      "Epoch 38/50\n",
      "2113/2113 [==============================] - 2s 731us/step - loss: -1324072960000.0000 - val_loss: -1355577425920.0000\n",
      "Epoch 39/50\n",
      "2113/2113 [==============================] - 2s 728us/step - loss: -1392643538944.0000 - val_loss: -1424859463680.0000\n",
      "Epoch 40/50\n",
      "2113/2113 [==============================] - 2s 751us/step - loss: -1462902063104.0000 - val_loss: -1495845437440.0000\n",
      "Epoch 41/50\n",
      "2113/2113 [==============================] - 2s 753us/step - loss: -1534896504832.0000 - val_loss: -1568572571648.0000\n",
      "Epoch 42/50\n",
      "2113/2113 [==============================] - 2s 741us/step - loss: -1608593178624.0000 - val_loss: -1642965368832.0000\n",
      "Epoch 43/50\n",
      "2113/2113 [==============================] - 2s 733us/step - loss: -1684000473088.0000 - val_loss: -1719099588608.0000\n",
      "Epoch 44/50\n",
      "2113/2113 [==============================] - 2s 738us/step - loss: -1761110786048.0000 - val_loss: -1796909694976.0000\n",
      "Epoch 45/50\n",
      "2113/2113 [==============================] - 2s 735us/step - loss: -1839939846144.0000 - val_loss: -1876457422848.0000\n",
      "Epoch 46/50\n",
      "2113/2113 [==============================] - 2s 736us/step - loss: -1920450560000.0000 - val_loss: -1957660327936.0000\n",
      "Epoch 47/50\n",
      "2113/2113 [==============================] - 2s 741us/step - loss: -2002688016384.0000 - val_loss: -2040609243136.0000\n",
      "Epoch 48/50\n",
      "2113/2113 [==============================] - 2s 751us/step - loss: -2086619447296.0000 - val_loss: -2125220282368.0000\n",
      "Epoch 49/50\n",
      "2113/2113 [==============================] - 2s 741us/step - loss: -2172249178112.0000 - val_loss: -2211568943104.0000\n",
      "Epoch 50/50\n",
      "2113/2113 [==============================] - 2s 748us/step - loss: -2259624919040.0000 - val_loss: -2299626520576.0000\n",
      "16904/16904 [==============================] - 4s 214us/step\n",
      "5635/5635 [==============================] - 1s 214us/step\n",
      "Epoch 1/50\n",
      "2113/2113 [==============================] - 2s 703us/step - loss: 3464005.0000 - accuracy: 0.9282 - val_loss: 1997325.2500 - val_accuracy: 0.9616\n",
      "Epoch 2/50\n",
      "2113/2113 [==============================] - 1s 663us/step - loss: 2220400.7500 - accuracy: 0.9282 - val_loss: 1259847.6250 - val_accuracy: 0.9616\n",
      "Epoch 3/50\n",
      "2113/2113 [==============================] - 1s 657us/step - loss: 2196327.5000 - accuracy: 0.9279 - val_loss: 2956351.5000 - val_accuracy: 0.9616\n",
      "Epoch 4/50\n",
      "2113/2113 [==============================] - 1s 659us/step - loss: 2150834.0000 - accuracy: 0.9282 - val_loss: 3340925.0000 - val_accuracy: 0.0384\n",
      "Epoch 5/50\n",
      "2113/2113 [==============================] - 1s 672us/step - loss: 2088600.3750 - accuracy: 0.9278 - val_loss: 1656322.3750 - val_accuracy: 0.9616\n",
      "Epoch 6/50\n",
      "2113/2113 [==============================] - 1s 673us/step - loss: 2074359.7500 - accuracy: 0.9278 - val_loss: 2544760.2500 - val_accuracy: 0.9616\n",
      "Epoch 7/50\n",
      "2113/2113 [==============================] - 1s 684us/step - loss: 2022457.8750 - accuracy: 0.9278 - val_loss: 2085630.0000 - val_accuracy: 0.9616\n",
      "Epoch 8/50\n",
      "2113/2113 [==============================] - 1s 668us/step - loss: 1985075.2500 - accuracy: 0.9283 - val_loss: 918595.5000 - val_accuracy: 0.9616\n",
      "Epoch 9/50\n",
      "2113/2113 [==============================] - 1s 674us/step - loss: 1958494.3750 - accuracy: 0.9277 - val_loss: 1075319.5000 - val_accuracy: 0.9616\n",
      "Epoch 10/50\n",
      "2113/2113 [==============================] - 1s 693us/step - loss: 1927285.6250 - accuracy: 0.9276 - val_loss: 1125877.3750 - val_accuracy: 0.9616\n",
      "Epoch 11/50\n",
      "2113/2113 [==============================] - 1s 679us/step - loss: 1874711.2500 - accuracy: 0.9281 - val_loss: 1952516.8750 - val_accuracy: 0.9616\n",
      "Epoch 12/50\n",
      "2113/2113 [==============================] - 1s 680us/step - loss: 1858345.0000 - accuracy: 0.9278 - val_loss: 2121926.5000 - val_accuracy: 0.9616\n",
      "Epoch 13/50\n",
      "2113/2113 [==============================] - 1s 678us/step - loss: 1812902.3750 - accuracy: 0.9282 - val_loss: 1917871.0000 - val_accuracy: 0.9616\n",
      "Epoch 14/50\n",
      "2113/2113 [==============================] - 1s 674us/step - loss: 1756996.5000 - accuracy: 0.9278 - val_loss: 1370820.0000 - val_accuracy: 0.9616\n",
      "Epoch 15/50\n",
      "2113/2113 [==============================] - 1s 686us/step - loss: 1732306.8750 - accuracy: 0.9277 - val_loss: 2287310.7500 - val_accuracy: 0.9616\n",
      "Epoch 16/50\n",
      "2113/2113 [==============================] - 1s 671us/step - loss: 1692014.8750 - accuracy: 0.9278 - val_loss: 2510354.2500 - val_accuracy: 0.9616\n",
      "Epoch 17/50\n",
      "2113/2113 [==============================] - 1s 677us/step - loss: 1673215.8750 - accuracy: 0.9280 - val_loss: 1114536.8750 - val_accuracy: 0.9616\n",
      "Epoch 18/50\n",
      "2113/2113 [==============================] - 1s 680us/step - loss: 1617489.2500 - accuracy: 0.9277 - val_loss: 1220075.2500 - val_accuracy: 0.9616\n",
      "Epoch 19/50\n",
      "2113/2113 [==============================] - 1s 687us/step - loss: 1579479.2500 - accuracy: 0.9278 - val_loss: 2066998.5000 - val_accuracy: 0.9616\n",
      "Epoch 20/50\n",
      "2113/2113 [==============================] - 1s 677us/step - loss: 1571553.1250 - accuracy: 0.9281 - val_loss: 462042.8438 - val_accuracy: 0.9616\n",
      "Epoch 21/50\n",
      "2113/2113 [==============================] - 1s 701us/step - loss: 1494773.6250 - accuracy: 0.9277 - val_loss: 792883.0000 - val_accuracy: 0.9616\n",
      "Epoch 22/50\n",
      "2113/2113 [==============================] - 1s 679us/step - loss: 1475486.3750 - accuracy: 0.9277 - val_loss: 1650050.0000 - val_accuracy: 0.9616\n",
      "Epoch 23/50\n"
     ]
    },
    {
     "name": "stdout",
     "output_type": "stream",
     "text": [
      "2113/2113 [==============================] - 1s 673us/step - loss: 1434072.1250 - accuracy: 0.9278 - val_loss: 1974411.2500 - val_accuracy: 0.9616\n",
      "Epoch 24/50\n",
      "2113/2113 [==============================] - 1s 670us/step - loss: 1395608.6250 - accuracy: 0.9276 - val_loss: 1471912.1250 - val_accuracy: 0.9616\n",
      "Epoch 25/50\n",
      "2113/2113 [==============================] - 1s 657us/step - loss: 1357114.6250 - accuracy: 0.9277 - val_loss: 1714220.6250 - val_accuracy: 0.9616\n",
      "Epoch 26/50\n",
      "2113/2113 [==============================] - 1s 668us/step - loss: 1328681.7500 - accuracy: 0.9278 - val_loss: 1973634.3750 - val_accuracy: 0.9616\n",
      "Epoch 27/50\n",
      "2113/2113 [==============================] - 1s 667us/step - loss: 1288246.7500 - accuracy: 0.9276 - val_loss: 1485578.1250 - val_accuracy: 0.9616\n",
      "Epoch 28/50\n",
      "2113/2113 [==============================] - 1s 669us/step - loss: 1253550.2500 - accuracy: 0.9282 - val_loss: 819970.6875 - val_accuracy: 0.0384\n",
      "Epoch 29/50\n",
      "2113/2113 [==============================] - 1s 671us/step - loss: 1222730.5000 - accuracy: 0.9278 - val_loss: 1547300.6250 - val_accuracy: 0.9616\n",
      "Epoch 30/50\n",
      "2113/2113 [==============================] - 1s 666us/step - loss: 1174363.2500 - accuracy: 0.9276 - val_loss: 1605953.1250 - val_accuracy: 0.9616\n",
      "Epoch 31/50\n",
      "2113/2113 [==============================] - 1s 671us/step - loss: 1145506.5000 - accuracy: 0.9283 - val_loss: 406961.1562 - val_accuracy: 0.9616\n",
      "Epoch 32/50\n",
      "2113/2113 [==============================] - 1s 671us/step - loss: 1109221.0000 - accuracy: 0.9277 - val_loss: 1398989.1250 - val_accuracy: 0.9616\n",
      "Epoch 33/50\n",
      "2113/2113 [==============================] - 1s 675us/step - loss: 1073666.0000 - accuracy: 0.9282 - val_loss: 2058555.6250 - val_accuracy: 0.0384\n",
      "Epoch 34/50\n",
      "2113/2113 [==============================] - 1s 672us/step - loss: 1036087.3125 - accuracy: 0.9276 - val_loss: 1539682.5000 - val_accuracy: 0.9616\n",
      "Epoch 35/50\n",
      "2113/2113 [==============================] - 1s 672us/step - loss: 997979.3750 - accuracy: 0.9277 - val_loss: 1273134.7500 - val_accuracy: 0.9616\n",
      "Epoch 36/50\n",
      "2113/2113 [==============================] - 1s 667us/step - loss: 956683.1875 - accuracy: 0.9278 - val_loss: 550189.4375 - val_accuracy: 0.9616\n",
      "Epoch 37/50\n",
      "2113/2113 [==============================] - 1s 656us/step - loss: 923692.5000 - accuracy: 0.9281 - val_loss: 627230.3125 - val_accuracy: 0.9616\n",
      "Epoch 38/50\n",
      "2113/2113 [==============================] - 1s 651us/step - loss: 883051.9375 - accuracy: 0.9278 - val_loss: 1081179.6250 - val_accuracy: 0.9616\n",
      "Epoch 39/50\n",
      "2113/2113 [==============================] - 1s 651us/step - loss: 841929.6250 - accuracy: 0.9278 - val_loss: 1044556.8750 - val_accuracy: 0.9616\n",
      "Epoch 40/50\n",
      "2113/2113 [==============================] - 1s 671us/step - loss: 808706.1875 - accuracy: 0.9277 - val_loss: 1171618.3750 - val_accuracy: 0.9616\n",
      "Epoch 41/50\n",
      "2113/2113 [==============================] - 1s 670us/step - loss: 775307.7500 - accuracy: 0.9280 - val_loss: 382316.5938 - val_accuracy: 0.9616\n",
      "Epoch 42/50\n",
      "2113/2113 [==============================] - 1s 677us/step - loss: 736163.8125 - accuracy: 0.9277 - val_loss: 942373.0000 - val_accuracy: 0.9616\n",
      "Epoch 43/50\n",
      "2113/2113 [==============================] - 1s 683us/step - loss: 699673.0625 - accuracy: 0.9278 - val_loss: 736460.8750 - val_accuracy: 0.9616\n",
      "Epoch 44/50\n",
      "2113/2113 [==============================] - 1s 685us/step - loss: 657953.1875 - accuracy: 0.9277 - val_loss: 849068.3750 - val_accuracy: 0.9616\n",
      "Epoch 45/50\n",
      "2113/2113 [==============================] - 1s 688us/step - loss: 623480.6875 - accuracy: 0.9282 - val_loss: 121211.9375 - val_accuracy: 0.9506\n",
      "Epoch 46/50\n",
      "2113/2113 [==============================] - 1s 670us/step - loss: 584904.1250 - accuracy: 0.9278 - val_loss: 449028.7188 - val_accuracy: 0.9616\n",
      "Epoch 47/50\n",
      "2113/2113 [==============================] - 1s 678us/step - loss: 543002.2500 - accuracy: 0.9280 - val_loss: 695435.6875 - val_accuracy: 0.9616\n",
      "Epoch 48/50\n",
      "2113/2113 [==============================] - 1s 683us/step - loss: 512400.4375 - accuracy: 0.9276 - val_loss: 706473.3750 - val_accuracy: 0.9616\n",
      "Epoch 49/50\n",
      "2113/2113 [==============================] - 1s 690us/step - loss: 473976.1562 - accuracy: 0.9281 - val_loss: 193585.1406 - val_accuracy: 0.9616\n",
      "Epoch 50/50\n",
      "2113/2113 [==============================] - 1s 683us/step - loss: 439053.0938 - accuracy: 0.9277 - val_loss: 497634.8125 - val_accuracy: 0.9616\n",
      "5635/5635 [==============================] - 2s 306us/step - loss: 484832.1875 - accuracy: 0.9621\n",
      "Test Accuracy: 96.21%\n"
     ]
    }
   ],
   "source": [
    "# Usage:\n",
    "# X, y = ...  # Load your data here\n",
    "trained_model = train_denoising_autoencoder(X, y)"
   ]
  },
  {
   "cell_type": "code",
   "execution_count": 52,
   "id": "1e9ea975",
   "metadata": {
    "ExecuteTime": {
     "end_time": "2023-07-31T07:06:14.743121Z",
     "start_time": "2023-07-31T07:06:14.604175Z"
    }
   },
   "outputs": [],
   "source": [
    "from tensorflow.keras.layers import BatchNormalization, Normalization\n",
    "from tensorflow.keras.optimizers import Adam\n",
    "\n",
    "def init_model():\n",
    "\n",
    "    # Assuming X_train_o_s is globally accessible; otherwise, pass it as a parameter.\n",
    "    # Only take the dimensions of a single sample, excluding the batch size.\n",
    "    input_shape = X_train_scaled.shape[1:]\n",
    "\n",
    "    model = models.Sequential()\n",
    "\n",
    "    # Input layer specifying the shape\n",
    "    model.add(layers.InputLayer(input_shape=input_shape))\n",
    "\n",
    "    model.add(layers.Dense(64, activation='relu'))\n",
    "    #model.add(BatchNormalization())\n",
    "    model.add(Dropout(0.3))\n",
    "\n",
    "    model.add(layers.Dense(128, activation='relu'))\n",
    "    #model.add(BatchNormalization())\n",
    "    model.add(Dropout(0.3))\n",
    "\n",
    "    model.add(layers.Dense(64, activation='relu'))\n",
    "    #model.add(BatchNormalization())\n",
    "    model.add(Dropout(0.3))\n",
    "    \n",
    "    model.add(layers.Dense(16, activation='relu'))\n",
    "    #model.add(BatchNormalization())\n",
    "    model.add(Dropout(0.3))\n",
    "\n",
    "    model.add(layers.Dense(32, activation='relu'))\n",
    "    #model.add(BatchNormalization())\n",
    "\n",
    "    model.add(layers.Dense(1, activation='sigmoid'))\n",
    "\n",
    "    optimizer = Adam(learning_rate=1e-4)\n",
    "    \n",
    "    # Assuming 'metrics' is defined globally; otherwise, specify it directly or pass it as a parameter.\n",
    "    model.compile(loss='binary_crossentropy', optimizer=optimizer, metrics=metrics)\n",
    "\n",
    "    return model"
   ]
  },
  {
   "cell_type": "code",
   "execution_count": 30,
   "id": "042be68a",
   "metadata": {
    "ExecuteTime": {
     "end_time": "2023-07-31T07:06:17.931535Z",
     "start_time": "2023-07-31T07:06:16.838275Z"
    }
   },
   "outputs": [],
   "source": [
    "model = init_model()\n",
    "#model.summary()"
   ]
  },
  {
   "cell_type": "code",
   "execution_count": 57,
   "id": "3201ea69",
   "metadata": {
    "ExecuteTime": {
     "end_time": "2023-07-31T07:06:38.133672Z",
     "start_time": "2023-07-31T07:06:17.932703Z"
    }
   },
   "outputs": [
    {
     "name": "stdout",
     "output_type": "stream",
     "text": [
      "Epoch 1/100\n",
      "INFO:tensorflow:Assets written to: models/assets\n"
     ]
    },
    {
     "name": "stderr",
     "output_type": "stream",
     "text": [
      "\u001b[34m\u001b[1mwandb\u001b[0m: Adding directory to artifact (./models)... Done. 0.0s\n"
     ]
    },
    {
     "name": "stdout",
     "output_type": "stream",
     "text": [
      "Epoch 2/100\n",
      "INFO:tensorflow:Assets written to: models/assets\n"
     ]
    },
    {
     "name": "stderr",
     "output_type": "stream",
     "text": [
      "\u001b[34m\u001b[1mwandb\u001b[0m: Adding directory to artifact (./models)... Done. 0.0s\n"
     ]
    },
    {
     "name": "stdout",
     "output_type": "stream",
     "text": [
      "Epoch 3/100\n",
      "INFO:tensorflow:Assets written to: models/assets\n"
     ]
    },
    {
     "name": "stderr",
     "output_type": "stream",
     "text": [
      "\u001b[34m\u001b[1mwandb\u001b[0m: Adding directory to artifact (./models)... Done. 0.0s\n"
     ]
    },
    {
     "name": "stdout",
     "output_type": "stream",
     "text": [
      "Epoch 4/100\n",
      "INFO:tensorflow:Assets written to: models/assets\n"
     ]
    },
    {
     "name": "stderr",
     "output_type": "stream",
     "text": [
      "\u001b[34m\u001b[1mwandb\u001b[0m: Adding directory to artifact (./models)... Done. 0.0s\n"
     ]
    },
    {
     "name": "stdout",
     "output_type": "stream",
     "text": [
      "Epoch 5/100\n",
      "INFO:tensorflow:Assets written to: models/assets\n"
     ]
    },
    {
     "name": "stderr",
     "output_type": "stream",
     "text": [
      "\u001b[34m\u001b[1mwandb\u001b[0m: Adding directory to artifact (./models)... Done. 0.0s\n"
     ]
    },
    {
     "name": "stdout",
     "output_type": "stream",
     "text": [
      "Epoch 6/100\n",
      "INFO:tensorflow:Assets written to: models/assets\n"
     ]
    },
    {
     "name": "stderr",
     "output_type": "stream",
     "text": [
      "\u001b[34m\u001b[1mwandb\u001b[0m: Adding directory to artifact (./models)... Done. 0.0s\n"
     ]
    },
    {
     "name": "stdout",
     "output_type": "stream",
     "text": [
      "Epoch 7/100\n",
      "INFO:tensorflow:Assets written to: models/assets\n"
     ]
    },
    {
     "name": "stderr",
     "output_type": "stream",
     "text": [
      "\u001b[34m\u001b[1mwandb\u001b[0m: Adding directory to artifact (./models)... Done. 0.0s\n"
     ]
    },
    {
     "name": "stdout",
     "output_type": "stream",
     "text": [
      "Epoch 8/100\n",
      "INFO:tensorflow:Assets written to: models/assets\n"
     ]
    },
    {
     "name": "stderr",
     "output_type": "stream",
     "text": [
      "\u001b[34m\u001b[1mwandb\u001b[0m: Adding directory to artifact (./models)... Done. 0.0s\n"
     ]
    },
    {
     "name": "stdout",
     "output_type": "stream",
     "text": [
      "Epoch 9/100\n",
      "INFO:tensorflow:Assets written to: models/assets\n"
     ]
    },
    {
     "name": "stderr",
     "output_type": "stream",
     "text": [
      "\u001b[34m\u001b[1mwandb\u001b[0m: Adding directory to artifact (./models)... Done. 0.0s\n"
     ]
    },
    {
     "name": "stdout",
     "output_type": "stream",
     "text": [
      "Epoch 10/100\n",
      "INFO:tensorflow:Assets written to: models/assets\n"
     ]
    },
    {
     "name": "stderr",
     "output_type": "stream",
     "text": [
      "\u001b[34m\u001b[1mwandb\u001b[0m: Adding directory to artifact (./models)... Done. 0.0s\n"
     ]
    },
    {
     "name": "stdout",
     "output_type": "stream",
     "text": [
      "Epoch 11/100\n",
      "INFO:tensorflow:Assets written to: models/assets\n"
     ]
    },
    {
     "name": "stderr",
     "output_type": "stream",
     "text": [
      "\u001b[34m\u001b[1mwandb\u001b[0m: Adding directory to artifact (./models)... Done. 0.0s\n"
     ]
    },
    {
     "name": "stdout",
     "output_type": "stream",
     "text": [
      "Epoch 12/100\n",
      "INFO:tensorflow:Assets written to: models/assets\n"
     ]
    },
    {
     "name": "stderr",
     "output_type": "stream",
     "text": [
      "\u001b[34m\u001b[1mwandb\u001b[0m: Adding directory to artifact (./models)... Done. 0.0s\n"
     ]
    },
    {
     "name": "stdout",
     "output_type": "stream",
     "text": [
      "Epoch 13/100\n",
      "INFO:tensorflow:Assets written to: models/assets\n"
     ]
    },
    {
     "name": "stderr",
     "output_type": "stream",
     "text": [
      "\u001b[34m\u001b[1mwandb\u001b[0m: Adding directory to artifact (./models)... Done. 0.0s\n"
     ]
    },
    {
     "name": "stdout",
     "output_type": "stream",
     "text": [
      "Epoch 14/100\n",
      "INFO:tensorflow:Assets written to: models/assets\n"
     ]
    },
    {
     "name": "stderr",
     "output_type": "stream",
     "text": [
      "\u001b[34m\u001b[1mwandb\u001b[0m: Adding directory to artifact (./models)... Done. 0.0s\n"
     ]
    },
    {
     "name": "stdout",
     "output_type": "stream",
     "text": [
      "Epoch 15/100\n",
      "INFO:tensorflow:Assets written to: models/assets\n"
     ]
    },
    {
     "name": "stderr",
     "output_type": "stream",
     "text": [
      "\u001b[34m\u001b[1mwandb\u001b[0m: Adding directory to artifact (./models)... Done. 0.0s\n"
     ]
    },
    {
     "name": "stdout",
     "output_type": "stream",
     "text": [
      "Epoch 16/100\n",
      "INFO:tensorflow:Assets written to: models/assets\n"
     ]
    },
    {
     "name": "stderr",
     "output_type": "stream",
     "text": [
      "\u001b[34m\u001b[1mwandb\u001b[0m: Adding directory to artifact (./models)... Done. 0.0s\n"
     ]
    },
    {
     "name": "stdout",
     "output_type": "stream",
     "text": [
      "Epoch 17/100\n",
      "INFO:tensorflow:Assets written to: models/assets\n"
     ]
    },
    {
     "name": "stderr",
     "output_type": "stream",
     "text": [
      "\u001b[34m\u001b[1mwandb\u001b[0m: Adding directory to artifact (./models)... Done. 0.0s\n"
     ]
    },
    {
     "name": "stdout",
     "output_type": "stream",
     "text": [
      "Epoch 18/100\n",
      "INFO:tensorflow:Assets written to: models/assets\n"
     ]
    },
    {
     "name": "stderr",
     "output_type": "stream",
     "text": [
      "\u001b[34m\u001b[1mwandb\u001b[0m: Adding directory to artifact (./models)... Done. 0.0s\n"
     ]
    },
    {
     "name": "stdout",
     "output_type": "stream",
     "text": [
      "Epoch 19/100\n",
      "INFO:tensorflow:Assets written to: models/assets\n"
     ]
    },
    {
     "name": "stderr",
     "output_type": "stream",
     "text": [
      "\u001b[34m\u001b[1mwandb\u001b[0m: Adding directory to artifact (./models)... Done. 0.0s\n"
     ]
    },
    {
     "name": "stdout",
     "output_type": "stream",
     "text": [
      "Epoch 20/100\n",
      "INFO:tensorflow:Assets written to: models/assets\n"
     ]
    },
    {
     "name": "stderr",
     "output_type": "stream",
     "text": [
      "\u001b[34m\u001b[1mwandb\u001b[0m: Adding directory to artifact (./models)... Done. 0.0s\n"
     ]
    },
    {
     "name": "stdout",
     "output_type": "stream",
     "text": [
      "Epoch 21/100\n",
      "INFO:tensorflow:Assets written to: models/assets\n"
     ]
    },
    {
     "name": "stderr",
     "output_type": "stream",
     "text": [
      "\u001b[34m\u001b[1mwandb\u001b[0m: Adding directory to artifact (./models)... Done. 0.0s\n"
     ]
    },
    {
     "name": "stdout",
     "output_type": "stream",
     "text": [
      "Epoch 22/100\n",
      "INFO:tensorflow:Assets written to: models/assets\n"
     ]
    },
    {
     "name": "stderr",
     "output_type": "stream",
     "text": [
      "\u001b[34m\u001b[1mwandb\u001b[0m: Adding directory to artifact (./models)... Done. 0.0s\n"
     ]
    },
    {
     "name": "stdout",
     "output_type": "stream",
     "text": [
      "Epoch 23/100\n",
      "INFO:tensorflow:Assets written to: models/assets\n"
     ]
    },
    {
     "name": "stderr",
     "output_type": "stream",
     "text": [
      "\u001b[34m\u001b[1mwandb\u001b[0m: Adding directory to artifact (./models)... Done. 0.0s\n"
     ]
    },
    {
     "name": "stdout",
     "output_type": "stream",
     "text": [
      "Epoch 24/100\n",
      "INFO:tensorflow:Assets written to: models/assets\n"
     ]
    },
    {
     "name": "stderr",
     "output_type": "stream",
     "text": [
      "\u001b[34m\u001b[1mwandb\u001b[0m: Adding directory to artifact (./models)... Done. 0.0s\n"
     ]
    },
    {
     "name": "stdout",
     "output_type": "stream",
     "text": [
      "Epoch 25/100\n",
      "INFO:tensorflow:Assets written to: models/assets\n"
     ]
    },
    {
     "name": "stderr",
     "output_type": "stream",
     "text": [
      "\u001b[34m\u001b[1mwandb\u001b[0m: Adding directory to artifact (./models)... Done. 0.0s\n"
     ]
    },
    {
     "name": "stdout",
     "output_type": "stream",
     "text": [
      "Epoch 26/100\n",
      "INFO:tensorflow:Assets written to: models/assets\n"
     ]
    },
    {
     "name": "stderr",
     "output_type": "stream",
     "text": [
      "\u001b[34m\u001b[1mwandb\u001b[0m: Adding directory to artifact (./models)... Done. 0.0s\n"
     ]
    },
    {
     "name": "stdout",
     "output_type": "stream",
     "text": [
      "Epoch 27/100\n",
      "INFO:tensorflow:Assets written to: models/assets\n"
     ]
    },
    {
     "name": "stderr",
     "output_type": "stream",
     "text": [
      "\u001b[34m\u001b[1mwandb\u001b[0m: Adding directory to artifact (./models)... Done. 0.0s\n"
     ]
    },
    {
     "name": "stdout",
     "output_type": "stream",
     "text": [
      "Epoch 28/100\n",
      "INFO:tensorflow:Assets written to: models/assets\n"
     ]
    },
    {
     "name": "stderr",
     "output_type": "stream",
     "text": [
      "\u001b[34m\u001b[1mwandb\u001b[0m: Adding directory to artifact (./models)... Done. 0.0s\n"
     ]
    },
    {
     "name": "stdout",
     "output_type": "stream",
     "text": [
      "Epoch 29/100\n",
      "INFO:tensorflow:Assets written to: models/assets\n"
     ]
    },
    {
     "name": "stderr",
     "output_type": "stream",
     "text": [
      "\u001b[34m\u001b[1mwandb\u001b[0m: Adding directory to artifact (./models)... Done. 0.0s\n"
     ]
    },
    {
     "name": "stdout",
     "output_type": "stream",
     "text": [
      "Epoch 30/100\n",
      "INFO:tensorflow:Assets written to: models/assets\n"
     ]
    },
    {
     "name": "stderr",
     "output_type": "stream",
     "text": [
      "\u001b[34m\u001b[1mwandb\u001b[0m: Adding directory to artifact (./models)... Done. 0.0s\n"
     ]
    },
    {
     "name": "stdout",
     "output_type": "stream",
     "text": [
      "Epoch 31/100\n",
      "INFO:tensorflow:Assets written to: models/assets\n"
     ]
    },
    {
     "name": "stderr",
     "output_type": "stream",
     "text": [
      "\u001b[34m\u001b[1mwandb\u001b[0m: Adding directory to artifact (./models)... Done. 0.0s\n"
     ]
    },
    {
     "name": "stdout",
     "output_type": "stream",
     "text": [
      "Epoch 32/100\n",
      "INFO:tensorflow:Assets written to: models/assets\n"
     ]
    },
    {
     "name": "stderr",
     "output_type": "stream",
     "text": [
      "\u001b[34m\u001b[1mwandb\u001b[0m: Adding directory to artifact (./models)... Done. 0.0s\n"
     ]
    },
    {
     "name": "stdout",
     "output_type": "stream",
     "text": [
      "Epoch 33/100\n",
      "INFO:tensorflow:Assets written to: models/assets\n"
     ]
    },
    {
     "name": "stderr",
     "output_type": "stream",
     "text": [
      "\u001b[34m\u001b[1mwandb\u001b[0m: Adding directory to artifact (./models)... Done. 0.0s\n"
     ]
    },
    {
     "name": "stdout",
     "output_type": "stream",
     "text": [
      "Epoch 34/100\n",
      "INFO:tensorflow:Assets written to: models/assets\n"
     ]
    },
    {
     "name": "stderr",
     "output_type": "stream",
     "text": [
      "\u001b[34m\u001b[1mwandb\u001b[0m: Adding directory to artifact (./models)... Done. 0.0s\n"
     ]
    },
    {
     "name": "stdout",
     "output_type": "stream",
     "text": [
      "Epoch 35/100\n",
      "INFO:tensorflow:Assets written to: models/assets\n"
     ]
    },
    {
     "name": "stderr",
     "output_type": "stream",
     "text": [
      "\u001b[34m\u001b[1mwandb\u001b[0m: Adding directory to artifact (./models)... Done. 0.0s\n"
     ]
    },
    {
     "name": "stdout",
     "output_type": "stream",
     "text": [
      "Epoch 36/100\n",
      "INFO:tensorflow:Assets written to: models/assets\n"
     ]
    },
    {
     "name": "stderr",
     "output_type": "stream",
     "text": [
      "\u001b[34m\u001b[1mwandb\u001b[0m: Adding directory to artifact (./models)... Done. 0.0s\n"
     ]
    },
    {
     "name": "stdout",
     "output_type": "stream",
     "text": [
      "Epoch 37/100\n",
      "INFO:tensorflow:Assets written to: models/assets\n"
     ]
    },
    {
     "name": "stderr",
     "output_type": "stream",
     "text": [
      "\u001b[34m\u001b[1mwandb\u001b[0m: Adding directory to artifact (./models)... Done. 0.0s\n"
     ]
    },
    {
     "name": "stdout",
     "output_type": "stream",
     "text": [
      "Epoch 38/100\n",
      "INFO:tensorflow:Assets written to: models/assets\n"
     ]
    },
    {
     "name": "stderr",
     "output_type": "stream",
     "text": [
      "\u001b[34m\u001b[1mwandb\u001b[0m: Adding directory to artifact (./models)... Done. 0.0s\n"
     ]
    },
    {
     "name": "stdout",
     "output_type": "stream",
     "text": [
      "Epoch 39/100\n",
      "INFO:tensorflow:Assets written to: models/assets\n"
     ]
    },
    {
     "name": "stderr",
     "output_type": "stream",
     "text": [
      "\u001b[34m\u001b[1mwandb\u001b[0m: Adding directory to artifact (./models)... Done. 0.0s\n"
     ]
    },
    {
     "name": "stdout",
     "output_type": "stream",
     "text": [
      "Epoch 40/100\n",
      "INFO:tensorflow:Assets written to: models/assets\n"
     ]
    },
    {
     "name": "stderr",
     "output_type": "stream",
     "text": [
      "\u001b[34m\u001b[1mwandb\u001b[0m: Adding directory to artifact (./models)... Done. 0.0s\n"
     ]
    },
    {
     "name": "stdout",
     "output_type": "stream",
     "text": [
      "Epoch 41/100\n",
      "INFO:tensorflow:Assets written to: models/assets\n"
     ]
    },
    {
     "name": "stderr",
     "output_type": "stream",
     "text": [
      "\u001b[34m\u001b[1mwandb\u001b[0m: Adding directory to artifact (./models)... Done. 0.0s\n"
     ]
    },
    {
     "name": "stdout",
     "output_type": "stream",
     "text": [
      "Epoch 42/100\n",
      "INFO:tensorflow:Assets written to: models/assets\n"
     ]
    },
    {
     "name": "stderr",
     "output_type": "stream",
     "text": [
      "\u001b[34m\u001b[1mwandb\u001b[0m: Adding directory to artifact (./models)... Done. 0.0s\n"
     ]
    },
    {
     "name": "stdout",
     "output_type": "stream",
     "text": [
      "Epoch 43/100\n",
      "INFO:tensorflow:Assets written to: models/assets\n"
     ]
    },
    {
     "name": "stderr",
     "output_type": "stream",
     "text": [
      "\u001b[34m\u001b[1mwandb\u001b[0m: Adding directory to artifact (./models)... Done. 0.0s\n"
     ]
    },
    {
     "name": "stdout",
     "output_type": "stream",
     "text": [
      "Epoch 44/100\n",
      "INFO:tensorflow:Assets written to: models/assets\n"
     ]
    },
    {
     "name": "stderr",
     "output_type": "stream",
     "text": [
      "\u001b[34m\u001b[1mwandb\u001b[0m: Adding directory to artifact (./models)... Done. 0.0s\n"
     ]
    },
    {
     "name": "stdout",
     "output_type": "stream",
     "text": [
      "Epoch 45/100\n",
      "INFO:tensorflow:Assets written to: models/assets\n"
     ]
    },
    {
     "name": "stderr",
     "output_type": "stream",
     "text": [
      "\u001b[34m\u001b[1mwandb\u001b[0m: Adding directory to artifact (./models)... Done. 0.0s\n"
     ]
    },
    {
     "name": "stdout",
     "output_type": "stream",
     "text": [
      "Epoch 46/100\n",
      "INFO:tensorflow:Assets written to: models/assets\n"
     ]
    },
    {
     "name": "stderr",
     "output_type": "stream",
     "text": [
      "\u001b[34m\u001b[1mwandb\u001b[0m: Adding directory to artifact (./models)... Done. 0.0s\n"
     ]
    },
    {
     "name": "stdout",
     "output_type": "stream",
     "text": [
      "Epoch 47/100\n",
      "INFO:tensorflow:Assets written to: models/assets\n"
     ]
    },
    {
     "name": "stderr",
     "output_type": "stream",
     "text": [
      "\u001b[34m\u001b[1mwandb\u001b[0m: Adding directory to artifact (./models)... Done. 0.0s\n"
     ]
    },
    {
     "name": "stdout",
     "output_type": "stream",
     "text": [
      "Epoch 48/100\n",
      "INFO:tensorflow:Assets written to: models/assets\n"
     ]
    },
    {
     "name": "stderr",
     "output_type": "stream",
     "text": [
      "\u001b[34m\u001b[1mwandb\u001b[0m: Adding directory to artifact (./models)... Done. 0.0s\n"
     ]
    },
    {
     "name": "stdout",
     "output_type": "stream",
     "text": [
      "Epoch 49/100\n",
      "INFO:tensorflow:Assets written to: models/assets\n"
     ]
    },
    {
     "name": "stderr",
     "output_type": "stream",
     "text": [
      "\u001b[34m\u001b[1mwandb\u001b[0m: Adding directory to artifact (./models)... Done. 0.0s\n"
     ]
    },
    {
     "name": "stdout",
     "output_type": "stream",
     "text": [
      "Epoch 50/100\n",
      "INFO:tensorflow:Assets written to: models/assets\n"
     ]
    },
    {
     "name": "stderr",
     "output_type": "stream",
     "text": [
      "\u001b[34m\u001b[1mwandb\u001b[0m: Adding directory to artifact (./models)... Done. 0.0s\n"
     ]
    },
    {
     "name": "stdout",
     "output_type": "stream",
     "text": [
      "Epoch 51/100\n",
      "INFO:tensorflow:Assets written to: models/assets\n"
     ]
    },
    {
     "name": "stderr",
     "output_type": "stream",
     "text": [
      "\u001b[34m\u001b[1mwandb\u001b[0m: Adding directory to artifact (./models)... Done. 0.0s\n"
     ]
    },
    {
     "name": "stdout",
     "output_type": "stream",
     "text": [
      "Epoch 52/100\n",
      "INFO:tensorflow:Assets written to: models/assets\n"
     ]
    },
    {
     "name": "stderr",
     "output_type": "stream",
     "text": [
      "\u001b[34m\u001b[1mwandb\u001b[0m: Adding directory to artifact (./models)... Done. 0.0s\n"
     ]
    },
    {
     "name": "stdout",
     "output_type": "stream",
     "text": [
      "Epoch 53/100\n",
      "INFO:tensorflow:Assets written to: models/assets\n"
     ]
    },
    {
     "name": "stderr",
     "output_type": "stream",
     "text": [
      "\u001b[34m\u001b[1mwandb\u001b[0m: Adding directory to artifact (./models)... Done. 0.0s\n"
     ]
    },
    {
     "name": "stdout",
     "output_type": "stream",
     "text": [
      "Epoch 54/100\n",
      "INFO:tensorflow:Assets written to: models/assets\n"
     ]
    },
    {
     "name": "stderr",
     "output_type": "stream",
     "text": [
      "\u001b[34m\u001b[1mwandb\u001b[0m: Adding directory to artifact (./models)... Done. 0.0s\n"
     ]
    },
    {
     "name": "stdout",
     "output_type": "stream",
     "text": [
      "Epoch 55/100\n",
      "INFO:tensorflow:Assets written to: models/assets\n"
     ]
    },
    {
     "name": "stderr",
     "output_type": "stream",
     "text": [
      "\u001b[34m\u001b[1mwandb\u001b[0m: Adding directory to artifact (./models)... Done. 0.0s\n"
     ]
    },
    {
     "name": "stdout",
     "output_type": "stream",
     "text": [
      "Epoch 56/100\n",
      "INFO:tensorflow:Assets written to: models/assets\n"
     ]
    },
    {
     "name": "stderr",
     "output_type": "stream",
     "text": [
      "\u001b[34m\u001b[1mwandb\u001b[0m: Adding directory to artifact (./models)... Done. 0.0s\n"
     ]
    },
    {
     "name": "stdout",
     "output_type": "stream",
     "text": [
      "Epoch 57/100\n",
      "INFO:tensorflow:Assets written to: models/assets\n"
     ]
    },
    {
     "name": "stderr",
     "output_type": "stream",
     "text": [
      "\u001b[34m\u001b[1mwandb\u001b[0m: Adding directory to artifact (./models)... Done. 0.0s\n"
     ]
    },
    {
     "name": "stdout",
     "output_type": "stream",
     "text": [
      "Epoch 58/100\n",
      "INFO:tensorflow:Assets written to: models/assets\n"
     ]
    },
    {
     "name": "stderr",
     "output_type": "stream",
     "text": [
      "\u001b[34m\u001b[1mwandb\u001b[0m: Adding directory to artifact (./models)... Done. 0.0s\n"
     ]
    },
    {
     "name": "stdout",
     "output_type": "stream",
     "text": [
      "Epoch 59/100\n",
      "INFO:tensorflow:Assets written to: models/assets\n"
     ]
    },
    {
     "name": "stderr",
     "output_type": "stream",
     "text": [
      "\u001b[34m\u001b[1mwandb\u001b[0m: Adding directory to artifact (./models)... Done. 0.0s\n"
     ]
    },
    {
     "name": "stdout",
     "output_type": "stream",
     "text": [
      "Epoch 60/100\n",
      "INFO:tensorflow:Assets written to: models/assets\n"
     ]
    },
    {
     "name": "stderr",
     "output_type": "stream",
     "text": [
      "\u001b[34m\u001b[1mwandb\u001b[0m: Adding directory to artifact (./models)... Done. 0.0s\n"
     ]
    },
    {
     "name": "stdout",
     "output_type": "stream",
     "text": [
      "Epoch 61/100\n",
      "INFO:tensorflow:Assets written to: models/assets\n"
     ]
    },
    {
     "name": "stderr",
     "output_type": "stream",
     "text": [
      "\u001b[34m\u001b[1mwandb\u001b[0m: Adding directory to artifact (./models)... Done. 0.0s\n"
     ]
    },
    {
     "name": "stdout",
     "output_type": "stream",
     "text": [
      "Epoch 62/100\n",
      "INFO:tensorflow:Assets written to: models/assets\n"
     ]
    },
    {
     "name": "stderr",
     "output_type": "stream",
     "text": [
      "\u001b[34m\u001b[1mwandb\u001b[0m: Adding directory to artifact (./models)... Done. 0.0s\n"
     ]
    },
    {
     "name": "stdout",
     "output_type": "stream",
     "text": [
      "Epoch 63/100\n",
      "INFO:tensorflow:Assets written to: models/assets\n"
     ]
    },
    {
     "name": "stderr",
     "output_type": "stream",
     "text": [
      "\u001b[34m\u001b[1mwandb\u001b[0m: Adding directory to artifact (./models)... Done. 0.0s\n"
     ]
    },
    {
     "name": "stdout",
     "output_type": "stream",
     "text": [
      "Epoch 64/100\n",
      "INFO:tensorflow:Assets written to: models/assets\n"
     ]
    },
    {
     "name": "stderr",
     "output_type": "stream",
     "text": [
      "\u001b[34m\u001b[1mwandb\u001b[0m: Adding directory to artifact (./models)... Done. 0.0s\n"
     ]
    },
    {
     "name": "stdout",
     "output_type": "stream",
     "text": [
      "Epoch 65/100\n",
      "INFO:tensorflow:Assets written to: models/assets\n"
     ]
    },
    {
     "name": "stderr",
     "output_type": "stream",
     "text": [
      "\u001b[34m\u001b[1mwandb\u001b[0m: Adding directory to artifact (./models)... Done. 0.0s\n"
     ]
    },
    {
     "name": "stdout",
     "output_type": "stream",
     "text": [
      "Epoch 66/100\n",
      "INFO:tensorflow:Assets written to: models/assets\n"
     ]
    },
    {
     "name": "stderr",
     "output_type": "stream",
     "text": [
      "\u001b[34m\u001b[1mwandb\u001b[0m: Adding directory to artifact (./models)... Done. 0.0s\n"
     ]
    },
    {
     "name": "stdout",
     "output_type": "stream",
     "text": [
      "Epoch 67/100\n",
      "INFO:tensorflow:Assets written to: models/assets\n"
     ]
    },
    {
     "name": "stderr",
     "output_type": "stream",
     "text": [
      "\u001b[34m\u001b[1mwandb\u001b[0m: Adding directory to artifact (./models)... Done. 0.0s\n"
     ]
    },
    {
     "name": "stdout",
     "output_type": "stream",
     "text": [
      "Epoch 68/100\n",
      "INFO:tensorflow:Assets written to: models/assets\n"
     ]
    },
    {
     "name": "stderr",
     "output_type": "stream",
     "text": [
      "\u001b[34m\u001b[1mwandb\u001b[0m: Adding directory to artifact (./models)... Done. 0.0s\n"
     ]
    },
    {
     "name": "stdout",
     "output_type": "stream",
     "text": [
      "Epoch 69/100\n",
      "INFO:tensorflow:Assets written to: models/assets\n"
     ]
    },
    {
     "name": "stderr",
     "output_type": "stream",
     "text": [
      "\u001b[34m\u001b[1mwandb\u001b[0m: Adding directory to artifact (./models)... Done. 0.0s\n"
     ]
    },
    {
     "name": "stdout",
     "output_type": "stream",
     "text": [
      "Epoch 70/100\n",
      "INFO:tensorflow:Assets written to: models/assets\n"
     ]
    },
    {
     "name": "stderr",
     "output_type": "stream",
     "text": [
      "\u001b[34m\u001b[1mwandb\u001b[0m: Adding directory to artifact (./models)... Done. 0.0s\n"
     ]
    },
    {
     "name": "stdout",
     "output_type": "stream",
     "text": [
      "Epoch 71/100\n",
      "INFO:tensorflow:Assets written to: models/assets\n"
     ]
    },
    {
     "name": "stderr",
     "output_type": "stream",
     "text": [
      "\u001b[34m\u001b[1mwandb\u001b[0m: Adding directory to artifact (./models)... Done. 0.0s\n"
     ]
    },
    {
     "name": "stdout",
     "output_type": "stream",
     "text": [
      "Epoch 72/100\n",
      "INFO:tensorflow:Assets written to: models/assets\n"
     ]
    },
    {
     "name": "stderr",
     "output_type": "stream",
     "text": [
      "\u001b[34m\u001b[1mwandb\u001b[0m: Adding directory to artifact (./models)... Done. 0.0s\n"
     ]
    },
    {
     "name": "stdout",
     "output_type": "stream",
     "text": [
      "Epoch 73/100\n",
      "INFO:tensorflow:Assets written to: models/assets\n"
     ]
    },
    {
     "name": "stderr",
     "output_type": "stream",
     "text": [
      "\u001b[34m\u001b[1mwandb\u001b[0m: Adding directory to artifact (./models)... Done. 0.0s\n"
     ]
    },
    {
     "name": "stdout",
     "output_type": "stream",
     "text": [
      "Epoch 74/100\n",
      "INFO:tensorflow:Assets written to: models/assets\n"
     ]
    },
    {
     "name": "stderr",
     "output_type": "stream",
     "text": [
      "\u001b[34m\u001b[1mwandb\u001b[0m: Adding directory to artifact (./models)... Done. 0.0s\n"
     ]
    },
    {
     "name": "stdout",
     "output_type": "stream",
     "text": [
      "Epoch 75/100\n",
      "INFO:tensorflow:Assets written to: models/assets\n"
     ]
    },
    {
     "name": "stderr",
     "output_type": "stream",
     "text": [
      "\u001b[34m\u001b[1mwandb\u001b[0m: Adding directory to artifact (./models)... Done. 0.0s\n"
     ]
    },
    {
     "name": "stdout",
     "output_type": "stream",
     "text": [
      "Epoch 76/100\n",
      "INFO:tensorflow:Assets written to: models/assets\n"
     ]
    },
    {
     "name": "stderr",
     "output_type": "stream",
     "text": [
      "\u001b[34m\u001b[1mwandb\u001b[0m: Adding directory to artifact (./models)... Done. 0.0s\n"
     ]
    },
    {
     "name": "stdout",
     "output_type": "stream",
     "text": [
      "Epoch 77/100\n",
      "INFO:tensorflow:Assets written to: models/assets\n"
     ]
    },
    {
     "name": "stderr",
     "output_type": "stream",
     "text": [
      "\u001b[34m\u001b[1mwandb\u001b[0m: Adding directory to artifact (./models)... Done. 0.0s\n"
     ]
    },
    {
     "name": "stdout",
     "output_type": "stream",
     "text": [
      "Epoch 78/100\n",
      "INFO:tensorflow:Assets written to: models/assets\n"
     ]
    },
    {
     "name": "stderr",
     "output_type": "stream",
     "text": [
      "\u001b[34m\u001b[1mwandb\u001b[0m: Adding directory to artifact (./models)... Done. 0.0s\n"
     ]
    },
    {
     "name": "stdout",
     "output_type": "stream",
     "text": [
      "Epoch 79/100\n",
      "INFO:tensorflow:Assets written to: models/assets\n"
     ]
    },
    {
     "name": "stderr",
     "output_type": "stream",
     "text": [
      "\u001b[34m\u001b[1mwandb\u001b[0m: Adding directory to artifact (./models)... Done. 0.0s\n"
     ]
    },
    {
     "name": "stdout",
     "output_type": "stream",
     "text": [
      "Epoch 80/100\n",
      "INFO:tensorflow:Assets written to: models/assets\n"
     ]
    },
    {
     "name": "stderr",
     "output_type": "stream",
     "text": [
      "\u001b[34m\u001b[1mwandb\u001b[0m: Adding directory to artifact (./models)... Done. 0.0s\n"
     ]
    },
    {
     "name": "stdout",
     "output_type": "stream",
     "text": [
      "Epoch 81/100\n",
      "INFO:tensorflow:Assets written to: models/assets\n"
     ]
    },
    {
     "name": "stderr",
     "output_type": "stream",
     "text": [
      "\u001b[34m\u001b[1mwandb\u001b[0m: Adding directory to artifact (./models)... Done. 0.0s\n"
     ]
    },
    {
     "name": "stdout",
     "output_type": "stream",
     "text": [
      "Epoch 82/100\n",
      "INFO:tensorflow:Assets written to: models/assets\n"
     ]
    },
    {
     "name": "stderr",
     "output_type": "stream",
     "text": [
      "\u001b[34m\u001b[1mwandb\u001b[0m: Adding directory to artifact (./models)... Done. 0.0s\n"
     ]
    },
    {
     "name": "stdout",
     "output_type": "stream",
     "text": [
      "Epoch 83/100\n",
      "INFO:tensorflow:Assets written to: models/assets\n"
     ]
    },
    {
     "name": "stderr",
     "output_type": "stream",
     "text": [
      "\u001b[34m\u001b[1mwandb\u001b[0m: Adding directory to artifact (./models)... Done. 0.0s\n"
     ]
    },
    {
     "name": "stdout",
     "output_type": "stream",
     "text": [
      "Epoch 84/100\n",
      "INFO:tensorflow:Assets written to: models/assets\n"
     ]
    },
    {
     "name": "stderr",
     "output_type": "stream",
     "text": [
      "\u001b[34m\u001b[1mwandb\u001b[0m: Adding directory to artifact (./models)... Done. 0.0s\n"
     ]
    },
    {
     "name": "stdout",
     "output_type": "stream",
     "text": [
      "Epoch 85/100\n",
      "INFO:tensorflow:Assets written to: models/assets\n"
     ]
    },
    {
     "name": "stderr",
     "output_type": "stream",
     "text": [
      "\u001b[34m\u001b[1mwandb\u001b[0m: Adding directory to artifact (./models)... Done. 0.0s\n"
     ]
    },
    {
     "name": "stdout",
     "output_type": "stream",
     "text": [
      "Epoch 86/100\n",
      "INFO:tensorflow:Assets written to: models/assets\n"
     ]
    },
    {
     "name": "stderr",
     "output_type": "stream",
     "text": [
      "\u001b[34m\u001b[1mwandb\u001b[0m: Adding directory to artifact (./models)... Done. 0.0s\n"
     ]
    },
    {
     "name": "stdout",
     "output_type": "stream",
     "text": [
      "Epoch 87/100\n",
      "INFO:tensorflow:Assets written to: models/assets\n"
     ]
    },
    {
     "name": "stderr",
     "output_type": "stream",
     "text": [
      "\u001b[34m\u001b[1mwandb\u001b[0m: Adding directory to artifact (./models)... Done. 0.0s\n"
     ]
    },
    {
     "name": "stdout",
     "output_type": "stream",
     "text": [
      "Epoch 88/100\n",
      "INFO:tensorflow:Assets written to: models/assets\n"
     ]
    },
    {
     "name": "stderr",
     "output_type": "stream",
     "text": [
      "\u001b[34m\u001b[1mwandb\u001b[0m: Adding directory to artifact (./models)... Done. 0.0s\n"
     ]
    },
    {
     "name": "stdout",
     "output_type": "stream",
     "text": [
      "Epoch 89/100\n",
      "INFO:tensorflow:Assets written to: models/assets\n"
     ]
    },
    {
     "name": "stderr",
     "output_type": "stream",
     "text": [
      "\u001b[34m\u001b[1mwandb\u001b[0m: Adding directory to artifact (./models)... Done. 0.0s\n"
     ]
    },
    {
     "name": "stdout",
     "output_type": "stream",
     "text": [
      "Epoch 90/100\n",
      "INFO:tensorflow:Assets written to: models/assets\n"
     ]
    },
    {
     "name": "stderr",
     "output_type": "stream",
     "text": [
      "\u001b[34m\u001b[1mwandb\u001b[0m: Adding directory to artifact (./models)... Done. 0.0s\n"
     ]
    },
    {
     "name": "stdout",
     "output_type": "stream",
     "text": [
      "Epoch 91/100\n",
      "INFO:tensorflow:Assets written to: models/assets\n"
     ]
    },
    {
     "name": "stderr",
     "output_type": "stream",
     "text": [
      "\u001b[34m\u001b[1mwandb\u001b[0m: Adding directory to artifact (./models)... Done. 0.0s\n"
     ]
    },
    {
     "name": "stdout",
     "output_type": "stream",
     "text": [
      "Epoch 92/100\n",
      "INFO:tensorflow:Assets written to: models/assets\n"
     ]
    },
    {
     "name": "stderr",
     "output_type": "stream",
     "text": [
      "\u001b[34m\u001b[1mwandb\u001b[0m: Adding directory to artifact (./models)... Done. 0.0s\n"
     ]
    },
    {
     "name": "stdout",
     "output_type": "stream",
     "text": [
      "Epoch 93/100\n",
      "INFO:tensorflow:Assets written to: models/assets\n"
     ]
    },
    {
     "name": "stderr",
     "output_type": "stream",
     "text": [
      "\u001b[34m\u001b[1mwandb\u001b[0m: Adding directory to artifact (./models)... Done. 0.0s\n"
     ]
    },
    {
     "name": "stdout",
     "output_type": "stream",
     "text": [
      "Epoch 94/100\n",
      "INFO:tensorflow:Assets written to: models/assets\n"
     ]
    },
    {
     "name": "stderr",
     "output_type": "stream",
     "text": [
      "\u001b[34m\u001b[1mwandb\u001b[0m: Adding directory to artifact (./models)... Done. 0.0s\n"
     ]
    },
    {
     "name": "stdout",
     "output_type": "stream",
     "text": [
      "Epoch 95/100\n",
      "INFO:tensorflow:Assets written to: models/assets\n"
     ]
    },
    {
     "name": "stderr",
     "output_type": "stream",
     "text": [
      "\u001b[34m\u001b[1mwandb\u001b[0m: Adding directory to artifact (./models)... Done. 0.0s\n"
     ]
    },
    {
     "name": "stdout",
     "output_type": "stream",
     "text": [
      "Epoch 96/100\n",
      "INFO:tensorflow:Assets written to: models/assets\n"
     ]
    },
    {
     "name": "stderr",
     "output_type": "stream",
     "text": [
      "\u001b[34m\u001b[1mwandb\u001b[0m: Adding directory to artifact (./models)... Done. 0.0s\n"
     ]
    },
    {
     "name": "stdout",
     "output_type": "stream",
     "text": [
      "Epoch 97/100\n",
      "INFO:tensorflow:Assets written to: models/assets\n"
     ]
    },
    {
     "name": "stderr",
     "output_type": "stream",
     "text": [
      "\u001b[34m\u001b[1mwandb\u001b[0m: Adding directory to artifact (./models)... Done. 0.0s\n"
     ]
    },
    {
     "name": "stdout",
     "output_type": "stream",
     "text": [
      "Epoch 98/100\n",
      "INFO:tensorflow:Assets written to: models/assets\n"
     ]
    },
    {
     "name": "stderr",
     "output_type": "stream",
     "text": [
      "\u001b[34m\u001b[1mwandb\u001b[0m: Adding directory to artifact (./models)... Done. 0.0s\n"
     ]
    },
    {
     "name": "stdout",
     "output_type": "stream",
     "text": [
      "Epoch 99/100\n",
      "INFO:tensorflow:Assets written to: models/assets\n"
     ]
    },
    {
     "name": "stderr",
     "output_type": "stream",
     "text": [
      "\u001b[34m\u001b[1mwandb\u001b[0m: Adding directory to artifact (./models)... Done. 0.0s\n"
     ]
    },
    {
     "name": "stdout",
     "output_type": "stream",
     "text": [
      "Epoch 100/100\n",
      "INFO:tensorflow:Assets written to: models/assets\n"
     ]
    },
    {
     "name": "stderr",
     "output_type": "stream",
     "text": [
      "\u001b[34m\u001b[1mwandb\u001b[0m: Adding directory to artifact (./models)... Done. 0.0s\n"
     ]
    }
   ],
   "source": [
    "es = EarlyStopping(\n",
    "    patience=40,\n",
    "    monitor='val_recall', # We really want to detect fraudulent transactions!\n",
    "    restore_best_weights=True)\n",
    "\n",
    "history = model.fit(X_train_scaled, y_train_o,\n",
    "                    validation_data=(X_val_scaled, y_val),\n",
    "                    epochs=100,\n",
    "                    batch_size=128, # Large enough to get a decent chance of containing fraudulent transactions \n",
    "                    callbacks=[es,\n",
    "                      WandbMetricsLogger(log_freq=5),\n",
    "                      WandbModelCheckpoint(\"models\")], \n",
    "                    shuffle=True,\n",
    "                    verbose=3\n",
    "                   )"
   ]
  },
  {
   "cell_type": "code",
   "execution_count": 58,
   "id": "15ce0377",
   "metadata": {},
   "outputs": [
    {
     "data": {
      "text/html": [
       "Waiting for W&B process to finish... <strong style=\"color:green\">(success).</strong>"
      ],
      "text/plain": [
       "<IPython.core.display.HTML object>"
      ]
     },
     "metadata": {},
     "output_type": "display_data"
    },
    {
     "data": {
      "text/html": [
       "<style>\n",
       "    table.wandb td:nth-child(1) { padding: 0 10px; text-align: left ; width: auto;} td:nth-child(2) {text-align: left ; width: 100%}\n",
       "    .wandb-row { display: flex; flex-direction: row; flex-wrap: wrap; justify-content: flex-start; width: 100% }\n",
       "    .wandb-col { display: flex; flex-direction: column; flex-basis: 100%; flex: 1; padding: 10px; }\n",
       "    </style>\n",
       "<div class=\"wandb-row\"><div class=\"wandb-col\"><h3>Run history:</h3><br/><table class=\"wandb\"><tr><td>batch/accuracy</td><td>▁▃▅▅▆▆▆▇▇▇▇▇▇▇▇▇████▆███████████████████</td></tr><tr><td>batch/auc</td><td>▁▅▆▆▇▇▇▇████████████████████████████████</td></tr><tr><td>batch/batch_step</td><td>▁▁▁▁▂▂▂▂▂▃▃▃▃▃▃▄▄▄▄▄▅▅▅▅▅▅▆▆▆▆▆▇▇▇▇▇▇███</td></tr><tr><td>batch/cross entropy</td><td>█▅▄▄▃▃▃▂▂▂▂▂▁▁▁▁▁▁▁▁▂▁▁▁▁▁▁▁▁▁▁▁▁▁▁▁▁▁▁▁</td></tr><tr><td>batch/f1_score</td><td>▁▄▅▅▆▆▆▇▇▇▇▇▇▇▇▇████▆███████████████████</td></tr><tr><td>batch/learning_rate</td><td>▁▁▁▁▁▁▁▁▁▁▁▁▁▁▁▁▁▁▁▁▁▁▁▁▁▁▁▁▁▁▁▁▁▁▁▁▁▁▁▁</td></tr><tr><td>batch/loss</td><td>█▅▄▄▃▃▃▂▂▂▂▂▁▁▁▁▁▁▁▁▂▁▁▁▁▁▁▁▁▁▁▁▁▁▁▁▁▁▁▁</td></tr><tr><td>batch/prc</td><td>▁▅▆▆▇▇▇▇████████████████████████████████</td></tr><tr><td>batch/precision</td><td>▁▂▅▅▆▆▆▇▇▇▇▇▇▇▇▇████▆███████████████████</td></tr><tr><td>batch/recall</td><td>▁█▂▃▄▃▃▃▄▄▅▄▅▅▅▅▆▆▅▆▃▆▅▆▆▆▆▇▇▇▆▆▇▇▇▇▇▇▇▆</td></tr><tr><td>epoch/accuracy</td><td>▁▃▅▅▆▆▆▇▇▇▇▇▇▇▇▇████████████████████████</td></tr><tr><td>epoch/auc</td><td>▁▅▆▆▇▇▇▇████████████████████████████████</td></tr><tr><td>epoch/cross entropy</td><td>█▅▄▄▃▃▃▂▂▂▂▂▁▁▁▁▁▁▁▁▁▁▁▁▁▁▁▁▁▁▁▁▁▁▁▁▁▁▁▁</td></tr><tr><td>epoch/epoch</td><td>▁▁▁▁▂▂▂▂▂▃▃▃▃▃▃▄▄▄▄▄▅▅▅▅▅▅▆▆▆▆▆▇▇▇▇▇▇███</td></tr><tr><td>epoch/f1_score</td><td>▁▄▅▅▆▆▆▇▇▇▇▇▇▇██████████████████████████</td></tr><tr><td>epoch/learning_rate</td><td>▁▁▁▁▁▁▁▁▁▁▁▁▁▁▁▁▁▁▁▁▁▁▁▁▁▁▁▁▁▁▁▁▁▁▁▁▁▁▁▁</td></tr><tr><td>epoch/loss</td><td>█▅▄▄▃▃▃▂▂▂▂▂▁▁▁▁▁▁▁▁▁▁▁▁▁▁▁▁▁▁▁▁▁▁▁▁▁▁▁▁</td></tr><tr><td>epoch/prc</td><td>▁▅▆▆▇▇▇▇████████████████████████████████</td></tr><tr><td>epoch/precision</td><td>▁▃▅▅▆▆▇▇▇▇▇▇▇▇██████████████████████████</td></tr><tr><td>epoch/recall</td><td>▁█▂▃▄▃▃▃▄▄▄▄▅▅▅▅▆▅▆▅▆▆▅▆▆▆▇▆▆▇▇▇▇▇▇▇▇▇▇▇</td></tr><tr><td>epoch/val_accuracy</td><td>█▆▇▆▆▅▅▅▄▅▃▄▅▄▄▄▅▃▅▄▃▄▃▄▅▃▃▃▃▃▃▄▃▄▁▃▂▂▃▁</td></tr><tr><td>epoch/val_auc</td><td>▁▄▅▅▆▆▇▇████████████████████████████████</td></tr><tr><td>epoch/val_cross entropy</td><td>█▆▅▅▅▅▇▆▄▆▅▄▄▄▃▃▄▅▃▃▃▂▃▄▂▃▃▄▃▅▂▁▃▁▅▂▃▃▃▄</td></tr><tr><td>epoch/val_f1_score</td><td>█▆▇▆▆▅▅▅▄▅▃▄▅▄▄▄▅▃▅▄▃▄▃▄▅▃▃▃▃▃▃▄▃▄▁▃▂▂▃▁</td></tr><tr><td>epoch/val_loss</td><td>█▆▅▅▅▅▇▆▄▆▅▄▄▄▃▃▄▅▃▃▃▂▃▄▂▃▃▄▃▅▂▁▃▁▅▂▃▃▃▄</td></tr><tr><td>epoch/val_prc</td><td>▁▄▅▅▆▆▇▇████████████████████████████████</td></tr><tr><td>epoch/val_precision</td><td>▁▃▃▄▄▅▅▆▆▆▇▆▅▆▆▆▆▇▆▆▇▆▇▆▅▇▇▇▇▇▇▆▇▆█▇▇█▇█</td></tr><tr><td>epoch/val_recall</td><td>█▆▆▆▅▅▅▄▄▄▃▄▄▄▄▄▄▃▄▄▃▃▃▄▄▃▃▂▃▃▃▄▃▃▁▃▂▁▂▁</td></tr></table><br/></div><div class=\"wandb-col\"><h3>Run summary:</h3><br/><table class=\"wandb\"><tr><td>batch/accuracy</td><td>0.94625</td></tr><tr><td>batch/auc</td><td>0.94917</td></tr><tr><td>batch/batch_step</td><td>521995</td></tr><tr><td>batch/cross entropy</td><td>0.13894</td></tr><tr><td>batch/f1_score</td><td>0.97093</td></tr><tr><td>batch/learning_rate</td><td>0.0001</td></tr><tr><td>batch/loss</td><td>0.13894</td></tr><tr><td>batch/prc</td><td>0.99419</td></tr><tr><td>batch/precision</td><td>0.95142</td></tr><tr><td>batch/recall</td><td>0.99151</td></tr><tr><td>epoch/accuracy</td><td>0.94625</td></tr><tr><td>epoch/auc</td><td>0.94918</td></tr><tr><td>epoch/cross entropy</td><td>0.13895</td></tr><tr><td>epoch/epoch</td><td>99</td></tr><tr><td>epoch/f1_score</td><td>0.97092</td></tr><tr><td>epoch/learning_rate</td><td>0.0001</td></tr><tr><td>epoch/loss</td><td>0.13895</td></tr><tr><td>epoch/prc</td><td>0.99419</td></tr><tr><td>epoch/precision</td><td>0.95142</td></tr><tr><td>epoch/recall</td><td>0.99151</td></tr><tr><td>epoch/val_accuracy</td><td>0.92233</td></tr><tr><td>epoch/val_auc</td><td>0.9074</td></tr><tr><td>epoch/val_cross entropy</td><td>0.17088</td></tr><tr><td>epoch/val_f1_score</td><td>0.95863</td></tr><tr><td>epoch/val_loss</td><td>0.17088</td></tr><tr><td>epoch/val_prc</td><td>0.99599</td></tr><tr><td>epoch/val_precision</td><td>0.97937</td></tr><tr><td>epoch/val_recall</td><td>0.93906</td></tr></table><br/></div></div>"
      ],
      "text/plain": [
       "<IPython.core.display.HTML object>"
      ]
     },
     "metadata": {},
     "output_type": "display_data"
    },
    {
     "data": {
      "text/html": [
       " View run <strong style=\"color:#cdcd00\">fearless-surf-24</strong> at: <a href='https://wandb.ai/bromptonhealthpcn/ShowUp%20NEW%20DATA/runs/zlc7fwj3' target=\"_blank\">https://wandb.ai/bromptonhealthpcn/ShowUp%20NEW%20DATA/runs/zlc7fwj3</a><br/> View job at <a href='https://wandb.ai/bromptonhealthpcn/ShowUp%20NEW%20DATA/jobs/QXJ0aWZhY3RDb2xsZWN0aW9uOjk2MTIzMzEx/version_details/v7' target=\"_blank\">https://wandb.ai/bromptonhealthpcn/ShowUp%20NEW%20DATA/jobs/QXJ0aWZhY3RDb2xsZWN0aW9uOjk2MTIzMzEx/version_details/v7</a><br/>Synced 5 W&B file(s), 0 media file(s), 400 artifact file(s) and 0 other file(s)"
      ],
      "text/plain": [
       "<IPython.core.display.HTML object>"
      ]
     },
     "metadata": {},
     "output_type": "display_data"
    },
    {
     "data": {
      "text/html": [
       "Find logs at: <code>./wandb/run-20230909_145342-zlc7fwj3/logs</code>"
      ],
      "text/plain": [
       "<IPython.core.display.HTML object>"
      ]
     },
     "metadata": {},
     "output_type": "display_data"
    }
   ],
   "source": [
    "wandb.finish()\n"
   ]
  },
  {
   "cell_type": "code",
   "execution_count": null,
   "id": "f18051cf",
   "metadata": {
    "ExecuteTime": {
     "end_time": "2023-07-31T07:06:38.797653Z",
     "start_time": "2023-07-31T07:06:38.136164Z"
    }
   },
   "outputs": [],
   "source": [
    "plot_loss_precision_recall_curve(history)\n",
    "print(\"Show Up for Health\")"
   ]
  },
  {
   "cell_type": "markdown",
   "id": "319072db",
   "metadata": {},
   "source": [
    "# Score model on unseen dataset"
   ]
  },
  {
   "cell_type": "code",
   "execution_count": 47,
   "id": "f05ce418",
   "metadata": {
    "ExecuteTime": {
     "end_time": "2023-07-31T06:43:31.716520Z",
     "start_time": "2023-07-31T06:43:29.929511Z"
    }
   },
   "outputs": [
    {
     "name": "stdout",
     "output_type": "stream",
     "text": [
      "2818/2818 [==============================] - 1s 244us/step\n"
     ]
    },
    {
     "data": {
      "text/plain": [
       "array([[1.],\n",
       "       [1.],\n",
       "       [1.],\n",
       "       ...,\n",
       "       [1.],\n",
       "       [1.],\n",
       "       [1.]], dtype=float32)"
      ]
     },
     "execution_count": 47,
     "metadata": {},
     "output_type": "execute_result"
    }
   ],
   "source": [
    "trained_model.predict(X_test_scaled)"
   ]
  },
  {
   "cell_type": "code",
   "execution_count": 49,
   "id": "13f0e42c",
   "metadata": {
    "ExecuteTime": {
     "end_time": "2023-07-31T06:43:36.488663Z",
     "start_time": "2023-07-31T06:43:35.792344Z"
    }
   },
   "outputs": [
    {
     "data": {
      "text/plain": [
       "{'loss': 798.5171508789062, 'accuracy': 0.9608217477798462}"
      ]
     },
     "execution_count": 49,
     "metadata": {},
     "output_type": "execute_result"
    }
   ],
   "source": [
    "trained_model.evaluate(X_test_scaled, y_test, verbose=0, return_dict=True)"
   ]
  },
  {
   "cell_type": "code",
   "execution_count": 64,
   "id": "fb7da8f9",
   "metadata": {},
   "outputs": [],
   "source": [
    "from datetime import datetime\n",
    "\n",
    "now = datetime.now()\n",
    "datetime_string = now.strftime(\"%Y-%m-%d %H-%M-%S\")\n",
    "\n",
    "model.save(f'model_weights_{datetime_string}.h5')"
   ]
  },
  {
   "cell_type": "code",
   "execution_count": 65,
   "id": "8d09994d",
   "metadata": {
    "ExecuteTime": {
     "end_time": "2023-07-31T06:43:54.615057Z",
     "start_time": "2023-07-31T06:43:53.912913Z"
    }
   },
   "outputs": [
    {
     "name": "stdout",
     "output_type": "stream",
     "text": [
      "2818/2818 [==============================] - 1s 312us/step\n"
     ]
    }
   ],
   "source": [
    "y_pred_proba = model.predict(X_test_scaled)"
   ]
  },
  {
   "cell_type": "code",
   "execution_count": 66,
   "id": "576adafc",
   "metadata": {
    "ExecuteTime": {
     "end_time": "2023-07-31T06:44:02.554092Z",
     "start_time": "2023-07-31T06:44:02.464459Z"
    }
   },
   "outputs": [],
   "source": [
    "threshold = 0.50 # 50% \n",
    "\n",
    "y_pred_binary = np.where(y_pred_proba > threshold, 1, 0 )"
   ]
  },
  {
   "cell_type": "markdown",
   "id": "ad96876d",
   "metadata": {},
   "source": [
    "## Confusion Matrix"
   ]
  },
  {
   "cell_type": "code",
   "execution_count": 67,
   "id": "4786ff08",
   "metadata": {
    "ExecuteTime": {
     "end_time": "2023-07-31T06:44:06.263268Z",
     "start_time": "2023-07-31T06:44:06.160737Z"
    }
   },
   "outputs": [
    {
     "data": {
      "text/plain": [
       "array([[ 1777,  1755],\n",
       "       [ 5405, 81215]])"
      ]
     },
     "execution_count": 67,
     "metadata": {},
     "output_type": "execute_result"
    }
   ],
   "source": [
    "# Confusion Matrix\n",
    "cm = confusion_matrix(y_test,y_pred_binary)\n",
    "cm"
   ]
  },
  {
   "cell_type": "code",
   "execution_count": 68,
   "id": "32ebe0c4",
   "metadata": {
    "ExecuteTime": {
     "end_time": "2023-07-31T06:44:08.332607Z",
     "start_time": "2023-07-31T06:44:08.137717Z"
    }
   },
   "outputs": [
    {
     "data": {
      "text/plain": [
       "Text(0.5, 25.722222222222214, 'Predicted label')"
      ]
     },
     "execution_count": 68,
     "metadata": {},
     "output_type": "execute_result"
    },
    {
     "data": {
      "image/png": "[encoded data removed]",
      "text/plain": [
       "<Figure size 500x500 with 2 Axes>"
      ]
     },
     "metadata": {
      "image/png": {
       "height": 469,
       "width": 466
      }
     },
     "output_type": "display_data"
    }
   ],
   "source": [
    "plt.figure(figsize=(5,5))\n",
    "sns.heatmap(cm, annot=True, fmt=\"d\")\n",
    "plt.title('Confusion matrix')\n",
    "plt.ylabel('Actual label')\n",
    "plt.xlabel('Predicted label')"
   ]
  },
  {
   "cell_type": "code",
   "execution_count": 69,
   "id": "6b4d8189",
   "metadata": {
    "ExecuteTime": {
     "end_time": "2023-07-31T06:44:33.862657Z",
     "start_time": "2023-07-31T06:44:33.712813Z"
    }
   },
   "outputs": [
    {
     "name": "stdout",
     "output_type": "stream",
     "text": [
      "              precision    recall  f1-score   support\n",
      "\n",
      "           0       0.25      0.50      0.33      3532\n",
      "           1       0.98      0.94      0.96     86620\n",
      "\n",
      "    accuracy                           0.92     90152\n",
      "   macro avg       0.61      0.72      0.64     90152\n",
      "weighted avg       0.95      0.92      0.93     90152\n",
      "\n"
     ]
    }
   ],
   "source": [
    "from sklearn.metrics import classification_report\n",
    "print(classification_report(y_test,y_pred_binary))"
   ]
  },
  {
   "cell_type": "code",
   "execution_count": 70,
   "id": "144d1b78",
   "metadata": {
    "ExecuteTime": {
     "end_time": "2023-07-31T06:44:35.437489Z",
     "start_time": "2023-07-31T06:44:35.356271Z"
    }
   },
   "outputs": [],
   "source": [
    "from sklearn.metrics import precision_recall_curve\n",
    "\n",
    "def plot_prc(name, labels, predictions, **kwargs):\n",
    "    precision, recall, _ = precision_recall_curve(labels, predictions)\n",
    "    plt.plot(recall, precision, label=name, linewidth=2, **kwargs)\n",
    "    plt.xlabel('Recall')\n",
    "    plt.ylabel('Precision')\n",
    "    plt.grid(True)\n",
    "    ax = plt.gca()\n",
    "    ax.set_aspect('equal')"
   ]
  },
  {
   "cell_type": "code",
   "execution_count": 71,
   "id": "248c01fd",
   "metadata": {
    "ExecuteTime": {
     "end_time": "2023-07-31T06:44:36.687973Z",
     "start_time": "2023-07-31T06:44:36.527403Z"
    }
   },
   "outputs": [
    {
     "data": {
      "text/plain": [
       "<matplotlib.legend.Legend at 0x33fc30340>"
      ]
     },
     "execution_count": 71,
     "metadata": {},
     "output_type": "execute_result"
    },
    {
     "data": {
      "image/png": "[encoded data removed]",
      "text/plain": [
       "<Figure size 640x480 with 1 Axes>"
      ]
     },
     "metadata": {
      "image/png": {
       "height": 95,
       "width": 585
      }
     },
     "output_type": "display_data"
    }
   ],
   "source": [
    "plot_prc(\"Test\", y_test, y_pred_proba, linestyle='--')\n",
    "plt.legend(loc='lower right')"
   ]
  },
  {
   "cell_type": "code",
   "execution_count": null,
   "id": "ba50b547",
   "metadata": {},
   "outputs": [],
   "source": []
  },
  {
   "cell_type": "code",
   "execution_count": null,
   "id": "5a17f082",
   "metadata": {},
   "outputs": [],
   "source": []
  }
 ],
 "metadata": {
  "kernelspec": {
   "display_name": "Python 3 (ipykernel)",
   "language": "python",
   "name": "python3"
  },
  "language_info": {
   "codemirror_mode": {
    "name": "ipython",
    "version": 3
   },
   "file_extension": ".py",
   "mimetype": "text/x-python",
   "name": "python",
   "nbconvert_exporter": "python",
   "pygments_lexer": "ipython3",
   "version": "3.10.6"
  },
  "toc": {
   "base_numbering": 1,
   "nav_menu": {},
   "number_sections": true,
   "sideBar": true,
   "skip_h1_title": false,
   "title_cell": "Table of Contents",
   "title_sidebar": "Contents",
   "toc_cell": false,
   "toc_position": {},
   "toc_section_display": true,
   "toc_window_display": false
  }
 },
 "nbformat": 4,
 "nbformat_minor": 5
}

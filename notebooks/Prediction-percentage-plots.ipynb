{
 "cells": [
  {
   "cell_type": "code",
   "execution_count": 1,
   "id": "f575e0a5",
   "metadata": {},
   "outputs": [],
   "source": [
    "import pandas as pd \n",
    "import seaborn as sns\n",
    "import matplotlib.pyplot as plt\n"
   ]
  },
  {
   "cell_type": "code",
   "execution_count": 54,
   "id": "843712ee",
   "metadata": {},
   "outputs": [],
   "source": [
    "data = {\n",
    "    'Surgery': ['ECS', 'TGP', 'TCP', 'SMW', 'HPVM', 'KMC'],\n",
    "    'Predicted No Show': [23, 5, 13, 11, 25, 0],\n",
    "    'Correct': [1, 2, 3, 3, 7, 0],\n",
    "    '% Correct': [4.5, 40, 23.1, 27.3, 28, 10],\n",
    "}\n",
    "\n",
    "df = pd.DataFrame(data)"
   ]
  },
  {
   "cell_type": "code",
   "execution_count": 55,
   "id": "67117bdb",
   "metadata": {},
   "outputs": [
    {
     "data": {
      "text/html": [
       "<div>\n",
       "<style scoped>\n",
       "    .dataframe tbody tr th:only-of-type {\n",
       "        vertical-align: middle;\n",
       "    }\n",
       "\n",
       "    .dataframe tbody tr th {\n",
       "        vertical-align: top;\n",
       "    }\n",
       "\n",
       "    .dataframe thead th {\n",
       "        text-align: right;\n",
       "    }\n",
       "</style>\n",
       "<table border=\"1\" class=\"dataframe\">\n",
       "  <thead>\n",
       "    <tr style=\"text-align: right;\">\n",
       "      <th></th>\n",
       "      <th>Surgery</th>\n",
       "      <th>Predicted No Show</th>\n",
       "      <th>Correct</th>\n",
       "      <th>% Correct</th>\n",
       "    </tr>\n",
       "  </thead>\n",
       "  <tbody>\n",
       "    <tr>\n",
       "      <th>0</th>\n",
       "      <td>ECS</td>\n",
       "      <td>23</td>\n",
       "      <td>1</td>\n",
       "      <td>4.5</td>\n",
       "    </tr>\n",
       "    <tr>\n",
       "      <th>1</th>\n",
       "      <td>TGP</td>\n",
       "      <td>5</td>\n",
       "      <td>2</td>\n",
       "      <td>40.0</td>\n",
       "    </tr>\n",
       "    <tr>\n",
       "      <th>2</th>\n",
       "      <td>TCP</td>\n",
       "      <td>13</td>\n",
       "      <td>3</td>\n",
       "      <td>23.1</td>\n",
       "    </tr>\n",
       "    <tr>\n",
       "      <th>3</th>\n",
       "      <td>SMW</td>\n",
       "      <td>11</td>\n",
       "      <td>3</td>\n",
       "      <td>27.3</td>\n",
       "    </tr>\n",
       "    <tr>\n",
       "      <th>4</th>\n",
       "      <td>HPVM</td>\n",
       "      <td>25</td>\n",
       "      <td>7</td>\n",
       "      <td>28.0</td>\n",
       "    </tr>\n",
       "    <tr>\n",
       "      <th>5</th>\n",
       "      <td>KMC</td>\n",
       "      <td>0</td>\n",
       "      <td>0</td>\n",
       "      <td>10.0</td>\n",
       "    </tr>\n",
       "  </tbody>\n",
       "</table>\n",
       "</div>"
      ],
      "text/plain": [
       "  Surgery  Predicted No Show  Correct  % Correct\n",
       "0     ECS                 23        1        4.5\n",
       "1     TGP                  5        2       40.0\n",
       "2     TCP                 13        3       23.1\n",
       "3     SMW                 11        3       27.3\n",
       "4    HPVM                 25        7       28.0\n",
       "5     KMC                  0        0       10.0"
      ]
     },
     "execution_count": 55,
     "metadata": {},
     "output_type": "execute_result"
    }
   ],
   "source": [
    "df"
   ]
  },
  {
   "cell_type": "code",
   "execution_count": 60,
   "id": "bab31313",
   "metadata": {},
   "outputs": [
    {
     "data": {
      "image/png": "[encoded data removed]",
      "text/plain": [
       "<Figure size 640x480 with 1 Axes>"
      ]
     },
     "metadata": {},
     "output_type": "display_data"
    }
   ],
   "source": [
    "# Create the barplot\n",
    "sns.barplot(data=df, x='% Correct', y='Surgery', color='#284774')\n",
    "plt.grid(axis='x', visible=True, linewidth=0.25, color='#878787')\n",
    "\n",
    "# Hide top, left, and right spines\n",
    "ax = plt.gca()  # Get the current Axes instance\n",
    "ax.spines['top'].set_visible(False)\n",
    "ax.spines['right'].set_visible(False)\n",
    "ax.spines['left'].set_visible(False)\n",
    "plt.title(\"% `No Shows` Correctly Predicted - Threshold 0.5\")\n",
    "plt.xticks([0,5,10,15,20,25,30,35,40])\n",
    "plt.show()"
   ]
  },
  {
   "cell_type": "code",
   "execution_count": 123,
   "id": "701bf95b",
   "metadata": {},
   "outputs": [],
   "source": [
    "data2 = {\n",
    "    'Surgery': ['ECS', 'TGP', 'TCP', 'SMW', 'HPVM', 'KMC'],\n",
    "    'Predicted No Show': [23, 5, 13, 11, 25, 0],\n",
    "    'Correct': [1, 2, 3, 3, 7, 0],\n",
    "    '% Correct': [8.6, 29.1, 14.9, 15, 28.6 ,10],\n",
    "}\n",
    "\n",
    "df2 = pd.DataFrame(data2)"
   ]
  },
  {
   "cell_type": "code",
   "execution_count": 124,
   "id": "cc52d9f7",
   "metadata": {},
   "outputs": [
    {
     "data": {
      "text/html": [
       "<div>\n",
       "<style scoped>\n",
       "    .dataframe tbody tr th:only-of-type {\n",
       "        vertical-align: middle;\n",
       "    }\n",
       "\n",
       "    .dataframe tbody tr th {\n",
       "        vertical-align: top;\n",
       "    }\n",
       "\n",
       "    .dataframe thead th {\n",
       "        text-align: right;\n",
       "    }\n",
       "</style>\n",
       "<table border=\"1\" class=\"dataframe\">\n",
       "  <thead>\n",
       "    <tr style=\"text-align: right;\">\n",
       "      <th></th>\n",
       "      <th>index</th>\n",
       "      <th>Surgery</th>\n",
       "      <th>Predicted No Show</th>\n",
       "      <th>Correct</th>\n",
       "      <th>% Correct</th>\n",
       "    </tr>\n",
       "  </thead>\n",
       "  <tbody>\n",
       "    <tr>\n",
       "      <th>0</th>\n",
       "      <td>0</td>\n",
       "      <td>ECS</td>\n",
       "      <td>23</td>\n",
       "      <td>1</td>\n",
       "      <td>8.6</td>\n",
       "    </tr>\n",
       "    <tr>\n",
       "      <th>1</th>\n",
       "      <td>1</td>\n",
       "      <td>TGP</td>\n",
       "      <td>5</td>\n",
       "      <td>2</td>\n",
       "      <td>29.1</td>\n",
       "    </tr>\n",
       "    <tr>\n",
       "      <th>2</th>\n",
       "      <td>2</td>\n",
       "      <td>TCP</td>\n",
       "      <td>13</td>\n",
       "      <td>3</td>\n",
       "      <td>14.9</td>\n",
       "    </tr>\n",
       "    <tr>\n",
       "      <th>3</th>\n",
       "      <td>3</td>\n",
       "      <td>SMW</td>\n",
       "      <td>11</td>\n",
       "      <td>3</td>\n",
       "      <td>15.0</td>\n",
       "    </tr>\n",
       "    <tr>\n",
       "      <th>4</th>\n",
       "      <td>4</td>\n",
       "      <td>HPVM</td>\n",
       "      <td>25</td>\n",
       "      <td>7</td>\n",
       "      <td>28.6</td>\n",
       "    </tr>\n",
       "    <tr>\n",
       "      <th>5</th>\n",
       "      <td>5</td>\n",
       "      <td>KMC</td>\n",
       "      <td>0</td>\n",
       "      <td>0</td>\n",
       "      <td>10.0</td>\n",
       "    </tr>\n",
       "  </tbody>\n",
       "</table>\n",
       "</div>"
      ],
      "text/plain": [
       "   index Surgery  Predicted No Show  Correct  % Correct\n",
       "0      0     ECS                 23        1        8.6\n",
       "1      1     TGP                  5        2       29.1\n",
       "2      2     TCP                 13        3       14.9\n",
       "3      3     SMW                 11        3       15.0\n",
       "4      4    HPVM                 25        7       28.6\n",
       "5      5     KMC                  0        0       10.0"
      ]
     },
     "execution_count": 124,
     "metadata": {},
     "output_type": "execute_result"
    }
   ],
   "source": [
    "df2.reset_index()"
   ]
  },
  {
   "cell_type": "code",
   "execution_count": 68,
   "id": "a7f1469c",
   "metadata": {},
   "outputs": [
    {
     "data": {
      "image/png": "[encoded data removed]",
      "text/plain": [
       "<Figure size 640x480 with 1 Axes>"
      ]
     },
     "metadata": {},
     "output_type": "display_data"
    }
   ],
   "source": [
    "# Create the barplot\n",
    "sns.barplot(data=df2, x='% Correct', y='Surgery', color='#749857')\n",
    "plt.grid(axis='x', visible=True, linewidth=0.25, color='#878787')\n",
    "\n",
    "# Hide top, left, and right spines\n",
    "ax = plt.gca()  # Get the current Axes instance\n",
    "ax.spines['top'].set_visible(False)\n",
    "ax.spines['right'].set_visible(False)\n",
    "ax.spines['left'].set_visible(False)\n",
    "plt.title(\"% `No Shows` Correctly Predicted - Threshold 0.6\")\n",
    "plt.xticks([0,5,10,15,20,25,30,35,40])\n",
    "\n",
    "\n",
    "plt.show()\n"
   ]
  },
  {
   "cell_type": "code",
   "execution_count": 85,
   "id": "93fd9b84",
   "metadata": {},
   "outputs": [],
   "source": [
    "data3 = {\n",
    "    'DNAs': [16, 38, 62],\n",
    "    'No to Contact': [77, 220, 519],\n",
    "}\n",
    "\n",
    "df3 = pd.DataFrame(data3)"
   ]
  },
  {
   "cell_type": "code",
   "execution_count": 86,
   "id": "9c47dd51",
   "metadata": {},
   "outputs": [
    {
     "data": {
      "text/html": [
       "<div>\n",
       "<style scoped>\n",
       "    .dataframe tbody tr th:only-of-type {\n",
       "        vertical-align: middle;\n",
       "    }\n",
       "\n",
       "    .dataframe tbody tr th {\n",
       "        vertical-align: top;\n",
       "    }\n",
       "\n",
       "    .dataframe thead th {\n",
       "        text-align: right;\n",
       "    }\n",
       "</style>\n",
       "<table border=\"1\" class=\"dataframe\">\n",
       "  <thead>\n",
       "    <tr style=\"text-align: right;\">\n",
       "      <th></th>\n",
       "      <th>DNAs</th>\n",
       "      <th>No to Contact</th>\n",
       "    </tr>\n",
       "  </thead>\n",
       "  <tbody>\n",
       "    <tr>\n",
       "      <th>0</th>\n",
       "      <td>16</td>\n",
       "      <td>77</td>\n",
       "    </tr>\n",
       "    <tr>\n",
       "      <th>1</th>\n",
       "      <td>38</td>\n",
       "      <td>220</td>\n",
       "    </tr>\n",
       "    <tr>\n",
       "      <th>2</th>\n",
       "      <td>62</td>\n",
       "      <td>519</td>\n",
       "    </tr>\n",
       "  </tbody>\n",
       "</table>\n",
       "</div>"
      ],
      "text/plain": [
       "   DNAs  No to Contact\n",
       "0    16             77\n",
       "1    38            220\n",
       "2    62            519"
      ]
     },
     "execution_count": 86,
     "metadata": {},
     "output_type": "execute_result"
    }
   ],
   "source": [
    "df3"
   ]
  },
  {
   "cell_type": "code",
   "execution_count": 2,
   "id": "81b0c7e7",
   "metadata": {},
   "outputs": [
    {
     "data": {
      "image/png": "[encoded data removed]",
      "text/plain": [
       "<Figure size 640x480 with 1 Axes>"
      ]
     },
     "metadata": {},
     "output_type": "display_data"
    }
   ],
   "source": [
    "import pandas as pd\n",
    "import seaborn as sns\n",
    "import matplotlib.pyplot as plt\n",
    "\n",
    "# Your data\n",
    "data3 = {\n",
    "  'Correctly Predicted DNAs': [29, 70, 97],\n",
    "  'Total Predicted DNAs': [77, 220, 519], \n",
    "    'Percentage': [37.5, 32, 19], \n",
    "\n",
    "}\n",
    "\n",
    "df3 = pd.DataFrame(data3)\n",
    "\n",
    "# Create the lineplot\n",
    "sns.lineplot(data=df3, palette=[\"#284774\", \"#749857\", \"#ec8b33\"], linewidth=2) \n",
    "\n",
    "# Add grid  \n",
    "plt.grid(axis='both', visible=True, linewidth=0.25, color='#878787')\n",
    "\n",
    "# Add y-ticks\n",
    "plt.yticks([0,50,100,200,300,400,500])\n",
    "plt.xticks([0, 1, 2], ['Threshold 0.5', 'Threshold 0.6', 'Threshold 0.7'])\n",
    "\n",
    "# Add title and labels  \n",
    "plt.title(\"Anverages for 5 Surgeries\")\n",
    "plt.ylabel(\"Value\")\n",
    "\n",
    "# Annotate specific points (for the 'DNAs' line)\n",
    "for i, value in enumerate(df3['Correctly Predicted DNAs']):\n",
    "  plt.annotate(f\"{value}\", (i, value), textcoords=\"offset points\", xytext=(0,10), ha='center')\n",
    "\n",
    "# Annotate specific points (for the 'No to Contact' line)  \n",
    "for i, value in enumerate(df3['Total Predicted DNAs']):\n",
    "  plt.annotate(f\"{value}\", (i, value), textcoords=\"offset points\", xytext=(0,10), ha='center')\n",
    "\n",
    "# Annotate specific points (for the 'No to Contact' line)  \n",
    "for i, value in enumerate(df3['Percentage']):\n",
    "  plt.annotate(f\"{value}\", (i, value), textcoords=\"offset points\", xytext=(0,-12), ha='center')\n",
    "\n",
    "# Custom text annotation\n",
    "plt.annotate('Noteworthy', xy=(1, 220), xytext=(0.5, 300),\n",
    "             arrowprops=dict(facecolor='#c5c5c5', arrowstyle='->'),\n",
    "             fontsize=10)\n",
    "ax = plt.gca()  # Get the current Axes instance\n",
    "ax.spines['top'].set_visible(False)\n",
    "ax.spines['right'].set_visible(False)\n",
    "ax.spines['left'].set_visible(False)\n",
    "ax.spines['bottom'].set_visible(False)\n",
    "plt.show()"
   ]
  },
  {
   "cell_type": "code",
   "execution_count": null,
   "id": "f20c376e",
   "metadata": {},
   "outputs": [],
   "source": []
  },
  {
   "cell_type": "code",
   "execution_count": 5,
   "id": "6cd70db3",
   "metadata": {},
   "outputs": [
    {
     "ename": "IndentationError",
     "evalue": "unexpected indent (771064232.py, line 3)",
     "output_type": "error",
     "traceback": [
      "\u001b[0;36m  Cell \u001b[0;32mIn[5], line 3\u001b[0;36m\u001b[0m\n\u001b[0;31m    plt.plot(log_resampled[\"Event\"], color=\"#d37f00\", linewidth=1)\u001b[0m\n\u001b[0m    ^\u001b[0m\n\u001b[0;31mIndentationError\u001b[0m\u001b[0;31m:\u001b[0m unexpected indent\n"
     ]
    }
   ],
   "source": [
    "plt.figure(figsize=(18, 3))\n",
    "        # Plot the resampled dataframe\n",
    "        plt.plot(log_resampled[\"Event\"], color=\"#d37f00\", linewidth=1)\n",
    "        # Set the title, x-label and y-label\n",
    "        plt.gca().set_title(\n",
    "            \"AutoNote Activity - Hourly Activity\",\n",
    "            loc=\"left\",\n",
    "            fontsize=14,\n",
    "            y=0.95,\n",
    "            x=0.03,\n",
    "            color=\"#786d67\",\n",
    "        )\n",
    "        plt.gca().yaxis.grid(\n",
    "            True, linestyle=\"-\", linewidth=0.5, alpha=0.5, color=\"#acaaa4\"\n",
    "        )\n",
    "        plt.gca().xaxis.grid(False)\n",
    "        plt.gca().spines[\"left\"].set_visible(False)\n",
    "        plt.gca().spines[\"top\"].set_visible(False)\n",
    "        plt.gca().spines[\"right\"].set_visible(False)\n",
    "        plt.gca().spines[\"bottom\"].set_visible(True)\n",
    "        plt.gca().yaxis.set_ticks_position(\"none\")\n",
    "        plt.gca().xaxis.set_ticks_position(\"bottom\")\n",
    "        plt.gca().set_xlabel(\"\", fontsize=12, color=\"#acaaa4\")\n",
    "        # Set x-axis label rotation\n",
    "        plt.xticks(color=\"#acaaa4\", fontsize=9)\n",
    "        plt.yticks(color=\"#acaaa4\", fontsize=12, fontweight=700, x=1.045)\n",
    "        # Display the plot\n",
    "        return plt.show()\n"
   ]
  },
  {
   "cell_type": "code",
   "execution_count": 157,
   "id": "1fe7dba4",
   "metadata": {},
   "outputs": [
    {
     "data": {
      "image/png": "[encoded data removed]",
      "text/plain": [
       "<Figure size 1000x600 with 2 Axes>"
      ]
     },
     "metadata": {},
     "output_type": "display_data"
    }
   ],
   "source": [
    "import matplotlib.pyplot as plt\n",
    "import seaborn as sns\n",
    "\n",
    "# Data\n",
    "surgery_types = [\"ECS\", \"TGP\", \"TCP\", \"SMW\", \"HPVM\"]\n",
    "thresholds = [0.5, 0.6, 0.7]\n",
    "\n",
    "# Percentage Correct values\n",
    "values = [\n",
    "    [9, 12, 11.6],\n",
    "    [40.0, 42, 23.4],\n",
    "    [61.5, 36.5, 18.9],\n",
    "    [27.3, 20, 15.2],\n",
    "    [56, 54, 30]\n",
    "]\n",
    "\n",
    "# Create heatmap\n",
    "plt.figure(figsize=(10,6))\n",
    "sns.heatmap(values, annot=True, cmap='Blues', xticklabels=thresholds, yticklabels=surgery_types, fmt=\".2f\", cbar_kws={'label': '% Correct'})\n",
    "plt.title('Predictive Accuracy for `No Shows` Across Thresholds')\n",
    "plt.xlabel('Threshold')\n",
    "plt.ylabel('Surgery')\n",
    "plt.show()"
   ]
  },
  {
   "cell_type": "code",
   "execution_count": 125,
   "id": "0d89b25a",
   "metadata": {},
   "outputs": [],
   "source": [
    "data3 = {\n",
    "    'App Date': ['21/9', '22/9', '23/9'],\n",
    "    'Pt ID': [77, 220, 519],\n",
    "}\n",
    "\n",
    "df3 = pd.DataFrame(data3)"
   ]
  },
  {
   "cell_type": "code",
   "execution_count": 126,
   "id": "39eb15b7",
   "metadata": {},
   "outputs": [
    {
     "data": {
      "text/html": [
       "<div>\n",
       "<style scoped>\n",
       "    .dataframe tbody tr th:only-of-type {\n",
       "        vertical-align: middle;\n",
       "    }\n",
       "\n",
       "    .dataframe tbody tr th {\n",
       "        vertical-align: top;\n",
       "    }\n",
       "\n",
       "    .dataframe thead th {\n",
       "        text-align: right;\n",
       "    }\n",
       "</style>\n",
       "<table border=\"1\" class=\"dataframe\">\n",
       "  <thead>\n",
       "    <tr style=\"text-align: right;\">\n",
       "      <th></th>\n",
       "      <th>App Date</th>\n",
       "      <th>Pt ID</th>\n",
       "    </tr>\n",
       "  </thead>\n",
       "  <tbody>\n",
       "    <tr>\n",
       "      <th>0</th>\n",
       "      <td>21/9</td>\n",
       "      <td>77</td>\n",
       "    </tr>\n",
       "    <tr>\n",
       "      <th>1</th>\n",
       "      <td>22/9</td>\n",
       "      <td>220</td>\n",
       "    </tr>\n",
       "    <tr>\n",
       "      <th>2</th>\n",
       "      <td>23/9</td>\n",
       "      <td>519</td>\n",
       "    </tr>\n",
       "  </tbody>\n",
       "</table>\n",
       "</div>"
      ],
      "text/plain": [
       "  App Date  Pt ID\n",
       "0     21/9     77\n",
       "1     22/9    220\n",
       "2     23/9    519"
      ]
     },
     "execution_count": 126,
     "metadata": {},
     "output_type": "execute_result"
    }
   ],
   "source": [
    "df3"
   ]
  },
  {
   "cell_type": "code",
   "execution_count": 127,
   "id": "87233d0c",
   "metadata": {},
   "outputs": [],
   "source": [
    "df3.reset_index(inplace=True)"
   ]
  },
  {
   "cell_type": "code",
   "execution_count": 128,
   "id": "482be75b",
   "metadata": {},
   "outputs": [
    {
     "data": {
      "text/html": [
       "<div>\n",
       "<style scoped>\n",
       "    .dataframe tbody tr th:only-of-type {\n",
       "        vertical-align: middle;\n",
       "    }\n",
       "\n",
       "    .dataframe tbody tr th {\n",
       "        vertical-align: top;\n",
       "    }\n",
       "\n",
       "    .dataframe thead th {\n",
       "        text-align: right;\n",
       "    }\n",
       "</style>\n",
       "<table border=\"1\" class=\"dataframe\">\n",
       "  <thead>\n",
       "    <tr style=\"text-align: right;\">\n",
       "      <th></th>\n",
       "      <th>index</th>\n",
       "      <th>App Date</th>\n",
       "      <th>Pt ID</th>\n",
       "    </tr>\n",
       "  </thead>\n",
       "  <tbody>\n",
       "    <tr>\n",
       "      <th>0</th>\n",
       "      <td>0</td>\n",
       "      <td>21/9</td>\n",
       "      <td>77</td>\n",
       "    </tr>\n",
       "    <tr>\n",
       "      <th>1</th>\n",
       "      <td>1</td>\n",
       "      <td>22/9</td>\n",
       "      <td>220</td>\n",
       "    </tr>\n",
       "    <tr>\n",
       "      <th>2</th>\n",
       "      <td>2</td>\n",
       "      <td>23/9</td>\n",
       "      <td>519</td>\n",
       "    </tr>\n",
       "  </tbody>\n",
       "</table>\n",
       "</div>"
      ],
      "text/plain": [
       "   index App Date  Pt ID\n",
       "0      0     21/9     77\n",
       "1      1     22/9    220\n",
       "2      2     23/9    519"
      ]
     },
     "execution_count": 128,
     "metadata": {},
     "output_type": "execute_result"
    }
   ],
   "source": [
    "df3"
   ]
  },
  {
   "cell_type": "code",
   "execution_count": 129,
   "id": "8a8d088b",
   "metadata": {},
   "outputs": [],
   "source": [
    "pt_id = df3[['index', 'Pt ID']]"
   ]
  },
  {
   "cell_type": "code",
   "execution_count": 130,
   "id": "698fabed",
   "metadata": {},
   "outputs": [
    {
     "data": {
      "text/html": [
       "<div>\n",
       "<style scoped>\n",
       "    .dataframe tbody tr th:only-of-type {\n",
       "        vertical-align: middle;\n",
       "    }\n",
       "\n",
       "    .dataframe tbody tr th {\n",
       "        vertical-align: top;\n",
       "    }\n",
       "\n",
       "    .dataframe thead th {\n",
       "        text-align: right;\n",
       "    }\n",
       "</style>\n",
       "<table border=\"1\" class=\"dataframe\">\n",
       "  <thead>\n",
       "    <tr style=\"text-align: right;\">\n",
       "      <th></th>\n",
       "      <th>index</th>\n",
       "      <th>Pt ID</th>\n",
       "    </tr>\n",
       "  </thead>\n",
       "  <tbody>\n",
       "    <tr>\n",
       "      <th>0</th>\n",
       "      <td>0</td>\n",
       "      <td>77</td>\n",
       "    </tr>\n",
       "    <tr>\n",
       "      <th>1</th>\n",
       "      <td>1</td>\n",
       "      <td>220</td>\n",
       "    </tr>\n",
       "    <tr>\n",
       "      <th>2</th>\n",
       "      <td>2</td>\n",
       "      <td>519</td>\n",
       "    </tr>\n",
       "  </tbody>\n",
       "</table>\n",
       "</div>"
      ],
      "text/plain": [
       "   index  Pt ID\n",
       "0      0     77\n",
       "1      1    220\n",
       "2      2    519"
      ]
     },
     "execution_count": 130,
     "metadata": {},
     "output_type": "execute_result"
    }
   ],
   "source": [
    "pt_id.drop_duplicates()"
   ]
  },
  {
   "cell_type": "code",
   "execution_count": 7,
   "id": "5ceee5bb",
   "metadata": {},
   "outputs": [
    {
     "data": {
      "text/html": [
       "<div>\n",
       "<style scoped>\n",
       "    .dataframe tbody tr th:only-of-type {\n",
       "        vertical-align: middle;\n",
       "    }\n",
       "\n",
       "    .dataframe tbody tr th {\n",
       "        vertical-align: top;\n",
       "    }\n",
       "\n",
       "    .dataframe thead th {\n",
       "        text-align: right;\n",
       "    }\n",
       "</style>\n",
       "<table border=\"1\" class=\"dataframe\">\n",
       "  <thead>\n",
       "    <tr style=\"text-align: right;\">\n",
       "      <th></th>\n",
       "      <th>A</th>\n",
       "      <th>B</th>\n",
       "    </tr>\n",
       "  </thead>\n",
       "  <tbody>\n",
       "    <tr>\n",
       "      <th>0</th>\n",
       "      <td>1</td>\n",
       "      <td>4</td>\n",
       "    </tr>\n",
       "    <tr>\n",
       "      <th>3</th>\n",
       "      <td>3</td>\n",
       "      <td>6</td>\n",
       "    </tr>\n",
       "  </tbody>\n",
       "</table>\n",
       "</div>"
      ],
      "text/plain": [
       "   A  B\n",
       "0  1  4\n",
       "3  3  6"
      ]
     },
     "execution_count": 7,
     "metadata": {},
     "output_type": "execute_result"
    }
   ],
   "source": [
    "import pandas as pd\n",
    "\n",
    "df = pd.DataFrame({'A': [1, 2, 2, 3], 'B': [4, 5, 5, 6]}) \n",
    "\n",
    "df.drop_duplicates(keep=False)"
   ]
  },
  {
   "cell_type": "code",
   "execution_count": null,
   "id": "5bb9052c",
   "metadata": {},
   "outputs": [],
   "source": []
  }
 ],
 "metadata": {
  "kernelspec": {
   "display_name": "Python 3 (ipykernel)",
   "language": "python",
   "name": "python3"
  },
  "language_info": {
   "codemirror_mode": {
    "name": "ipython",
    "version": 3
   },
   "file_extension": ".py",
   "mimetype": "text/x-python",
   "name": "python",
   "nbconvert_exporter": "python",
   "pygments_lexer": "ipython3",
   "version": "3.10.6"
  },
  "toc": {
   "base_numbering": 1,
   "nav_menu": {},
   "number_sections": true,
   "sideBar": true,
   "skip_h1_title": false,
   "title_cell": "Table of Contents",
   "title_sidebar": "Contents",
   "toc_cell": false,
   "toc_position": {},
   "toc_section_display": true,
   "toc_window_display": false
  }
 },
 "nbformat": 4,
 "nbformat_minor": 5
}

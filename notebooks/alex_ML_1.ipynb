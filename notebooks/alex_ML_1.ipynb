{
 "cells": [
  {
   "cell_type": "markdown",
   "id": "facdf608",
   "metadata": {},
   "source": [
    "### Imports and load the data"
   ]
  },
  {
   "cell_type": "code",
   "execution_count": 36,
   "id": "cac5d761",
   "metadata": {
    "scrolled": true
   },
   "outputs": [],
   "source": [
    "from showupforhealth.utils import perform_train_test_split, scale_df\n",
    "from sklearn.preprocessing import StandardScaler, MinMaxScaler\n",
    "from sklearn.model_selection import cross_val_score\n",
    "import matplotlib.pyplot as plt\n",
    "from sklearn.model_selection import cross_val_score\n",
    "import pandas as pd\n",
    "import numpy as np\n",
    "from imblearn.over_sampling import SMOTE\n",
    "pd.set_option('display.max_columns', 40)\n",
    "\n",
    "from sklearn.metrics import classification_report, confusion_matrix, f1_score\n",
    "from sklearn.model_selection import GridSearchCV"
   ]
  },
  {
   "cell_type": "markdown",
   "id": "b7d293eb",
   "metadata": {},
   "source": [
    "# DL model with UNBALANCED data"
   ]
  },
  {
   "cell_type": "markdown",
   "id": "ea3e7d93",
   "metadata": {},
   "source": [
    "### Load and shuffle the data"
   ]
  },
  {
   "cell_type": "code",
   "execution_count": 2,
   "id": "ac37abab",
   "metadata": {},
   "outputs": [],
   "source": [
    "data = pd.read_csv('/Users/alessio/code/janduplessis883/data-showup/data/output-data/full_train_data.csv')"
   ]
  },
  {
   "cell_type": "code",
   "execution_count": 3,
   "id": "29358acf",
   "metadata": {},
   "outputs": [
    {
     "data": {
      "text/plain": [
       "0    571356\n",
       "2    330086\n",
       "1        52\n",
       "3        22\n",
       "Name: Sex, dtype: int64"
      ]
     },
     "execution_count": 3,
     "metadata": {},
     "output_type": "execute_result"
    }
   ],
   "source": [
    "data['Sex'].value_counts()"
   ]
  },
  {
   "cell_type": "code",
   "execution_count": 4,
   "id": "b3b91245",
   "metadata": {},
   "outputs": [
    {
     "data": {
      "text/plain": [
       "0    571356\n",
       "2    330086\n",
       "3        22\n",
       "Name: Sex, dtype: int64"
      ]
     },
     "execution_count": 4,
     "metadata": {},
     "output_type": "execute_result"
    }
   ],
   "source": [
    "filt_sex_1 = (data['Sex'] != 1)\n",
    "data = data[filt_sex_1]\n",
    "data['Sex'].value_counts()"
   ]
  },
  {
   "cell_type": "code",
   "execution_count": 5,
   "id": "1cb86e27",
   "metadata": {},
   "outputs": [
    {
     "data": {
      "text/plain": [
       "0    571356\n",
       "2    330086\n",
       "Name: Sex, dtype: int64"
      ]
     },
     "execution_count": 5,
     "metadata": {},
     "output_type": "execute_result"
    }
   ],
   "source": [
    "filt_sex_2 = (data['Sex'] != 3)\n",
    "data = data[filt_sex_2]\n",
    "data['Sex'].value_counts()"
   ]
  },
  {
   "cell_type": "code",
   "execution_count": 23,
   "id": "630ced95",
   "metadata": {},
   "outputs": [],
   "source": [
    "data_dna = data[data['Appointment_status']==0][:2000]"
   ]
  },
  {
   "cell_type": "code",
   "execution_count": 24,
   "id": "ffb8d96d",
   "metadata": {},
   "outputs": [],
   "source": [
    "data_no_dna = data[data['Appointment_status']==1][:2000]"
   ]
  },
  {
   "cell_type": "code",
   "execution_count": 25,
   "id": "c231e4cb",
   "metadata": {},
   "outputs": [
    {
     "data": {
      "text/plain": [
       "0    2000\n",
       "1    2000\n",
       "Name: Appointment_status, dtype: int64"
      ]
     },
     "execution_count": 25,
     "metadata": {},
     "output_type": "execute_result"
    }
   ],
   "source": [
    "data_balanced = pd.concat([data_dna, data_no_dna]).sample(frac = 1)\n",
    "data_balanced['Appointment_status'].value_counts()"
   ]
  },
  {
   "cell_type": "code",
   "execution_count": 26,
   "id": "cb46d354",
   "metadata": {},
   "outputs": [
    {
     "data": {
      "text/html": [
       "<div>\n",
       "<style scoped>\n",
       "    .dataframe tbody tr th:only-of-type {\n",
       "        vertical-align: middle;\n",
       "    }\n",
       "\n",
       "    .dataframe tbody tr th {\n",
       "        vertical-align: top;\n",
       "    }\n",
       "\n",
       "    .dataframe thead th {\n",
       "        text-align: right;\n",
       "    }\n",
       "</style>\n",
       "<table border=\"1\" class=\"dataframe\">\n",
       "  <thead>\n",
       "    <tr style=\"text-align: right;\">\n",
       "      <th></th>\n",
       "      <th>Appointment_status</th>\n",
       "      <th>temp</th>\n",
       "      <th>precipitation</th>\n",
       "      <th>Age</th>\n",
       "      <th>Sex</th>\n",
       "      <th>FRAILTY</th>\n",
       "      <th>DEPRESSION</th>\n",
       "      <th>OBESITY</th>\n",
       "      <th>IHD</th>\n",
       "      <th>DM</th>\n",
       "      <th>HPT</th>\n",
       "      <th>NDHG</th>\n",
       "      <th>SMI</th>\n",
       "      <th>IMD2023</th>\n",
       "      <th>dist_to_station</th>\n",
       "      <th>distance_to_surg</th>\n",
       "      <th>book_to_app_days</th>\n",
       "      <th>booked_by_clinician</th>\n",
       "      <th>registered_for_months</th>\n",
       "      <th>sin_week</th>\n",
       "      <th>cos_week</th>\n",
       "      <th>sin_Appointment_time</th>\n",
       "      <th>cos_Appointment_time</th>\n",
       "      <th>sin_month</th>\n",
       "      <th>cos_month</th>\n",
       "      <th>sin_day_of_week</th>\n",
       "      <th>cos_day_of_week</th>\n",
       "      <th>No_shows</th>\n",
       "      <th>Rota_ARRS</th>\n",
       "      <th>Rota_GP</th>\n",
       "      <th>Rota_HCA</th>\n",
       "      <th>Rota_Nurse</th>\n",
       "      <th>Ethnicity_Asian</th>\n",
       "      <th>Ethnicity_Black</th>\n",
       "      <th>Ethnicity_Mixed</th>\n",
       "      <th>Ethnicity_Other</th>\n",
       "      <th>Ethnicity_White</th>\n",
       "    </tr>\n",
       "  </thead>\n",
       "  <tbody>\n",
       "    <tr>\n",
       "      <th>11322</th>\n",
       "      <td>0</td>\n",
       "      <td>4.4</td>\n",
       "      <td>0.0</td>\n",
       "      <td>34</td>\n",
       "      <td>2</td>\n",
       "      <td>0.00</td>\n",
       "      <td>0</td>\n",
       "      <td>0</td>\n",
       "      <td>0</td>\n",
       "      <td>0</td>\n",
       "      <td>0</td>\n",
       "      <td>0</td>\n",
       "      <td>0</td>\n",
       "      <td>4330.0</td>\n",
       "      <td>0.109378</td>\n",
       "      <td>0.441702</td>\n",
       "      <td>6.0</td>\n",
       "      <td>0</td>\n",
       "      <td>2.0</td>\n",
       "      <td>-0.354605</td>\n",
       "      <td>0.935016</td>\n",
       "      <td>5.000000e-01</td>\n",
       "      <td>-8.660254e-01</td>\n",
       "      <td>-2.449294e-16</td>\n",
       "      <td>1.000000</td>\n",
       "      <td>0.781831</td>\n",
       "      <td>0.623490</td>\n",
       "      <td>3.0</td>\n",
       "      <td>0.0</td>\n",
       "      <td>1.0</td>\n",
       "      <td>0.0</td>\n",
       "      <td>0.0</td>\n",
       "      <td>0.0</td>\n",
       "      <td>1.0</td>\n",
       "      <td>0.0</td>\n",
       "      <td>0.0</td>\n",
       "      <td>0.0</td>\n",
       "    </tr>\n",
       "    <tr>\n",
       "      <th>379</th>\n",
       "      <td>1</td>\n",
       "      <td>18.4</td>\n",
       "      <td>0.0</td>\n",
       "      <td>68</td>\n",
       "      <td>0</td>\n",
       "      <td>0.08</td>\n",
       "      <td>0</td>\n",
       "      <td>0</td>\n",
       "      <td>0</td>\n",
       "      <td>0</td>\n",
       "      <td>0</td>\n",
       "      <td>0</td>\n",
       "      <td>0</td>\n",
       "      <td>13786.0</td>\n",
       "      <td>0.213182</td>\n",
       "      <td>1.790413</td>\n",
       "      <td>0.0</td>\n",
       "      <td>0</td>\n",
       "      <td>5.0</td>\n",
       "      <td>-0.120537</td>\n",
       "      <td>-0.992709</td>\n",
       "      <td>-8.660254e-01</td>\n",
       "      <td>5.000000e-01</td>\n",
       "      <td>-5.000000e-01</td>\n",
       "      <td>-0.866025</td>\n",
       "      <td>0.781831</td>\n",
       "      <td>0.623490</td>\n",
       "      <td>0.0</td>\n",
       "      <td>0.0</td>\n",
       "      <td>1.0</td>\n",
       "      <td>0.0</td>\n",
       "      <td>0.0</td>\n",
       "      <td>0.0</td>\n",
       "      <td>0.0</td>\n",
       "      <td>1.0</td>\n",
       "      <td>0.0</td>\n",
       "      <td>0.0</td>\n",
       "    </tr>\n",
       "    <tr>\n",
       "      <th>39991</th>\n",
       "      <td>0</td>\n",
       "      <td>12.2</td>\n",
       "      <td>0.0</td>\n",
       "      <td>50</td>\n",
       "      <td>0</td>\n",
       "      <td>0.19</td>\n",
       "      <td>1</td>\n",
       "      <td>0</td>\n",
       "      <td>0</td>\n",
       "      <td>0</td>\n",
       "      <td>0</td>\n",
       "      <td>0</td>\n",
       "      <td>0</td>\n",
       "      <td>14414.0</td>\n",
       "      <td>0.332448</td>\n",
       "      <td>0.171967</td>\n",
       "      <td>3.0</td>\n",
       "      <td>1</td>\n",
       "      <td>14.0</td>\n",
       "      <td>0.748511</td>\n",
       "      <td>0.663123</td>\n",
       "      <td>1.224647e-16</td>\n",
       "      <td>-1.000000e+00</td>\n",
       "      <td>8.660254e-01</td>\n",
       "      <td>0.500000</td>\n",
       "      <td>-0.433884</td>\n",
       "      <td>-0.900969</td>\n",
       "      <td>7.0</td>\n",
       "      <td>0.0</td>\n",
       "      <td>0.0</td>\n",
       "      <td>1.0</td>\n",
       "      <td>0.0</td>\n",
       "      <td>0.0</td>\n",
       "      <td>0.0</td>\n",
       "      <td>0.0</td>\n",
       "      <td>0.0</td>\n",
       "      <td>1.0</td>\n",
       "    </tr>\n",
       "    <tr>\n",
       "      <th>33256</th>\n",
       "      <td>0</td>\n",
       "      <td>19.1</td>\n",
       "      <td>0.0</td>\n",
       "      <td>74</td>\n",
       "      <td>2</td>\n",
       "      <td>0.11</td>\n",
       "      <td>0</td>\n",
       "      <td>0</td>\n",
       "      <td>0</td>\n",
       "      <td>0</td>\n",
       "      <td>1</td>\n",
       "      <td>0</td>\n",
       "      <td>0</td>\n",
       "      <td>23375.0</td>\n",
       "      <td>0.586176</td>\n",
       "      <td>16.859957</td>\n",
       "      <td>0.0</td>\n",
       "      <td>0</td>\n",
       "      <td>58.0</td>\n",
       "      <td>0.748511</td>\n",
       "      <td>-0.663123</td>\n",
       "      <td>2.588190e-01</td>\n",
       "      <td>-9.659258e-01</td>\n",
       "      <td>5.000000e-01</td>\n",
       "      <td>-0.866025</td>\n",
       "      <td>0.000000</td>\n",
       "      <td>1.000000</td>\n",
       "      <td>4.0</td>\n",
       "      <td>0.0</td>\n",
       "      <td>0.0</td>\n",
       "      <td>1.0</td>\n",
       "      <td>0.0</td>\n",
       "      <td>0.0</td>\n",
       "      <td>0.0</td>\n",
       "      <td>0.0</td>\n",
       "      <td>1.0</td>\n",
       "      <td>0.0</td>\n",
       "    </tr>\n",
       "    <tr>\n",
       "      <th>34492</th>\n",
       "      <td>0</td>\n",
       "      <td>14.6</td>\n",
       "      <td>0.0</td>\n",
       "      <td>49</td>\n",
       "      <td>0</td>\n",
       "      <td>0.14</td>\n",
       "      <td>0</td>\n",
       "      <td>0</td>\n",
       "      <td>0</td>\n",
       "      <td>0</td>\n",
       "      <td>1</td>\n",
       "      <td>0</td>\n",
       "      <td>0</td>\n",
       "      <td>16808.0</td>\n",
       "      <td>0.136631</td>\n",
       "      <td>0.204712</td>\n",
       "      <td>7.0</td>\n",
       "      <td>0</td>\n",
       "      <td>35.0</td>\n",
       "      <td>0.464723</td>\n",
       "      <td>-0.885456</td>\n",
       "      <td>-1.000000e+00</td>\n",
       "      <td>-1.836970e-16</td>\n",
       "      <td>5.000000e-01</td>\n",
       "      <td>-0.866025</td>\n",
       "      <td>0.781831</td>\n",
       "      <td>0.623490</td>\n",
       "      <td>28.0</td>\n",
       "      <td>0.0</td>\n",
       "      <td>1.0</td>\n",
       "      <td>0.0</td>\n",
       "      <td>0.0</td>\n",
       "      <td>0.0</td>\n",
       "      <td>0.0</td>\n",
       "      <td>1.0</td>\n",
       "      <td>0.0</td>\n",
       "      <td>0.0</td>\n",
       "    </tr>\n",
       "  </tbody>\n",
       "</table>\n",
       "</div>"
      ],
      "text/plain": [
       "       Appointment_status  temp  precipitation  Age  Sex  FRAILTY  DEPRESSION  \\\n",
       "11322                   0   4.4            0.0   34    2     0.00           0   \n",
       "379                     1  18.4            0.0   68    0     0.08           0   \n",
       "39991                   0  12.2            0.0   50    0     0.19           1   \n",
       "33256                   0  19.1            0.0   74    2     0.11           0   \n",
       "34492                   0  14.6            0.0   49    0     0.14           0   \n",
       "\n",
       "       OBESITY  IHD  DM  HPT  NDHG  SMI  IMD2023  dist_to_station  \\\n",
       "11322        0    0   0    0     0    0   4330.0         0.109378   \n",
       "379          0    0   0    0     0    0  13786.0         0.213182   \n",
       "39991        0    0   0    0     0    0  14414.0         0.332448   \n",
       "33256        0    0   0    1     0    0  23375.0         0.586176   \n",
       "34492        0    0   0    1     0    0  16808.0         0.136631   \n",
       "\n",
       "       distance_to_surg  book_to_app_days  booked_by_clinician  \\\n",
       "11322          0.441702               6.0                    0   \n",
       "379            1.790413               0.0                    0   \n",
       "39991          0.171967               3.0                    1   \n",
       "33256         16.859957               0.0                    0   \n",
       "34492          0.204712               7.0                    0   \n",
       "\n",
       "       registered_for_months  sin_week  cos_week  sin_Appointment_time  \\\n",
       "11322                    2.0 -0.354605  0.935016          5.000000e-01   \n",
       "379                      5.0 -0.120537 -0.992709         -8.660254e-01   \n",
       "39991                   14.0  0.748511  0.663123          1.224647e-16   \n",
       "33256                   58.0  0.748511 -0.663123          2.588190e-01   \n",
       "34492                   35.0  0.464723 -0.885456         -1.000000e+00   \n",
       "\n",
       "       cos_Appointment_time     sin_month  cos_month  sin_day_of_week  \\\n",
       "11322         -8.660254e-01 -2.449294e-16   1.000000         0.781831   \n",
       "379            5.000000e-01 -5.000000e-01  -0.866025         0.781831   \n",
       "39991         -1.000000e+00  8.660254e-01   0.500000        -0.433884   \n",
       "33256         -9.659258e-01  5.000000e-01  -0.866025         0.000000   \n",
       "34492         -1.836970e-16  5.000000e-01  -0.866025         0.781831   \n",
       "\n",
       "       cos_day_of_week  No_shows  Rota_ARRS  Rota_GP  Rota_HCA  Rota_Nurse  \\\n",
       "11322         0.623490       3.0        0.0      1.0       0.0         0.0   \n",
       "379           0.623490       0.0        0.0      1.0       0.0         0.0   \n",
       "39991        -0.900969       7.0        0.0      0.0       1.0         0.0   \n",
       "33256         1.000000       4.0        0.0      0.0       1.0         0.0   \n",
       "34492         0.623490      28.0        0.0      1.0       0.0         0.0   \n",
       "\n",
       "       Ethnicity_Asian  Ethnicity_Black  Ethnicity_Mixed  Ethnicity_Other  \\\n",
       "11322              0.0              1.0              0.0              0.0   \n",
       "379                0.0              0.0              1.0              0.0   \n",
       "39991              0.0              0.0              0.0              0.0   \n",
       "33256              0.0              0.0              0.0              1.0   \n",
       "34492              0.0              0.0              1.0              0.0   \n",
       "\n",
       "       Ethnicity_White  \n",
       "11322              0.0  \n",
       "379                0.0  \n",
       "39991              1.0  \n",
       "33256              0.0  \n",
       "34492              0.0  "
      ]
     },
     "execution_count": 26,
     "metadata": {},
     "output_type": "execute_result"
    }
   ],
   "source": [
    "data_balanced.head(5)"
   ]
  },
  {
   "cell_type": "markdown",
   "id": "71f51789",
   "metadata": {},
   "source": [
    "### Split in X and y"
   ]
  },
  {
   "cell_type": "code",
   "execution_count": 27,
   "id": "00e1fdec",
   "metadata": {},
   "outputs": [],
   "source": [
    "X = data_balanced.drop(columns=['Appointment_status'])\n",
    "y = data_balanced['Appointment_status']"
   ]
  },
  {
   "cell_type": "markdown",
   "id": "6ab93f99",
   "metadata": {},
   "source": [
    "### Baseline accuracy"
   ]
  },
  {
   "cell_type": "code",
   "execution_count": 28,
   "id": "42808fab",
   "metadata": {},
   "outputs": [
    {
     "name": "stdout",
     "output_type": "stream",
     "text": [
      "The baseline accuracy if we assume that all patients will show-up is 0.5\n"
     ]
    }
   ],
   "source": [
    "print(f'The baseline accuracy if we assume that all patients will show-up is {y.value_counts()[1] / X.shape[0]}')"
   ]
  },
  {
   "cell_type": "markdown",
   "id": "fb9c0122",
   "metadata": {},
   "source": [
    "### Split in Train and Test"
   ]
  },
  {
   "cell_type": "code",
   "execution_count": 29,
   "id": "a3e9c9f5",
   "metadata": {},
   "outputs": [
    {
     "name": "stdout",
     "output_type": "stream",
     "text": [
      "✅ OUTPUT: X_train, X_test, y_train, y_test\n",
      "Train Set:  X_train, y_train - (3200, 36), (3200,)\n",
      " Test Set:  X_test, y_test - - (800, 36), (800,)\n"
     ]
    }
   ],
   "source": [
    "X_train, X_test, y_train, y_test = perform_train_test_split(X,y)"
   ]
  },
  {
   "cell_type": "markdown",
   "id": "5e6893ab",
   "metadata": {},
   "source": [
    "### Scale X_train and X_test"
   ]
  },
  {
   "cell_type": "code",
   "execution_count": 30,
   "id": "b2ce9d96",
   "metadata": {},
   "outputs": [],
   "source": [
    "def mm_scaler(X_train, X_test):\n",
    "    scaler = MinMaxScaler()\n",
    "    scaler.fit(X_train)\n",
    "    X_train_scaled = scaler.transform(X_train)\n",
    "    X_test_scaled = scaler.transform(X_test)\n",
    "    return X_train_scaled, X_test_scaled\n",
    "\n",
    "X_train_sca, X_test_sca = mm_scaler(X_train, X_test)"
   ]
  },
  {
   "cell_type": "code",
   "execution_count": 31,
   "id": "27f7d39a",
   "metadata": {},
   "outputs": [],
   "source": [
    "X_train_scaled = pd.DataFrame(X_train_scal,columns=X.columns)\n",
    "X_test_scaled = pd.DataFrame(X_test_scal,columns=X.columns)"
   ]
  },
  {
   "cell_type": "markdown",
   "id": "53709429",
   "metadata": {},
   "source": [
    "# Models"
   ]
  },
  {
   "cell_type": "markdown",
   "id": "54d13b5c",
   "metadata": {},
   "source": [
    "### SVM - Support Vector Machine"
   ]
  },
  {
   "cell_type": "code",
   "execution_count": 18,
   "id": "f7df67e6",
   "metadata": {
    "scrolled": false
   },
   "outputs": [
    {
     "name": "stdout",
     "output_type": "stream",
     "text": [
      "{'C': 4000, 'degree': 2, 'gamma': 0.01, 'kernel': 'poly'}\n",
      "              precision    recall  f1-score   support\n",
      "\n",
      "           0       0.98      0.95      0.97       169\n",
      "           1       0.95      0.98      0.96       151\n",
      "\n",
      "    accuracy                           0.97       320\n",
      "   macro avg       0.97      0.97      0.97       320\n",
      "weighted avg       0.97      0.97      0.97       320\n",
      "\n",
      "[[161   8]\n",
      " [  3 148]]\n"
     ]
    }
   ],
   "source": [
    "from sklearn import svm\n",
    "svm = svm.SVC()\n",
    "grid = {'kernel':('linear', 'poly', 'rbf', 'sigmoid'), \n",
    "        'C': [1000, 1500, 2000, 3000, 4000, 5000],\n",
    "        'gamma': [1, 0.1, 0.01, 0.001, 0.0001],\n",
    "        'degree':[1,2,3,4,5]}\n",
    "\n",
    "search_svm = GridSearchCV(svm, grid, scoring = 'roc_auc', cv = 5, n_jobs=-1)\n",
    "\n",
    "search_svm.fit(X_train_scaled, y_train)\n",
    "search_svm_prediction = search_svm.predict(X_test_scaled) \n",
    "\n",
    "print(search_svm.best_params_)\n",
    "print(classification_report(y_test, search_svm_prediction)) \n",
    "print(confusion_matrix(y_test, search_svm_prediction))"
   ]
  },
  {
   "cell_type": "markdown",
   "id": "73005296",
   "metadata": {},
   "source": [
    "### SGDClassifier"
   ]
  },
  {
   "cell_type": "code",
   "execution_count": 19,
   "id": "afca8ee5",
   "metadata": {
    "scrolled": false
   },
   "outputs": [
    {
     "name": "stdout",
     "output_type": "stream",
     "text": [
      "{'alpha': 0.001, 'loss': 'hinge', 'penalty': 'l1'}\n",
      "              precision    recall  f1-score   support\n",
      "\n",
      "           0       0.99      0.95      0.97       169\n",
      "           1       0.94      0.99      0.97       151\n",
      "\n",
      "    accuracy                           0.97       320\n",
      "   macro avg       0.97      0.97      0.97       320\n",
      "weighted avg       0.97      0.97      0.97       320\n",
      "\n",
      "[[160   9]\n",
      " [  1 150]]\n"
     ]
    }
   ],
   "source": [
    "from sklearn.linear_model import SGDClassifier\n",
    "sgd = SGDClassifier(max_iter=100000)\n",
    "grid = {'loss': ('hinge', 'log_loss', 'modified_huber', 'perceptron', 'huber', 'epsilon_insensitive'), \n",
    "         'penalty': ('l2', 'l1', 'elasticnet', None),\n",
    "         'alpha': [0.00001, 0.0001, 0.001, 0.01, 0.1]}\n",
    "\n",
    "search_sgd = GridSearchCV(sgd, grid, scoring = 'roc_auc', cv = 5, n_jobs=-1)\n",
    "\n",
    "search_sgd.fit(X_train_scaled, y_train)\n",
    "search_sgd_prediction = search_sgd.predict(X_test_scaled) \n",
    "\n",
    "print(search_sgd.best_params_) \n",
    "print(classification_report(y_test, search_sgd_prediction)) \n",
    "print(confusion_matrix(y_test, search_sgd_prediction))"
   ]
  },
  {
   "cell_type": "markdown",
   "id": "e0fc4160",
   "metadata": {},
   "source": [
    "### Decision Tree Classifier"
   ]
  },
  {
   "cell_type": "code",
   "execution_count": 20,
   "id": "61616914",
   "metadata": {},
   "outputs": [
    {
     "name": "stdout",
     "output_type": "stream",
     "text": [
      "{'criterion': 'entropy', 'max_depth': 6, 'min_samples_leaf': 4, 'min_samples_split': 1}\n",
      "              precision    recall  f1-score   support\n",
      "\n",
      "           0       0.95      0.95      0.95       169\n",
      "           1       0.95      0.95      0.95       151\n",
      "\n",
      "    accuracy                           0.95       320\n",
      "   macro avg       0.95      0.95      0.95       320\n",
      "weighted avg       0.95      0.95      0.95       320\n",
      "\n",
      "[[161   8]\n",
      " [  8 143]]\n"
     ]
    }
   ],
   "source": [
    "from sklearn.tree import DecisionTreeClassifier\n",
    "tree = DecisionTreeClassifier()\n",
    "\n",
    "grid = {'criterion':['gini', 'entropy'],\n",
    "         'max_depth': range(1,10),\n",
    "          'min_samples_split':range(1,10),\n",
    "          'min_samples_leaf': range(1,5)}\n",
    "\n",
    "tree_search = GridSearchCV(tree, grid, scoring ='roc_auc', cv = 5, n_jobs=-1)\n",
    "\n",
    "tree_search.fit(X_train_scaled, y_train)\n",
    "tree_search_prediction = tree_search.predict(X_test_scaled) \n",
    "\n",
    "print(tree_search.best_params_) \n",
    "print(classification_report(y_test, tree_search_prediction)) \n",
    "print(confusion_matrix(y_test, tree_search_prediction))"
   ]
  },
  {
   "cell_type": "markdown",
   "id": "80bcf005",
   "metadata": {},
   "source": [
    "### XGBoost"
   ]
  },
  {
   "cell_type": "code",
   "execution_count": 22,
   "id": "5ae2f8f0",
   "metadata": {},
   "outputs": [
    {
     "name": "stdout",
     "output_type": "stream",
     "text": [
      "Fitting 5 folds for each of 320 candidates, totalling 1600 fits\n",
      "{'learning_rate': 1, 'max_depth': 6, 'n_estimators': 160}\n",
      "              precision    recall  f1-score   support\n",
      "\n",
      "           0       0.99      0.95      0.97       169\n",
      "           1       0.94      0.99      0.97       151\n",
      "\n",
      "    accuracy                           0.97       320\n",
      "   macro avg       0.97      0.97      0.97       320\n",
      "weighted avg       0.97      0.97      0.97       320\n",
      "\n",
      "[[160   9]\n",
      " [  1 150]]\n"
     ]
    }
   ],
   "source": [
    "import xgboost as xgb\n",
    "estimator = xgb.XGBClassifier(objective= 'binary:logistic', nthread=4, seed=42)\n",
    "\n",
    "grid = {'max_depth': range(2, 10, 1),\n",
    "        'n_estimators': range(60, 220, 20),\n",
    "        'learning_rate': [2, 1, 0.1, 0.01, 0.05]}\n",
    "\n",
    "xgb_search = GridSearchCV(\n",
    "    estimator=estimator,\n",
    "    param_grid=grid,\n",
    "    scoring = 'roc_auc',\n",
    "    n_jobs = -1,\n",
    "    cv = 5,\n",
    "    verbose=True)\n",
    "xgb_search.fit(X_train_scaled, y_train)\n",
    "\n",
    "xgb_search_prediction = search_sgd.predict(X_test_scaled) \n",
    "\n",
    "print(xgb_search.best_params_) \n",
    "print(classification_report(y_test, xgb_search_prediction)) \n",
    "print(confusion_matrix(y_test, xgb_search_prediction))"
   ]
  },
  {
   "cell_type": "code",
   "execution_count": null,
   "id": "e60b463a",
   "metadata": {},
   "outputs": [],
   "source": [
    "# from sklearn.linear_model import LogisticRegression\n",
    "# log_reg = LogisticRegression(max_iter=1000)\n",
    "# score_log_reg = cross_val_score(log_reg, X_train_scaled, y_train, cv=5, scoring='recall').mean()\n",
    "# score_log_reg"
   ]
  },
  {
   "cell_type": "code",
   "execution_count": null,
   "id": "613fcd8a",
   "metadata": {},
   "outputs": [],
   "source": [
    "# from sklearn.naive_bayes import GaussianNB\n",
    "# gaussian = GaussianNB()\n",
    "# score_gaussian = cross_val_score(gaussian, X_train_scaled, y_train, cv=5, scoring='recall').mean()\n",
    "# score_gaussian"
   ]
  }
 ],
 "metadata": {
  "kernelspec": {
   "display_name": "Python 3 (ipykernel)",
   "language": "python",
   "name": "python3"
  },
  "language_info": {
   "codemirror_mode": {
    "name": "ipython",
    "version": 3
   },
   "file_extension": ".py",
   "mimetype": "text/x-python",
   "name": "python",
   "nbconvert_exporter": "python",
   "pygments_lexer": "ipython3",
   "version": "3.10.6"
  },
  "toc": {
   "base_numbering": 1,
   "nav_menu": {},
   "number_sections": true,
   "sideBar": true,
   "skip_h1_title": false,
   "title_cell": "Table of Contents",
   "title_sidebar": "Contents",
   "toc_cell": false,
   "toc_position": {},
   "toc_section_display": true,
   "toc_window_display": false
  }
 },
 "nbformat": 4,
 "nbformat_minor": 5
}

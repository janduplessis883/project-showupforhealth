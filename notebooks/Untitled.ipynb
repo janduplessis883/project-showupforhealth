{
 "cells": [
  {
   "cell_type": "code",
   "execution_count": 3,
   "id": "e22ebaba",
   "metadata": {},
   "outputs": [],
   "source": [
    "import pandas as pd \n",
    "from showupforhealth.params import *"
   ]
  },
  {
   "cell_type": "code",
   "execution_count": 4,
   "id": "9641e559",
   "metadata": {},
   "outputs": [],
   "source": [
    "data = pd.read_csv(f'{OUTPUT_DATA}/full_train_data.csv')"
   ]
  },
  {
   "cell_type": "code",
   "execution_count": 5,
   "id": "dc4ef2c5",
   "metadata": {},
   "outputs": [
    {
     "data": {
      "text/plain": [
       "Index(['Appointment_status', 'Patient ID', 'temp', 'precipitation', 'Age',\n",
       "       'Sex', 'FRAILTY', 'DEPRESSION', 'OBESITY', 'IHD', 'DM', 'HPT', 'NDHG',\n",
       "       'SMI', 'IMD2023', 'dist_to_station', 'distance_to_surg',\n",
       "       'book_to_app_days', 'booked_by_clinician', 'registered_for_months',\n",
       "       'sin_week', 'cos_week', 'sin_Appointment_time', 'cos_Appointment_time',\n",
       "       'sin_month', 'cos_month', 'sin_day_of_week', 'cos_day_of_week',\n",
       "       'No_shows', 'Rota_ARRS', 'Rota_GP', 'Rota_HCA', 'Rota_Nurse',\n",
       "       'Ethnicity_Asian', 'Ethnicity_Black', 'Ethnicity_Mixed',\n",
       "       'Ethnicity_Other', 'Ethnicity_White'],\n",
       "      dtype='object')"
      ]
     },
     "execution_count": 5,
     "metadata": {},
     "output_type": "execute_result"
    }
   ],
   "source": [
    "data.columns"
   ]
  },
  {
   "cell_type": "code",
   "execution_count": null,
   "id": "90f49aff",
   "metadata": {},
   "outputs": [],
   "source": []
  }
 ],
 "metadata": {
  "kernelspec": {
   "display_name": "Python 3 (ipykernel)",
   "language": "python",
   "name": "python3"
  },
  "language_info": {
   "codemirror_mode": {
    "name": "ipython",
    "version": 3
   },
   "file_extension": ".py",
   "mimetype": "text/x-python",
   "name": "python",
   "nbconvert_exporter": "python",
   "pygments_lexer": "ipython3",
   "version": "3.10.6"
  },
  "toc": {
   "base_numbering": 1,
   "nav_menu": {},
   "number_sections": true,
   "sideBar": true,
   "skip_h1_title": false,
   "title_cell": "Table of Contents",
   "title_sidebar": "Contents",
   "toc_cell": false,
   "toc_position": {},
   "toc_section_display": true,
   "toc_window_display": false
  }
 },
 "nbformat": 4,
 "nbformat_minor": 5
}

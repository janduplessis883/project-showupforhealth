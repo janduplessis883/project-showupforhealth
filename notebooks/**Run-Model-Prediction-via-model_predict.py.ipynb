{
 "cells": [
  {
   "cell_type": "markdown",
   "id": "2e202c80",
   "metadata": {},
   "source": [
    "<div class='alert' style='background-color: #273333; color: #E5E7E8; padding:26px 26px; border-radius:15px; font-size:40px;'><B>Show Up </B> for Health - %run model_predict.py</div><span style='color: #273333; padding:26px 26px; font-size:11px;'> Powered by <B>AutoNote </B>&<b> Show Up for Health</b> Project</B></span><div style='margin:4px 26px; color:#273333; font-size:17px;'>"
   ]
  },
  {
   "cell_type": "code",
   "execution_count": 3,
   "id": "43f8a3d3",
   "metadata": {},
   "outputs": [
    {
     "name": "stdout",
     "output_type": "stream",
     "text": [
      "The autoreload extension is already loaded. To reload it, use:\n",
      "  %reload_ext autoreload\n"
     ]
    }
   ],
   "source": [
    "from showupforhealth.utils import *\n",
    "from showupforhealth.params import *\n",
    "from showupforhealth.interface.model_predict import *\n",
    "\n",
    "# \"magic commands\" to enable autoreload of your imported packages\n",
    "%load_ext autoreload\n",
    "%autoreload 2\n",
    "\n",
    "pd.options.display.max_rows = 1000\n",
    "pd.options.display.max_columns = 1000"
   ]
  },
  {
   "cell_type": "code",
   "execution_count": null,
   "id": "1b1fe556",
   "metadata": {
    "scrolled": false
   },
   "outputs": [
    {
     "name": "stdout",
     "output_type": "stream",
     "text": [
      "\u001b[34m\n",
      "ECS - Earls Court Surgery\n",
      "\u001b[34mTGP - The Good Practice\n",
      "\u001b[34mTCP - The Chelsea Practice\n",
      "\u001b[34mSMW - Stanhope Mews West\n",
      "\u001b[34mKMC - Knightsbridge Medical Centre\n",
      "\u001b[34mHPVN - Health Partners at Violet Melchett\n",
      "Enter Surgery Prefix to continue: ECS\n",
      "\u001b[0m\n",
      "\n",
      "=== Preparing Appoitment Data for Prediction =================================\n",
      "🌤️ Prediction: ECS - preparing appointment data for weather\n",
      "👩🏻‍🦰 Appointments: 1209 🧑🏻‍🦰 Unique Patient IDs; 695\n",
      "🛜 Requesting forcast from Open-Meteo Weather API 2023-08-31 - 2023-09-20\n",
      "🔂 Merge weather + appointment data\n",
      "✅ Successful: return df\n",
      "👉 Appointment DF in: (1209, 11)\n",
      "🔀 Disease Register merged with prediction data - (1209, 32)\n",
      "❌ Drop NaN - Disease Register Merge = 63\n",
      "⛽️ Fill NaN (0) - No Shows Merge\n",
      "\n",
      "=== Feature Engineering =============================================================\n",
      "🔂 Rename Columns\n",
      "🔂 Drop deseased and deducted\n",
      "🔂 Columns to Datetime\n",
      "🔂 Fix Appointment Time\n",
      "🔂 book_to_app_days\n",
      "🔂 booked_by_clinician\n",
      "🔂 Extract Rota Types\n",
      "🔂 registered_for_months\n",
      "🔂 Week\n",
      "🔂 Month\n",
      "🔂 Day of week\n",
      "🔂 Convert Cyclical data\n",
      "🔂 Drop Column no longer needed\n",
      "🔂 Rows dropped from Rotas other than spec: 0\n",
      "🔂 Rows from with Negative book_to_app_days: 0\n",
      "🔂 Drop rows with Sex Unknonw & Indeterminate\n",
      "🔂 Labelencode Column Sex\n",
      "🔂 OneHotEncode Rota types\n",
      "🔂 Extract Ethnicity Category\n",
      "🔂 OneHotEncode Ethnicity\n",
      "🔂 Drop NaN\n",
      "✅ Done in 0.09 sec (1146, 37)\n",
      "❗️TEST PASSED - df has 37 columns!\n",
      "\u001b[32m\n",
      "▶️ Select Scaler + Model:\n",
      "\u001b[32m1. jan_scaler_17sept23 + model16sept23_jan\n",
      "\u001b[32m2. Empty\n",
      "\u001b[32m3. Empty\n",
      "Enter Selection: 2\n",
      "\u001b[0m\n",
      "36/36 [==============================] - 0s 2ms/step\n",
      "No shows Predicted at 0.4 threshold: 242\n",
      "No shows Predicted at 0.5 threshold: 308\n",
      "No shows Predicted at 0.6 threshold: 368\n",
      "No shows Predicted at 0.7 threshold: 419\n",
      "No shows Predicted at 0.8 threshold: 456\n"
     ]
    }
   ],
   "source": [
    "%run ../showupforhealth/interface/model_predict.py"
   ]
  },
  {
   "cell_type": "markdown",
   "id": "74202b2e",
   "metadata": {},
   "source": [
    "-----"
   ]
  },
  {
   "cell_type": "code",
   "execution_count": null,
   "id": "8ed5e393",
   "metadata": {},
   "outputs": [],
   "source": []
  }
 ],
 "metadata": {
  "kernelspec": {
   "display_name": "Python 3 (ipykernel)",
   "language": "python",
   "name": "python3"
  },
  "language_info": {
   "codemirror_mode": {
    "name": "ipython",
    "version": 3
   },
   "file_extension": ".py",
   "mimetype": "text/x-python",
   "name": "python",
   "nbconvert_exporter": "python",
   "pygments_lexer": "ipython3",
   "version": "3.10.6"
  },
  "toc": {
   "base_numbering": 1,
   "nav_menu": {},
   "number_sections": true,
   "sideBar": true,
   "skip_h1_title": false,
   "title_cell": "Table of Contents",
   "title_sidebar": "Contents",
   "toc_cell": false,
   "toc_position": {},
   "toc_section_display": true,
   "toc_window_display": false
  }
 },
 "nbformat": 4,
 "nbformat_minor": 5
}

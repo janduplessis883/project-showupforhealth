{
 "cells": [
  {
   "cell_type": "markdown",
   "id": "ab061fc6",
   "metadata": {
    "id": "6453eed1-cbb4-486e-b488-44bbc493fcdb"
   },
   "source": [
    "<div class='alert' style='background-color: #273333; color: #E5E7E8; padding:26px 26px; border-radius:15px; font-size:40px;'><B>Show Up for Health</B> - Brompton Health PCN</div><span style='color: #273333; padding:26px 26px; font-size:11px;'> Powered by <B>AutoNote</B></span><div style='margin:4px 26px; color:#273333; font-size:16px;'>\n",
    "   <p>\n",
    "       Exploratory Data Analysis (EDA) of <B>Missed Appointments in Primary Care</B>. <BR>Dataset collected from six NHS GP practices over a four year period (excluding Pandemic data) - Brompton Health PCN, North West London ICB.\n",
    "</p>\n",
    "<p>\n",
    "    <B>The key features we will examine in this EDA project include:</b>\n",
    "</p>\n",
    "\n",
    "<ol>\n",
    "  <li>\n",
    "    <strong>Data Quality Assessment</strong>: We will begin by assessing the data quality, including checking for missing values, duplicates, and data entry errors. This step is essential for ensuring that our analysis is based on accurate and reliable information.\n",
    "  </li>\n",
    "  <li>\n",
    "    <strong>Univariate Analysis</strong>: We will explore the distribution and summary statistics of each variable in the dataset, both categorical and numerical. This analysis will provide insights into the central tendency, dispersion, and shape of the data.\n",
    "  </li>\n",
    "  <li>\n",
    "    <strong>Bivariate Analysis</strong>: We will investigate the relationships between pairs of variables, examining potential correlations and dependencies. This analysis will enable us to understand how the variables interact and influence each other, which can be vital when building predictive models.\n",
    "  </li>\n",
    "  <li>\n",
    "    <strong>Multivariate Analysis</strong>: We will explore the interactions among multiple variables simultaneously, enabling us to uncover complex patterns and relationships that might not be apparent through univariate or bivariate analysis.\n",
    "  </li>\n",
    "  <li>\n",
    "    <strong>Outlier Detection</strong>: We will identify and address any outliers in the dataset, as they can significantly impact the results of our analysis and the performance of subsequent models.\n",
    "  </li>\n",
    "  <li>\n",
    "    <strong>Feature Engineering</strong>: Based on the insights derived from our EDA, we will create new features that may enhance our understanding of the dataset or improve the performance of predictive models.\n",
    "  </li>\n",
    "</ol>\n",
    "\n",
    "<p>\n",
    "  Throughout this exploratory data analysis project, we will employ various data visualization techniques, such as histograms, box plots, scatter plots, and heatmaps, to effectively communicate our findings and facilitate better decision-making. By conducting a thorough EDA, we will lay the foundation for future data-driven projects, ensuring that our analysis is based on a deep understanding of the dataset and its underlying structure.\n",
    "</p>\n",
    "</div>"
   ]
  },
  {
   "cell_type": "markdown",
   "id": "95f5ebcc",
   "metadata": {
    "id": "f7a5f40e-e4c7-485e-98e0-c796381afc65"
   },
   "source": [
    "][\\\"P-=]\n",
    "    [=-\\0'poiujhgfdsa# <b>Exploratory</b> Data Analysis"
   ]
  },
  {
   "cell_type": "markdown",
   "id": "7612e060",
   "metadata": {
    "id": "13b5759b-b6e1-44dd-b78a-beff5b2f9c80"
   },
   "source": [
    "## Loading Libraries \n",
    "and csv dataset."
   ]
  },
  {
   "cell_type": "code",
   "execution_count": 4,
   "id": "a68d8bb0",
   "metadata": {
    "id": "69c08f52-95f6-4d34-add4-201bd13fa677"
   },
   "outputs": [],
   "source": [
    "# Importing default Libraries\n",
    "import matplotlib.pyplot as plt\n",
    "import pandas as pd \n",
    "import numpy as np\n",
    "import seaborn as sns\n",
    "import warnings\n",
    "\n",
    "# Hi-resolution Plots and Matplotlib inline\n",
    "%config InlineBackend.figure_format = 'retina'\n",
    "%matplotlib inline\n",
    "\n",
    "# Set the maximum number of rows and columns to be displayed\n",
    "warnings.filterwarnings('ignore')"
   ]
  },
  {
   "cell_type": "code",
   "execution_count": null,
   "id": "0017fa22",
   "metadata": {
    "id": "ee7a7387-53ca-4dab-82b6-8bfb8af617ed"
   },
   "outputs": [],
   "source": [
    "data = pd.read_csv('../jan-datasets/tips.csv')\n",
    "data.head()"
   ]
  },
  {
   "cell_type": "code",
   "execution_count": null,
   "id": "b3d7ba7a",
   "metadata": {
    "id": "15c14951-b890-47b0-ad33-1ddcdc8f5431"
   },
   "outputs": [],
   "source": [
    "data.shape"
   ]
  },
  {
   "cell_type": "code",
   "execution_count": null,
   "id": "972be95b",
   "metadata": {
    "id": "474e603d-571c-42a0-bcb5-840651199971"
   },
   "outputs": [],
   "source": [
    "data.info()"
   ]
  },
  {
   "cell_type": "markdown",
   "id": "c1a72fe3",
   "metadata": {
    "id": "a4ab14c0-08b9-48da-ac2a-3bed6adf5761"
   },
   "source": [
    "## Preprocessing"
   ]
  },
  {
   "cell_type": "markdown",
   "id": "d4b3f174",
   "metadata": {
    "id": "5939c6b7-6102-4e62-8644-c9918dd67460"
   },
   "source": [
    "<B>Missing Values</B>"
   ]
  },
  {
   "cell_type": "code",
   "execution_count": null,
   "id": "43f51a9c",
   "metadata": {
    "id": "9772de9e-11b7-44b7-90f5-8336841dd0f3"
   },
   "outputs": [],
   "source": [
    "# Counting the number of NaN for each column\n",
    "data.isnull().sum().sort_values(ascending=False)"
   ]
  },
  {
   "cell_type": "markdown",
   "id": "655ca632",
   "metadata": {
    "id": "52fc59e6-a6ad-4e8e-8106-9c7c4f0bd52f"
   },
   "source": [
    "<B>Non-numeric Columns</b> - Encode with Label Encoder"
   ]
  },
  {
   "cell_type": "code",
   "execution_count": null,
   "id": "c6edd2e5",
   "metadata": {
    "id": "23b10341-be1d-4c91-a5ef-4dada6ce92d5"
   },
   "outputs": [],
   "source": [
    "# Perform value_couts() on all non-nummeric columns\n",
    "my_list = data.select_dtypes(exclude=['number']).columns.tolist()\n",
    "\n",
    "for i in my_list:\n",
    "    print(f\"Column Header: {i}\")\n",
    "    display(data[i].value_counts())"
   ]
  },
  {
   "cell_type": "code",
   "execution_count": null,
   "id": "91a2f075",
   "metadata": {
    "id": "203fd3cb-dbd6-46a0-a3ea-f25ce657215b"
   },
   "outputs": [],
   "source": [
    "from sklearn.preprocessing import LabelEncoder\n",
    "\n",
    "non_numeric_columns = data.select_dtypes(exclude=['number']).columns.tolist()\n",
    "\n",
    "for col in non_numeric_columns:\n",
    "    \n",
    "    # instantiate label encoder\n",
    "    le = LabelEncoder()\n",
    "\n",
    "    # fit and transform on the column\n",
    "    data[col] = le.fit_transform(data[col])\n",
    "\n",
    "# view encoded dataframe\n",
    "data.head(3)"
   ]
  },
  {
   "cell_type": "markdown",
   "id": "9051b305",
   "metadata": {
    "id": "823a00d3-8252-4ec2-a880-e9718e359317"
   },
   "source": [
    "## Stats & Correlation"
   ]
  },
  {
   "cell_type": "code",
   "execution_count": null,
   "id": "890e849d",
   "metadata": {
    "id": "d6cf15ea-139b-4a72-b3ab-0717098a28bd"
   },
   "outputs": [],
   "source": [
    "data.describe().T.round(3)"
   ]
  },
  {
   "cell_type": "markdown",
   "id": "ceaf4907",
   "metadata": {
    "id": "814d87ae-9039-4411-b889-7dead28d3847"
   },
   "source": [
    "<B>Normalized Summary Statistics</b> - Heatmap"
   ]
  },
  {
   "cell_type": "code",
   "execution_count": null,
   "id": "39f4ad76",
   "metadata": {
    "id": "d9e89d9b-b551-4491-8da8-eaf1bce82f71"
   },
   "outputs": [],
   "source": [
    "# Generate the summary statistics using 'describe()'\n",
    "summary = data.describe()\n",
    "\n",
    "# Normalize the summary statistics to make them comparable\n",
    "normalized_summary = (summary - summary.min()) / (summary.max() - summary.min())\n",
    "\n",
    "# Set the figure size (width, height)\n",
    "plt.figure(figsize=(6, 5))\n",
    "\n",
    "# Create a heatmap\n",
    "sns.heatmap(normalized_summary, annot=True, cmap='flare', fmt='.2f', linewidths=0.5)\n",
    "\n",
    "# Customize the plot\n",
    "plt.title('Normalized Summary Statistics')\n",
    "plt.xlabel('Column')\n",
    "plt.ylabel('Statistic')\n",
    "\n",
    "# Display the plot\n",
    "plt.show()"
   ]
  },
  {
   "cell_type": "markdown",
   "id": "35f05230",
   "metadata": {
    "id": "f676333d-93fe-483f-a744-954a99d2c004"
   },
   "source": [
    "Seaborn <b>Pairplot</B>"
   ]
  },
  {
   "cell_type": "code",
   "execution_count": null,
   "id": "363fa8d8",
   "metadata": {
    "id": "067cc2f8-40a6-4af2-8fff-bfd614f1e005"
   },
   "outputs": [],
   "source": [
    "# sns.pairplot to explore numberic data correlation & outliers.\n",
    "sns.pairplot(data);"
   ]
  },
  {
   "cell_type": "markdown",
   "id": "c221756b",
   "metadata": {
    "id": "c61d638e-86a2-4aba-baf7-2d0ac815c738"
   },
   "source": [
    "<B>Correlation</B> & Heatmap"
   ]
  },
  {
   "cell_type": "code",
   "execution_count": null,
   "id": "122d8da5",
   "metadata": {
    "id": "87fd94e2-6ba2-4612-a33d-28a01cc785cf"
   },
   "outputs": [],
   "source": [
    "data.corr().round(3)"
   ]
  },
  {
   "cell_type": "code",
   "execution_count": null,
   "id": "d5b0eedc",
   "metadata": {
    "id": "e8406ade-2859-45ea-845d-935d19bb1aff"
   },
   "outputs": [],
   "source": [
    "# sns.heatmap cmap options flare (red/purple), crest (blue), other, other\n",
    "sns.heatmap(data.corr(), annot=True, annot_kws={'size': 9}, fmt='.2f', cmap='flare');"
   ]
  },
  {
   "cell_type": "code",
   "execution_count": 2,
   "id": "e46152a4",
   "metadata": {},
   "outputs": [
    {
     "data": {
      "application/vnd.jupyter.widget-view+json": {
       "model_id": "779d0c5a9ac84239b6f1695aec784bfc",
       "version_major": 2,
       "version_minor": 0
      },
      "text/plain": [
       "HBox(children=(Button(description='✉️ EmailBuddy', style=ButtonStyle(button_color='#eeeeee')), Button(descript…"
      ]
     },
     "metadata": {},
     "output_type": "display_data"
    },
    {
     "data": {
      "application/vnd.jupyter.widget-view+json": {
       "model_id": "5526fa07646d494c9bfa8a51e7ead54a",
       "version_major": 2,
       "version_minor": 0
      },
      "text/plain": [
       "HBox(children=(Text(value='', description='🔎'), Dropdown(description='Code:', options=('AI - ChatGPT to Speech…"
      ]
     },
     "metadata": {},
     "output_type": "display_data"
    }
   ],
   "source": [
    "from autonote import AutoNote\n",
    "an = AutoNote()"
   ]
  },
  {
   "cell_type": "code",
   "execution_count": null,
   "id": "b0fc4fe9",
   "metadata": {},
   "outputs": [],
   "source": []
  }
 ],
 "metadata": {
  "kernelspec": {
   "display_name": "Python 3 (ipykernel)",
   "language": "python",
   "name": "python3"
  },
  "language_info": {
   "codemirror_mode": {
    "name": "ipython",
    "version": 3
   },
   "file_extension": ".py",
   "mimetype": "text/x-python",
   "name": "python",
   "nbconvert_exporter": "python",
   "pygments_lexer": "ipython3",
   "version": "3.10.6"
  },
  "toc": {
   "base_numbering": 1,
   "nav_menu": {},
   "number_sections": true,
   "sideBar": true,
   "skip_h1_title": false,
   "title_cell": "Table of Contents",
   "title_sidebar": "Contents",
   "toc_cell": false,
   "toc_position": {},
   "toc_section_display": true,
   "toc_window_display": false
  }
 },
 "nbformat": 4,
 "nbformat_minor": 5
}

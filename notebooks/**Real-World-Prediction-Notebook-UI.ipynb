{
 "cells": [
  {
   "cell_type": "markdown",
   "id": "1f7a66bc",
   "metadata": {},
   "source": [
    "<div class='alert' style='background-color: #273333; color: #E5E7E8; padding:26px 26px; border-radius:15px; font-size:40px;'><B>Show Up for Health</B>  - Real World Prediction</div><span style='color: #273333; padding:26px 26px; font-size:11px;'> Powered by <B>AutoNote </B>&<b> Show Up for Health</b> Project</B></span><div style='margin:4px 26px; color:#273333; font-size:17px;'>"
   ]
  },
  {
   "cell_type": "code",
   "execution_count": 6,
   "id": "9705000f",
   "metadata": {},
   "outputs": [
    {
     "name": "stdout",
     "output_type": "stream",
     "text": [
      "The autoreload extension is already loaded. To reload it, use:\n",
      "  %reload_ext autoreload\n"
     ]
    }
   ],
   "source": [
    "from showupforhealth.utils import *\n",
    "from showupforhealth.params import *\n",
    "from showupforhealth.interface.model_predict import *\n",
    "from showupforhealth.ml_functions.predict import *\n",
    "from showupforhealth.interface.main import *\n",
    "\n",
    "pd.options.display.max_rows = 1000\n",
    "pd.options.display.max_columns = 1000\n",
    "\n",
    "%load_ext autoreload\n",
    "%autoreload 2"
   ]
  },
  {
   "cell_type": "markdown",
   "id": "61c6ea22",
   "metadata": {},
   "source": [
    "<div class='alert' style='background-color: #273333; color: #E5E7E8; padding:12px 12px; border-radius:15px; font-size:16px;'><B>📂 File Upload</B> Module</div>"
   ]
  },
  {
   "cell_type": "code",
   "execution_count": 7,
   "id": "3ff06be6",
   "metadata": {},
   "outputs": [
    {
     "data": {
      "application/vnd.jupyter.widget-view+json": {
       "model_id": "72bab9a8074d4c9f9f6d02f7864cb491",
       "version_major": 2,
       "version_minor": 0
      },
      "text/plain": [
       "HBox(children=(Dropdown(description='Week:', index=5, options=('2023 Week 34 - 20 Aug to 26 Aug', '2023 Week 3…"
      ]
     },
     "metadata": {},
     "output_type": "display_data"
    },
    {
     "data": {
      "application/vnd.jupyter.widget-view+json": {
       "model_id": "6b3538d3a0694aea9831daf476d0312e",
       "version_major": 2,
       "version_minor": 0
      },
      "text/plain": [
       "HBox(children=(FileUpload(value={'ECS_control.csv': {'metadata': {'name': 'ECS_control.csv', 'type': 'text/csv…"
      ]
     },
     "metadata": {},
     "output_type": "display_data"
    }
   ],
   "source": [
    "file_upload_module()"
   ]
  },
  {
   "cell_type": "markdown",
   "id": "f568a162",
   "metadata": {},
   "source": [
    "<div class='alert' style='background-color: #273333; color: #E5E7E8; padding:12px 12px; border-radius:15px; font-size:16px;'><B>🎯 Predict Folder</B> Module</div>"
   ]
  },
  {
   "cell_type": "code",
   "execution_count": 8,
   "id": "e0034897",
   "metadata": {},
   "outputs": [
    {
     "data": {
      "application/vnd.jupyter.widget-view+json": {
       "model_id": "dc91a07de1d14ae1abfe01766de44782",
       "version_major": 2,
       "version_minor": 0
      },
      "text/plain": [
       "VBox(children=(Dropdown(description='Select Folder:', options=('2023 Week 34 - 20 Aug to 26 Aug', '2023 Week 3…"
      ]
     },
     "metadata": {},
     "output_type": "display_data"
    }
   ],
   "source": [
    "folder_predict_module()"
   ]
  },
  {
   "cell_type": "markdown",
   "id": "dc5a3813",
   "metadata": {},
   "source": [
    "<div class='alert' style='background-color: #273333; color: #E5E7E8; padding:12px 12px; border-radius:15px; font-size:16px;'><B>📈 Reports</B> Module</div>"
   ]
  },
  {
   "cell_type": "code",
   "execution_count": 85,
   "id": "23a70ec6",
   "metadata": {
    "scrolled": false
   },
   "outputs": [
    {
     "name": "stdout",
     "output_type": "stream",
     "text": [
      "\n",
      "▶️ Select Scaler + Model:\n",
      "1. jan_scaler_17sept23 + model16sept23_jan\n",
      "2. Jan Backup 22 Sept 9am\n",
      "3. Gentle Water undersample 0.15\n",
      "Enter Selection: 1\n",
      "\n",
      "70/70 [==============================] - 0s 453us/step\n",
      "No shows Predicted at 0.5 threshold: 27\n",
      "No shows Predicted at 0.6 threshold: 71\n",
      "No shows Predicted at 0.7 threshold: 147\n",
      "No shows Predicted at 0.8 threshold: 264\n",
      "Select a Threshold: 0.6\n"
     ]
    }
   ],
   "source": [
    "data = final_predict('HPVM')"
   ]
  },
  {
   "cell_type": "code",
   "execution_count": 86,
   "id": "16d8ae92",
   "metadata": {},
   "outputs": [
    {
     "data": {
      "text/html": [
       "<div>\n",
       "<style scoped>\n",
       "    .dataframe tbody tr th:only-of-type {\n",
       "        vertical-align: middle;\n",
       "    }\n",
       "\n",
       "    .dataframe tbody tr th {\n",
       "        vertical-align: top;\n",
       "    }\n",
       "\n",
       "    .dataframe thead th {\n",
       "        text-align: right;\n",
       "    }\n",
       "</style>\n",
       "<table border=\"1\" class=\"dataframe\">\n",
       "  <thead>\n",
       "    <tr style=\"text-align: right;\">\n",
       "      <th></th>\n",
       "      <th>Appointment booked date</th>\n",
       "      <th>Appointment date</th>\n",
       "      <th>Appointment status</th>\n",
       "      <th>Appointment time</th>\n",
       "      <th>Booked by</th>\n",
       "      <th>Clinician</th>\n",
       "      <th>Rota type</th>\n",
       "      <th>Patient ID</th>\n",
       "      <th>Model_Prediction</th>\n",
       "    </tr>\n",
       "  </thead>\n",
       "  <tbody>\n",
       "    <tr>\n",
       "      <th>0</th>\n",
       "      <td>08-Aug-23</td>\n",
       "      <td>21-Aug-23</td>\n",
       "      <td>Finished</td>\n",
       "      <td>15:00 - 15:59</td>\n",
       "      <td>HAYNES, Madeleine (Miss)</td>\n",
       "      <td>JALILOVA, Gulshan (Nurse)</td>\n",
       "      <td>Health Partners at VM Nurse</td>\n",
       "      <td>47490525</td>\n",
       "      <td>NaN</td>\n",
       "    </tr>\n",
       "    <tr>\n",
       "      <th>1</th>\n",
       "      <td>09-Aug-23</td>\n",
       "      <td>22-Aug-23</td>\n",
       "      <td>Finished</td>\n",
       "      <td>14:00 - 14:59</td>\n",
       "      <td>HAYNES, Madeleine (Miss)</td>\n",
       "      <td>JALILOVA, Gulshan (Nurse)</td>\n",
       "      <td>Health Partners at VM Nurse</td>\n",
       "      <td>47483285</td>\n",
       "      <td>NaN</td>\n",
       "    </tr>\n",
       "    <tr>\n",
       "      <th>2</th>\n",
       "      <td>10-Aug-23</td>\n",
       "      <td>22-Aug-23</td>\n",
       "      <td>Finished</td>\n",
       "      <td>16:00 - 16:59</td>\n",
       "      <td>EDUVIE, Savannah (Miss)</td>\n",
       "      <td>JALILOVA, Gulshan (Nurse)</td>\n",
       "      <td>Health Partners at VM Nurse</td>\n",
       "      <td>47489000</td>\n",
       "      <td>NaN</td>\n",
       "    </tr>\n",
       "    <tr>\n",
       "      <th>3</th>\n",
       "      <td>11-Aug-23</td>\n",
       "      <td>05-Sep-23</td>\n",
       "      <td>Finished</td>\n",
       "      <td>14:00 - 14:59</td>\n",
       "      <td>RAHMAN, Saidur (IT/ Informatics)</td>\n",
       "      <td>SAFI, Khushhal (Mr)</td>\n",
       "      <td>Health Partners at VM HCA</td>\n",
       "      <td>48462081</td>\n",
       "      <td>❌</td>\n",
       "    </tr>\n",
       "    <tr>\n",
       "      <th>4</th>\n",
       "      <td>14-Aug-23</td>\n",
       "      <td>21-Aug-23</td>\n",
       "      <td>Finished</td>\n",
       "      <td>09:00 - 09:59</td>\n",
       "      <td>PARMAR, Priti (Reception)</td>\n",
       "      <td>JALILOVA, Gulshan (Nurse)</td>\n",
       "      <td>Health Partners at VM Nurse</td>\n",
       "      <td>55204923</td>\n",
       "      <td>NaN</td>\n",
       "    </tr>\n",
       "    <tr>\n",
       "      <th>...</th>\n",
       "      <td>...</td>\n",
       "      <td>...</td>\n",
       "      <td>...</td>\n",
       "      <td>...</td>\n",
       "      <td>...</td>\n",
       "      <td>...</td>\n",
       "      <td>...</td>\n",
       "      <td>...</td>\n",
       "      <td>...</td>\n",
       "    </tr>\n",
       "    <tr>\n",
       "      <th>2727</th>\n",
       "      <td>11-Sep-23</td>\n",
       "      <td>11-Sep-23</td>\n",
       "      <td>Finished</td>\n",
       "      <td>17:00 - 17:59</td>\n",
       "      <td>PARMAR, Priti (Reception)</td>\n",
       "      <td>SQUIER, William (Dr)</td>\n",
       "      <td>Health Partners at VM GP</td>\n",
       "      <td>51076247</td>\n",
       "      <td>NaN</td>\n",
       "    </tr>\n",
       "    <tr>\n",
       "      <th>2728</th>\n",
       "      <td>11-Sep-23</td>\n",
       "      <td>11-Sep-23</td>\n",
       "      <td>Finished</td>\n",
       "      <td>17:00 - 17:59</td>\n",
       "      <td>SAFI, Khushhal (Mr)</td>\n",
       "      <td>GRIMSTONE, Anna (Dr)</td>\n",
       "      <td>Health Partners at VM GP</td>\n",
       "      <td>47482443</td>\n",
       "      <td>❌</td>\n",
       "    </tr>\n",
       "    <tr>\n",
       "      <th>2729</th>\n",
       "      <td>11-Sep-23</td>\n",
       "      <td>11-Sep-23</td>\n",
       "      <td>Finished</td>\n",
       "      <td>17:00 - 17:59</td>\n",
       "      <td>GRIMSTONE, Anna (Dr)</td>\n",
       "      <td>GRIMSTONE, Anna (Dr)</td>\n",
       "      <td>Health Partners at VM GP</td>\n",
       "      <td>47488807</td>\n",
       "      <td>NaN</td>\n",
       "    </tr>\n",
       "    <tr>\n",
       "      <th>2730</th>\n",
       "      <td>11-Sep-23</td>\n",
       "      <td>11-Sep-23</td>\n",
       "      <td>Finished</td>\n",
       "      <td>17:00 - 17:59</td>\n",
       "      <td>GRIMSTONE, Anna (Dr)</td>\n",
       "      <td>GRIMSTONE, Anna (Dr)</td>\n",
       "      <td>Health Partners at VM GP</td>\n",
       "      <td>25144018</td>\n",
       "      <td>NaN</td>\n",
       "    </tr>\n",
       "    <tr>\n",
       "      <th>2731</th>\n",
       "      <td>11-Sep-23</td>\n",
       "      <td>11-Sep-23</td>\n",
       "      <td>Finished</td>\n",
       "      <td>17:00 - 17:59</td>\n",
       "      <td>DOBSON, Anna (Miss)</td>\n",
       "      <td>GRIMSTONE, Anna (Dr)</td>\n",
       "      <td>Health Partners at VM GP</td>\n",
       "      <td>25144018</td>\n",
       "      <td>NaN</td>\n",
       "    </tr>\n",
       "  </tbody>\n",
       "</table>\n",
       "<p>2732 rows × 9 columns</p>\n",
       "</div>"
      ],
      "text/plain": [
       "     Appointment booked date Appointment date Appointment status  \\\n",
       "0                  08-Aug-23        21-Aug-23           Finished   \n",
       "1                  09-Aug-23        22-Aug-23           Finished   \n",
       "2                  10-Aug-23        22-Aug-23           Finished   \n",
       "3                  11-Aug-23        05-Sep-23           Finished   \n",
       "4                  14-Aug-23        21-Aug-23           Finished   \n",
       "...                      ...              ...                ...   \n",
       "2727               11-Sep-23        11-Sep-23           Finished   \n",
       "2728               11-Sep-23        11-Sep-23           Finished   \n",
       "2729               11-Sep-23        11-Sep-23           Finished   \n",
       "2730               11-Sep-23        11-Sep-23           Finished   \n",
       "2731               11-Sep-23        11-Sep-23           Finished   \n",
       "\n",
       "     Appointment time                         Booked by  \\\n",
       "0       15:00 - 15:59          HAYNES, Madeleine (Miss)   \n",
       "1       14:00 - 14:59          HAYNES, Madeleine (Miss)   \n",
       "2       16:00 - 16:59           EDUVIE, Savannah (Miss)   \n",
       "3       14:00 - 14:59  RAHMAN, Saidur (IT/ Informatics)   \n",
       "4       09:00 - 09:59         PARMAR, Priti (Reception)   \n",
       "...               ...                               ...   \n",
       "2727    17:00 - 17:59         PARMAR, Priti (Reception)   \n",
       "2728    17:00 - 17:59               SAFI, Khushhal (Mr)   \n",
       "2729    17:00 - 17:59              GRIMSTONE, Anna (Dr)   \n",
       "2730    17:00 - 17:59              GRIMSTONE, Anna (Dr)   \n",
       "2731    17:00 - 17:59               DOBSON, Anna (Miss)   \n",
       "\n",
       "                      Clinician                    Rota type  Patient ID  \\\n",
       "0     JALILOVA, Gulshan (Nurse)  Health Partners at VM Nurse    47490525   \n",
       "1     JALILOVA, Gulshan (Nurse)  Health Partners at VM Nurse    47483285   \n",
       "2     JALILOVA, Gulshan (Nurse)  Health Partners at VM Nurse    47489000   \n",
       "3           SAFI, Khushhal (Mr)    Health Partners at VM HCA    48462081   \n",
       "4     JALILOVA, Gulshan (Nurse)  Health Partners at VM Nurse    55204923   \n",
       "...                         ...                          ...         ...   \n",
       "2727       SQUIER, William (Dr)     Health Partners at VM GP    51076247   \n",
       "2728       GRIMSTONE, Anna (Dr)     Health Partners at VM GP    47482443   \n",
       "2729       GRIMSTONE, Anna (Dr)     Health Partners at VM GP    47488807   \n",
       "2730       GRIMSTONE, Anna (Dr)     Health Partners at VM GP    25144018   \n",
       "2731       GRIMSTONE, Anna (Dr)     Health Partners at VM GP    25144018   \n",
       "\n",
       "     Model_Prediction  \n",
       "0                 NaN  \n",
       "1                 NaN  \n",
       "2                 NaN  \n",
       "3                   ❌  \n",
       "4                 NaN  \n",
       "...               ...  \n",
       "2727              NaN  \n",
       "2728                ❌  \n",
       "2729              NaN  \n",
       "2730              NaN  \n",
       "2731              NaN  \n",
       "\n",
       "[2732 rows x 9 columns]"
      ]
     },
     "execution_count": 86,
     "metadata": {},
     "output_type": "execute_result"
    }
   ],
   "source": [
    "data"
   ]
  },
  {
   "cell_type": "code",
   "execution_count": null,
   "id": "9bee2891",
   "metadata": {},
   "outputs": [],
   "source": []
  },
  {
   "cell_type": "code",
   "execution_count": null,
   "id": "1bb92350",
   "metadata": {},
   "outputs": [],
   "source": []
  },
  {
   "cell_type": "markdown",
   "id": "6a2b0402",
   "metadata": {},
   "source": [
    "<div class='alert' style='background-color: #273333; color: #E5E7E8; padding:12px 12px; border-radius:15px; font-size:16px;'><B>📧 Auto Email</B> Module</div>"
   ]
  },
  {
   "cell_type": "code",
   "execution_count": 164,
   "id": "65bc11ac",
   "metadata": {
    "scrolled": false
   },
   "outputs": [
    {
     "name": "stdout",
     "output_type": "stream",
     "text": [
      "\n",
      "▶️ Select Scaler + Model:\n",
      "1. jan_scaler_17sept23 + model16sept23_jan\n",
      "2. Jan Backup 22 Sept 9am\n",
      "3. Gentle Water undersample 0.15\n",
      "Enter Selection: 1\n",
      "\n",
      "70/70 [==============================] - 0s 439us/step\n",
      "No shows Predicted at 0.5 threshold: 27\n",
      "No shows Predicted at 0.6 threshold: 71\n",
      "No shows Predicted at 0.7 threshold: 147\n",
      "No shows Predicted at 0.8 threshold: 264\n",
      "Select a Threshold: 0.5\n",
      "❌ Original Class Labels\n"
     ]
    },
    {
     "data": {
      "text/html": [
       "<div>\n",
       "<style scoped>\n",
       "    .dataframe tbody tr th:only-of-type {\n",
       "        vertical-align: middle;\n",
       "    }\n",
       "\n",
       "    .dataframe tbody tr th {\n",
       "        vertical-align: top;\n",
       "    }\n",
       "\n",
       "    .dataframe thead th {\n",
       "        text-align: right;\n",
       "    }\n",
       "</style>\n",
       "<table border=\"1\" class=\"dataframe\">\n",
       "  <thead>\n",
       "    <tr style=\"text-align: right;\">\n",
       "      <th></th>\n",
       "      <th>Patient ID</th>\n",
       "      <th>Model_Prediction</th>\n",
       "    </tr>\n",
       "  </thead>\n",
       "  <tbody>\n",
       "    <tr>\n",
       "      <th>3</th>\n",
       "      <td>48462081</td>\n",
       "      <td>0</td>\n",
       "    </tr>\n",
       "    <tr>\n",
       "      <th>49</th>\n",
       "      <td>47487882</td>\n",
       "      <td>0</td>\n",
       "    </tr>\n",
       "    <tr>\n",
       "      <th>55</th>\n",
       "      <td>47476113</td>\n",
       "      <td>0</td>\n",
       "    </tr>\n",
       "    <tr>\n",
       "      <th>115</th>\n",
       "      <td>31837792</td>\n",
       "      <td>0</td>\n",
       "    </tr>\n",
       "    <tr>\n",
       "      <th>116</th>\n",
       "      <td>47495542</td>\n",
       "      <td>0</td>\n",
       "    </tr>\n",
       "    <tr>\n",
       "      <th>134</th>\n",
       "      <td>38658723</td>\n",
       "      <td>0</td>\n",
       "    </tr>\n",
       "    <tr>\n",
       "      <th>171</th>\n",
       "      <td>59397017</td>\n",
       "      <td>0</td>\n",
       "    </tr>\n",
       "    <tr>\n",
       "      <th>364</th>\n",
       "      <td>47483732</td>\n",
       "      <td>0</td>\n",
       "    </tr>\n",
       "    <tr>\n",
       "      <th>497</th>\n",
       "      <td>47483166</td>\n",
       "      <td>0</td>\n",
       "    </tr>\n",
       "    <tr>\n",
       "      <th>498</th>\n",
       "      <td>18754381</td>\n",
       "      <td>0</td>\n",
       "    </tr>\n",
       "    <tr>\n",
       "      <th>504</th>\n",
       "      <td>25662780</td>\n",
       "      <td>0</td>\n",
       "    </tr>\n",
       "    <tr>\n",
       "      <th>639</th>\n",
       "      <td>47483642</td>\n",
       "      <td>0</td>\n",
       "    </tr>\n",
       "    <tr>\n",
       "      <th>641</th>\n",
       "      <td>47463898</td>\n",
       "      <td>0</td>\n",
       "    </tr>\n",
       "    <tr>\n",
       "      <th>663</th>\n",
       "      <td>49375420</td>\n",
       "      <td>0</td>\n",
       "    </tr>\n",
       "    <tr>\n",
       "      <th>1152</th>\n",
       "      <td>47482023</td>\n",
       "      <td>0</td>\n",
       "    </tr>\n",
       "    <tr>\n",
       "      <th>1153</th>\n",
       "      <td>22815064</td>\n",
       "      <td>0</td>\n",
       "    </tr>\n",
       "    <tr>\n",
       "      <th>1307</th>\n",
       "      <td>47483730</td>\n",
       "      <td>0</td>\n",
       "    </tr>\n",
       "    <tr>\n",
       "      <th>1322</th>\n",
       "      <td>28315626</td>\n",
       "      <td>0</td>\n",
       "    </tr>\n",
       "    <tr>\n",
       "      <th>1465</th>\n",
       "      <td>47490431</td>\n",
       "      <td>0</td>\n",
       "    </tr>\n",
       "    <tr>\n",
       "      <th>1776</th>\n",
       "      <td>47554446</td>\n",
       "      <td>0</td>\n",
       "    </tr>\n",
       "    <tr>\n",
       "      <th>2044</th>\n",
       "      <td>28073799</td>\n",
       "      <td>0</td>\n",
       "    </tr>\n",
       "  </tbody>\n",
       "</table>\n",
       "</div>"
      ],
      "text/plain": [
       "      Patient ID  Model_Prediction\n",
       "3       48462081                 0\n",
       "49      47487882                 0\n",
       "55      47476113                 0\n",
       "115     31837792                 0\n",
       "116     47495542                 0\n",
       "134     38658723                 0\n",
       "171     59397017                 0\n",
       "364     47483732                 0\n",
       "497     47483166                 0\n",
       "498     18754381                 0\n",
       "504     25662780                 0\n",
       "639     47483642                 0\n",
       "641     47463898                 0\n",
       "663     49375420                 0\n",
       "1152    47482023                 0\n",
       "1153    22815064                 0\n",
       "1307    47483730                 0\n",
       "1322    28315626                 0\n",
       "1465    47490431                 0\n",
       "1776    47554446                 0\n",
       "2044    28073799                 0"
      ]
     },
     "metadata": {},
     "output_type": "display_data"
    },
    {
     "name": "stdout",
     "output_type": "stream",
     "text": [
      "(21, 2)\n",
      "99\n",
      "53\n"
     ]
    }
   ],
   "source": [
    "data = final_predict('HPVM')"
   ]
  },
  {
   "cell_type": "code",
   "execution_count": 165,
   "id": "8a520b31",
   "metadata": {},
   "outputs": [
    {
     "name": "stderr",
     "output_type": "stream",
     "text": [
      "/var/folders/0l/kzz8m3n52cs0d9lhcjh_yxqm0000gn/T/ipykernel_9805/1207756429.py:15: FutureWarning: In a future version of pandas all arguments of DataFrame.pivot will be keyword-only.\n",
      "  heatmap_data = heatmap_data.pivot('Clinician', 'Appointment date', 'Counts')\n"
     ]
    },
    {
     "data": {
      "text/plain": [
       "<Axes: xlabel='Appointment date', ylabel='Clinician'>"
      ]
     },
     "execution_count": 165,
     "metadata": {},
     "output_type": "execute_result"
    },
    {
     "data": {
      "image/png": "[encoded data removed]",
      "text/plain": [
       "<Figure size 640x480 with 2 Axes>"
      ]
     },
     "metadata": {},
     "output_type": "display_data"
    }
   ],
   "source": [
    "import seaborn as sns\n",
    "import pandas as pd\n",
    "\n",
    "# Assuming your DataFrame is called 'data'\n",
    "# Convert 'Appointment date' to datetime format\n",
    "data['Appointment date'] = pd.to_datetime(data['Appointment date'])\n",
    "\n",
    "# Keep only the date portion (this will remove time, if any)\n",
    "data['Appointment date'] = data['Appointment date'].dt.date\n",
    "\n",
    "# Create the heatmap data by grouping by 'Clinician' and 'Appointment date'\n",
    "heatmap_data = data[data['Model_Prediction'] == 'Predicted DNA'].groupby(['Clinician', 'Appointment date']).size().reset_index(name='Counts')\n",
    "\n",
    "# Pivot the DataFrame so that 'Clinician' is on the Y-axis and 'Appointment date' is on the X-axis\n",
    "heatmap_data = heatmap_data.pivot('Clinician', 'Appointment date', 'Counts')\n",
    "\n",
    "# Plot the heatmap\n",
    "sns.heatmap(heatmap_data, cmap=\"Blues\", annot=True)  # annot=True will display the counts on each cell of the heatmap\n"
   ]
  },
  {
   "cell_type": "code",
   "execution_count": null,
   "id": "798fc7dc",
   "metadata": {},
   "outputs": [],
   "source": []
  }
 ],
 "metadata": {
  "hide_input": false,
  "kernelspec": {
   "display_name": "Python 3 (ipykernel)",
   "language": "python",
   "name": "python3"
  },
  "language_info": {
   "codemirror_mode": {
    "name": "ipython",
    "version": 3
   },
   "file_extension": ".py",
   "mimetype": "text/x-python",
   "name": "python",
   "nbconvert_exporter": "python",
   "pygments_lexer": "ipython3",
   "version": "3.10.6"
  },
  "toc": {
   "base_numbering": 1,
   "nav_menu": {},
   "number_sections": true,
   "sideBar": true,
   "skip_h1_title": false,
   "title_cell": "Table of Contents",
   "title_sidebar": "Contents",
   "toc_cell": false,
   "toc_position": {},
   "toc_section_display": true,
   "toc_window_display": false
  }
 },
 "nbformat": 4,
 "nbformat_minor": 5
}
